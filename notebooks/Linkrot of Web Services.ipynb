{
 "cells": [
  {
   "cell_type": "markdown",
   "metadata": {},
   "source": [
    "### Linkrot check of known web service URLs\n",
    "\n",
    "Starting with any OGC or OpenSearch (9,379 responses)."
   ]
  },
  {
   "cell_type": "code",
   "execution_count": 2,
   "metadata": {
    "collapsed": true
   },
   "outputs": [],
   "source": [
    "import json as js  # name conflict with sqla\n",
    "import sqlalchemy as sqla\n",
    "from sqlalchemy.orm import sessionmaker\n",
    "from sqlalchemy.dialects.postgresql import *\n",
    "from sqlalchemy import and_\n",
    "from mpp.models import Response\n",
    "from datetime import datetime\n",
    "import requests"
   ]
  },
  {
   "cell_type": "code",
   "execution_count": 3,
   "metadata": {
    "collapsed": true
   },
   "outputs": [],
   "source": [
    "# load the postgres connection file\n",
    "with open('../local/big_rds.conf', 'r') as f:\n",
    "    conf = js.loads(f.read())\n",
    "\n",
    "# our connection\n",
    "engine = sqla.create_engine(conf.get('connection'))\n",
    "Session = sessionmaker()\n",
    "Session.configure(bind=engine)\n",
    "session = Session()"
   ]
  },
  {
   "cell_type": "code",
   "execution_count": 4,
   "metadata": {
    "collapsed": true
   },
   "outputs": [],
   "source": [
    "def head(url):\n",
    "    # return the status code, redirect url and error\n",
    "    try:\n",
    "        rsp = requests.head(url, timeout=30)\n",
    "        return rsp.status_code, rsp.url, ''\n",
    "    except Exception as ex:\n",
    "        return 900, '', str(ex).replace(',', ';').replace('\\n', ' ')\n",
    "    \n",
    "def get(url):\n",
    "    try:\n",
    "        rsp = requests.get(url, timeout=30)\n",
    "        return rsp.status_code, rsp.url, ''\n",
    "    except Exception as ex:\n",
    "        return 900, '', str(ex).replace(',', ';').replace('\\n', ' ')"
   ]
  },
  {
   "cell_type": "code",
   "execution_count": 4,
   "metadata": {
    "collapsed": true
   },
   "outputs": [],
   "source": [
    "sql = \"\"\"\n",
    "with i\n",
    "as (\n",
    "    select d.response_id, jsonb_array_elements(d.identity::jsonb) ident\n",
    "    from identities d\n",
    "    where d.identity is not null\n",
    ")\n",
    "\n",
    "select r.id, r.source_url, r.initial_harvest_date, i.ident->'protocol' as protocol\n",
    "from responses r join i on i.response_id = r.id\n",
    "where i.ident->>'protocol' != 'FGDC' and i.ident->>'protocol' != 'ISO';\n",
    "\"\"\""
   ]
  },
  {
   "cell_type": "code",
   "execution_count": 11,
   "metadata": {
    "collapsed": false
   },
   "outputs": [],
   "source": [
    "with open('outputs/webservice_linkrot.csv', 'w') as f:\n",
    "    f.write('response_id, status, redirect, error, date_verified\\n')\n",
    "\n",
    "cnt = 0\n",
    "for response_id, source_url, harvest_date, protocol in session.execute(sql):\n",
    "    status, redirect, error = head(source_url)\n",
    "    \n",
    "    with open('outputs/webservice_linkrot.csv', 'a') as f:\n",
    "        f.write(','.join([str(response_id), str(status), redirect, error, datetime.now().isoformat()])+'\\n')\n",
    "\n",
    "    cnt += 1\n",
    "    \n",
    "    if cnt % 1000 == 0:\n",
    "        print 'completed', cnt\n",
    "    "
   ]
  },
  {
   "cell_type": "markdown",
   "metadata": {
    "collapsed": false
   },
   "source": [
    "## Revising for OGC\n",
    "\n",
    "Some systems don't respond correctly to HEAD requests (400s instead of the 200 for the GET)."
   ]
  },
  {
   "cell_type": "code",
   "execution_count": 6,
   "metadata": {
    "collapsed": false
   },
   "outputs": [
    {
     "name": "stdout",
     "output_type": "stream",
     "text": [
      "completed 100\n",
      "completed 200\n",
      "completed 300\n",
      "completed 400\n",
      "completed 500\n",
      "completed 600\n",
      "completed 700\n",
      "completed 800\n",
      "completed 900\n",
      "completed 1000\n",
      "completed 1100\n",
      "completed 1200\n",
      "completed 1300\n",
      "completed 1400\n",
      "completed 1500\n",
      "completed 1600\n"
     ]
    }
   ],
   "source": [
    "sql = \"\"\"\n",
    "with i\n",
    "as (\n",
    "    select d.response_id, jsonb_array_elements(d.identity::jsonb) ident\n",
    "    from identities d\n",
    "    where d.identity is not null\n",
    ")\n",
    "\n",
    "select r.id,\n",
    "  r.source_url,\n",
    "  r.initial_harvest_date, 'OGC' as protocol\n",
    "from responses r join i on r.id = i.response_id\n",
    "  join service_linkrot s on s.response_id = r.id\n",
    "where i.ident->>'protocol' = 'OGC' and round(s.status, -2) > 200 and round(s.status, -2) < 900;\n",
    "\"\"\"\n",
    "\n",
    "with open('outputs/webservice_ogc_linkrot.csv', 'w') as f:\n",
    "    f.write('response_id, status, redirect, error, date_verified\\n')\n",
    "\n",
    "cnt = 0\n",
    "for response_id, source_url, harvest_date, protocol in session.execute(sql):\n",
    "    status, redirect, error = get(source_url)\n",
    "\n",
    "    \n",
    "    with open('outputs/webservice_ogc_linkrot.csv', 'a') as f:\n",
    "        f.write(','.join([str(response_id), str(status), '\"{0}\"'.format(redirect), '\"{0}\"'.format(error.replace('\"', \"'\")), datetime.now().isoformat()])+'\\n')\n",
    "\n",
    "    cnt += 1\n",
    "    \n",
    "    if cnt % 100 == 0:\n",
    "        print 'completed', cnt"
   ]
  },
  {
   "cell_type": "code",
   "execution_count": null,
   "metadata": {
    "collapsed": true
   },
   "outputs": [],
   "source": [
    "# TODO: update the previous linkrot records with the new results\n",
    "# regenerate the pivot tables "
   ]
  }
 ],
 "metadata": {
  "kernelspec": {
   "display_name": "Python 2",
   "language": "python",
   "name": "python2"
  },
  "language_info": {
   "codemirror_mode": {
    "name": "ipython",
    "version": 2
   },
   "file_extension": ".py",
   "mimetype": "text/x-python",
   "name": "python",
   "nbconvert_exporter": "python",
   "pygments_lexer": "ipython2",
   "version": "2.7.10"
  }
 },
 "nbformat": 4,
 "nbformat_minor": 0
}
