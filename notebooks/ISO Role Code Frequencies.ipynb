{
 "cells": [
  {
   "cell_type": "markdown",
   "metadata": {},
   "source": [
    "### Role Code Frequencies\n",
    "\n",
    "So role code, role code source and qualified path (where in the ISO is it) for any Responsible Party, ie, contact, block.\n",
    "\n",
    "So how many publishers in a data identification citation block?"
   ]
  },
  {
   "cell_type": "code",
   "execution_count": 1,
   "metadata": {
    "collapsed": true
   },
   "outputs": [],
   "source": [
    "%reload_ext autoreload\n",
    "%autoreload 2\n",
    "\n",
    "import os\n",
    "import json\n",
    "from lxml import etree\n",
    "from semproc.rawresponse import RawResponse\n",
    "from semproc.xml_utils import extract_elems\n",
    "\n",
    "def convert_header_list(headers):\n",
    "    return dict(\n",
    "        (k.strip().lower(), v.strip()) for k, v in (\n",
    "            h.split(':', 1) for h in headers)\n",
    "    )"
   ]
  },
  {
   "cell_type": "code",
   "execution_count": 2,
   "metadata": {
    "collapsed": true
   },
   "outputs": [],
   "source": [
    "xp = ['//*', 'CI_ResponsibleParty', 'role', 'CI_RoleCode']"
   ]
  },
  {
   "cell_type": "code",
   "execution_count": 13,
   "metadata": {
    "collapsed": true
   },
   "outputs": [],
   "source": [
    "def generate_qualified_xpath(elem):\n",
    "    tags = [elem.tag.split('}')[-1]] + [e.tag.split('}')[-1] for e in elem.iterancestors()]\n",
    "    index = tags.index('CI_ResponsibleParty')\n",
    "    tags = tags[index+1:]\n",
    "    tags.reverse()\n",
    "    return '/'.join(tags)"
   ]
  },
  {
   "cell_type": "code",
   "execution_count": 15,
   "metadata": {
    "collapsed": false
   },
   "outputs": [],
   "source": [
    "# i am going to cheat a bit here. just look\n",
    "# at the responses that included an iso standard and version\n",
    "# element. if it quacks like a duck....\n",
    "\n",
    "'''\n",
    "<gmd:role>\n",
    "    <gmd:CI_RoleCode \n",
    "        codeList=\"http://www.ngdc.noaa.gov/metadata/published/xsd/schema/resources/Codelist/gmxCodelists.xml#CI_RoleCode\" \n",
    "        codeListValue=\"pointOfContact\">pointOfContact</gmd:CI_RoleCode>\n",
    "</gmd:role>\n",
    "'''\n",
    "\n",
    "with open('outputs/iso_versions_by_response.txt', 'r') as f:\n",
    "    responses = f.readlines()\n",
    "responses = [d.split(', Standard: ')[0].replace('File: ', '').strip() for d in responses[1:] if d]\n",
    "\n",
    "ROLE_PATH = 'outputs/rolecodes.txt'\n",
    "with open(ROLE_PATH, 'w') as f:\n",
    "    f.write('file,codelist,codevalue,text,xpath\\n')\n",
    "\n",
    "for r in responses:\n",
    "    with open(os.path.join('/Users/sparky/Documents/solr_responses/solr_20150922_docs/', r), 'r') as g:\n",
    "        data = json.loads(g.read())\n",
    "    \n",
    "    response = data.get('raw_content')\n",
    "    headers = convert_header_list(data.get('response_headers', []))\n",
    "    content_type = headers.get('content-type', '')\n",
    "    \n",
    "    rr = RawResponse(response, content_type)\n",
    "    try:\n",
    "        content = rr.clean_raw_content()\n",
    "    except:\n",
    "        print 'FAILED ', f\n",
    "        continue\n",
    "\n",
    "    if rr.datatype != 'xml':\n",
    "        continue\n",
    "    \n",
    "    try:\n",
    "        xml = etree.fromstring(content)\n",
    "    except:\n",
    "        continue\n",
    "    \n",
    "    # let's sort out the role codes\n",
    "    for role_elem in extract_elems(xml, xp):\n",
    "        codelist = role_elem.attrib.get('codeList', '')\n",
    "        codelist_value = role_elem.attrib.get('codeListValue', '')\n",
    "        code_text = role_elem.text\n",
    "        code_text = code_text.strip() if code_text is not None else ''\n",
    "        \n",
    "        # generate the path\n",
    "        tags = generate_qualified_xpath(role_elem)\n",
    "        \n",
    "        with open(ROLE_PATH, 'a') as g:\n",
    "            g.write(','.join([r.replace('.json', ''), codelist, codelist_value, code_text, tags]) +'\\n')\n",
    "        \n",
    "        \n",
    "        "
   ]
  },
  {
   "cell_type": "code",
   "execution_count": null,
   "metadata": {
    "collapsed": true
   },
   "outputs": [],
   "source": []
  }
 ],
 "metadata": {
  "kernelspec": {
   "display_name": "Python 2",
   "language": "python",
   "name": "python2"
  },
  "language_info": {
   "codemirror_mode": {
    "name": "ipython",
    "version": 2
   },
   "file_extension": ".py",
   "mimetype": "text/x-python",
   "name": "python",
   "nbconvert_exporter": "python",
   "pygments_lexer": "ipython2",
   "version": "2.7.10"
  }
 },
 "nbformat": 4,
 "nbformat_minor": 0
}
