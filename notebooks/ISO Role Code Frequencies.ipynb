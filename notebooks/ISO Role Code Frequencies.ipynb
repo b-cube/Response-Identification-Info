{
 "cells": [
  {
   "cell_type": "markdown",
   "metadata": {},
   "source": [
    "### Role Code Frequencies\n",
    "\n",
    "So role code, role code source and qualified path (where in the ISO is it) for any Responsible Party, ie, contact, block.\n",
    "\n",
    "So how many publishers in a data identification citation block?"
   ]
  },
  {
   "cell_type": "code",
   "execution_count": 1,
   "metadata": {
    "collapsed": true
   },
   "outputs": [],
   "source": [
    "%reload_ext autoreload\n",
    "%autoreload 2\n",
    "\n",
    "import os\n",
    "import json\n",
    "from lxml import etree\n",
    "from semproc.rawresponse import RawResponse\n",
    "from semproc.xml_utils import extract_elems\n",
    "import urlparse\n",
    "\n",
    "def convert_header_list(headers):\n",
    "    return dict(\n",
    "        (k.strip().lower(), v.strip()) for k, v in (\n",
    "            h.split(':', 1) for h in headers)\n",
    "    )"
   ]
  },
  {
   "cell_type": "code",
   "execution_count": 2,
   "metadata": {
    "collapsed": true
   },
   "outputs": [],
   "source": [
    "xp = ['//*', 'CI_ResponsibleParty', 'role', 'CI_RoleCode']"
   ]
  },
  {
   "cell_type": "code",
   "execution_count": 3,
   "metadata": {
    "collapsed": true
   },
   "outputs": [],
   "source": [
    "def generate_qualified_xpath(elem):\n",
    "    tags = [elem.tag.split('}')[-1]] + [e.tag.split('}')[-1] for e in elem.iterancestors()]\n",
    "    index = tags.index('CI_ResponsibleParty')\n",
    "    tags = tags[index+1:]\n",
    "    tags.reverse()\n",
    "    return '/'.join(tags)"
   ]
  },
  {
   "cell_type": "code",
   "execution_count": 5,
   "metadata": {
    "collapsed": false
   },
   "outputs": [],
   "source": [
    "# i am going to cheat a bit here. just look\n",
    "# at the responses that included an iso standard and version\n",
    "# element. if it quacks like a duck....\n",
    "\n",
    "'''\n",
    "<gmd:role>\n",
    "    <gmd:CI_RoleCode \n",
    "        codeList=\"http://www.ngdc.noaa.gov/metadata/published/xsd/schema/resources/Codelist/gmxCodelists.xml#CI_RoleCode\" \n",
    "        codeListValue=\"pointOfContact\">pointOfContact</gmd:CI_RoleCode>\n",
    "</gmd:role>\n",
    "'''\n",
    "\n",
    "with open('outputs/iso_versions_by_response.txt', 'r') as f:\n",
    "    responses = f.readlines()\n",
    "responses = [d.split(', Standard: ')[0].replace('File: ', '').strip() for d in responses[1:] if d]\n",
    "\n",
    "ROLE_PATH = 'outputs/rolecodes.txt'\n",
    "with open(ROLE_PATH, 'w') as f:\n",
    "    f.write('file,codelist,codelist_value,xpath\\n')\n",
    "\n",
    "for r in responses:\n",
    "    with open(os.path.join('/Users/sparky/Documents/solr_responses/solr_20150922_docs/', r), 'r') as g:\n",
    "        data = json.loads(g.read())\n",
    "    \n",
    "    response = data.get('raw_content')\n",
    "    headers = convert_header_list(data.get('response_headers', []))\n",
    "    content_type = headers.get('content-type', '')\n",
    "    \n",
    "    rr = RawResponse(response, content_type)\n",
    "    try:\n",
    "        content = rr.clean_raw_content()\n",
    "    except:\n",
    "        print 'FAILED ', f\n",
    "        continue\n",
    "\n",
    "    if rr.datatype != 'xml':\n",
    "        continue\n",
    "    \n",
    "    try:\n",
    "        xml = etree.fromstring(content)\n",
    "    except:\n",
    "        continue\n",
    "    \n",
    "    # let's sort out the role codes\n",
    "    for role_elem in extract_elems(xml, xp):\n",
    "        codelist = role_elem.attrib.get('codeList', 'NONE').strip()\n",
    "        codelist_value = role_elem.attrib.get('codeListValue', 'NONE').strip()\n",
    "        \n",
    "        # generate the path\n",
    "        tags = generate_qualified_xpath(role_elem)\n",
    "        tags = tags.strip() if tags else 'NONE'\n",
    "        \n",
    "        with open(ROLE_PATH, 'a') as g:\n",
    "            g.write(','.join([r.replace('.json', ''), codelist, codelist_value, tags]) +'\\n')\n",
    "        \n",
    "        \n",
    "        "
   ]
  },
  {
   "cell_type": "code",
   "execution_count": 4,
   "metadata": {
    "collapsed": true
   },
   "outputs": [],
   "source": [
    "# run the same with the host included\n",
    "with open('outputs/iso_versions_by_response.txt', 'r') as f:\n",
    "    responses = f.readlines()\n",
    "responses = [d.split(', Standard: ')[0].replace('File: ', '').strip() for d in responses[1:] if d]\n",
    "\n",
    "ROLE_PATH = 'outputs/rolecodes_by_host.txt'\n",
    "with open(ROLE_PATH, 'w') as f:\n",
    "    f.write('file,host,codelist,codelist_value,xpath\\n')\n",
    "\n",
    "for r in responses:\n",
    "    with open(os.path.join('/Users/sparky/Documents/solr_responses/solr_20150922_docs/', r), 'r') as g:\n",
    "        data = json.loads(g.read())\n",
    "    \n",
    "    response = data.get('raw_content')\n",
    "    headers = convert_header_list(data.get('response_headers', []))\n",
    "    content_type = headers.get('content-type', '')\n",
    "    url = data.get('url')\n",
    "    host = urlparse.urlparse(url).netloc\n",
    "    \n",
    "    rr = RawResponse(response, content_type)\n",
    "    try:\n",
    "        content = rr.clean_raw_content()\n",
    "    except:\n",
    "        print 'FAILED ', f\n",
    "        continue\n",
    "\n",
    "    if rr.datatype != 'xml':\n",
    "        continue\n",
    "    \n",
    "    try:\n",
    "        xml = etree.fromstring(content)\n",
    "    except:\n",
    "        continue\n",
    "    \n",
    "    # let's sort out the role codes\n",
    "    for role_elem in extract_elems(xml, xp):\n",
    "        codelist = role_elem.attrib.get('codeList', 'NONE').strip()\n",
    "        codelist_value = role_elem.attrib.get('codeListValue', 'NONE').strip()\n",
    "        \n",
    "        # generate the path\n",
    "        tags = generate_qualified_xpath(role_elem)\n",
    "        tags = tags.strip() if tags else 'NONE'\n",
    "        \n",
    "        with open(ROLE_PATH, 'a') as g:\n",
    "            g.write(','.join([r.replace('.json', ''), host, codelist, codelist_value, tags]) +'\\n')\n",
    "        "
   ]
  },
  {
   "cell_type": "markdown",
   "metadata": {},
   "source": [
    "### Schema Location Verification\n",
    "\n",
    "Is it a local reference?\n",
    "\n",
    "Is it linkrot?"
   ]
  },
  {
   "cell_type": "code",
   "execution_count": 12,
   "metadata": {
    "collapsed": false
   },
   "outputs": [
    {
     "data": {
      "text/plain": [
       "['./resources/codeList.xml#CI_RoleCode,not HTTP',\n",
       " 'CI_RoleCode,not HTTP',\n",
       " 'file://Agi-s000001/afdelingen/GSMS/Extern/Applicaties_en_Tools/Databeheer/Metadata/GeoMDE_22/resources/customCodelists_new.xml#CI_RoleCode,not HTTP',\n",
       " 'file://Shr-ipvw-gpr001/metadatatools/Metadatamaker/config_bestanden/customCodelists.xml#CI_RoleCode,not HTTP',\n",
       " 'file://appconf.intranet.rws.nl/Appconf/metadatatools/Metadatamaker/config_bestanden/customCodelists.xml#CI_RoleCode,not HTTP',\n",
       " 'http://adl.brs.gov.au/anrdl/resources/codeList/codeList20120313.xml#CI_RoleCode,Exception',\n",
       " 'http://asdd.ga.gov.au/asdd/profileinfo/gmxCodelists.xml#CI_RoleCode,200',\n",
       " 'http://aws2.caris.com/sfs/schemas/iso/19139/20070417/resources/Codelist/gmxCodelists.xml#CI_RoleCode,200',\n",
       " 'http://data.daff.gov.au/anrdl/resources/codeList/codeList20120313.xml#CI_RoleCode,200',\n",
       " 'http://mdtranslator.adiwg.org/api/codelists?format=xml#CI_RoleCode,200',\n",
       " 'http://nap.geogratis.gc.ca/metadata/register/napMetadataRegister.xml#IC_90,200',\n",
       " 'http://schemas.opengis.net/iso/19139/20070417/resources/Codelist/gmxCodelists.xml#CI_RoleCode,404',\n",
       " 'http://standards.iso.org/iso/19139/resources/codelist/gmxCodelists.xml,200',\n",
       " 'http://standards.iso.org/iso/19139/resources/codelist/gmxCodelists.xml#CI_RoleCode,200',\n",
       " 'http://standards.iso.org/ittf/PubliclyAvailableStandards/ISO_19139_Schemas/resources/Codelist/ML_gmx Codelists.xml#CI_RoleCode,404',\n",
       " 'http://standards.iso.org/ittf/PubliclyAvailableStandards/ISO_19139_Schemas/resources/Codelist/ML_gmxCodelists.xml#CI_RoleCode,404',\n",
       " 'http://standards.iso.org/ittf/PubliclyAvailableStandards/ISO_19139_Schemas/resources/Codelist/ML_gmxCodelists.xml#MD_ScopeCode,404',\n",
       " 'http://standards.iso.org/ittf/PubliclyAvailableStandards/ISO_19139_Schemas/resources/Codelist/gmxCodelists.xml#CI_RoleCode,404',\n",
       " 'http://standards.iso.org/ittf/PubliclyAvailableStandards/ISO_19139_Schemas/resources/codelist/ML_gmxCodelists.xml#CI_RoleCode,200',\n",
       " 'http://standards.iso.org/ittf/PubliclyAvailableStandards/ISO_19139_Schemas/resources/codelist/gmxCodelists.xml#CI_RoleCode,200',\n",
       " 'http://vocab.nerc.ac.uk/isoCodelists/sdnCodelists/gmxCodeLists.xml#CI_RoleCode,200',\n",
       " 'http://webarchive.nationalarchives.gov.uk/20130402145952/http://standards.iso.org/ittf/PubliclyAvailableStandards/ISO_19139_Schemas/resources/Codelist/gmxCodelists.xml#CI_RoleCode,404',\n",
       " 'http://wis.wmo.int/2006/catalogues/gmxCodelists.xml#CI_RoleCode,200',\n",
       " 'http://www.isotc211.org/2005/resources/Codelist/gmxCodelists.xml#CI_RoleCode,200',\n",
       " 'http://www.isotc211.org/2005/resources/Codelist/gmxCodelists.xml#CI_RoleCode,200',\n",
       " 'http://www.isotc211.org/2005/resources/Codelist/gmxCodelists.xml#gmd:CI_RoleCode,200',\n",
       " 'http://www.isotc211.org/2005/resources/codeList.xml#CI_RoleCode,404',\n",
       " 'http://www.ngdc.noaa.gov/metadata/published/xsd/schema/resources/Codelist/gmxCodelists.xml#CI_RoleCode,200',\n",
       " 'http://www.ngdc.noaa.gov/metadata/published/xsd/schema/resources/Codelist/gmxCodelists.xml#gmd:CI_RoleCode,200',\n",
       " 'http://www.rijkswaterstaat.nl/apps/geoservices/help/metadata/customCodelists.xml#CI_RoleCode,200',\n",
       " 'https://www.sciencebase.gov/vocab/category/4f4e475ce4b07f02db47de84,200',\n",
       " 'sponsor,not HTTP',\n",
       " 'www.isotc211.org/2005/resources/Codelist/gmxCodelists.xml#CI_RoleCode,not HTTP']"
      ]
     },
     "execution_count": 12,
     "metadata": {},
     "output_type": "execute_result"
    }
   ],
   "source": [
    "import requests\n",
    "import csv\n",
    "\n",
    "responses = []\n",
    "\n",
    "with open('outputs/rolecodes_codelists.csv', 'rb') as csvfile:\n",
    "    reader = csv.reader(csvfile, delimiter=',')\n",
    "    for row in reader:\n",
    "        codelist = row[0].strip()\n",
    "        \n",
    "        if not codelist.startswith('http'):\n",
    "            responses.append('{0},not HTTP'.format(codelist))\n",
    "            continue\n",
    "\n",
    "        try:\n",
    "            rsp = requests.get(codelist)\n",
    "        except:\n",
    "            responses.append('{0},Exception'.format(codelist))\n",
    "            continue\n",
    "        \n",
    "        responses.append('{0},{1}'.format(codelist, rsp.status_code))\n",
    "        \n",
    "# forgot about the header today\n",
    "responses = responses[1:]\n",
    "responses"
   ]
  },
  {
   "cell_type": "code",
   "execution_count": 14,
   "metadata": {
    "collapsed": false
   },
   "outputs": [
    {
     "data": {
      "text/plain": [
       "7"
      ]
     },
     "execution_count": 14,
     "metadata": {},
     "output_type": "execute_result"
    }
   ],
   "source": [
    "len([r for r in responses if ',40' in r])"
   ]
  },
  {
   "cell_type": "markdown",
   "metadata": {},
   "source": [
    "7 of 33 file-based references.\n",
    "\n",
    "18 of 33 returned 200s.\n",
    "\n",
    "7 of 33 are 404s.\n",
    "\n",
    "1 failed request.\n"
   ]
  },
  {
   "cell_type": "markdown",
   "metadata": {
    "collapsed": true
   },
   "source": [
    "### Extracting any code list reference\n",
    "\n",
    "633,590 references. See the postgres for details."
   ]
  },
  {
   "cell_type": "code",
   "execution_count": 17,
   "metadata": {
    "collapsed": false
   },
   "outputs": [],
   "source": [
    "# run the same with the host included\n",
    "# xp = ['//*', '@codeList']\n",
    "\n",
    "def generate_qualified_xpath(elem):\n",
    "    tags = [elem.tag.split('}')[-1]] + [e.tag.split('}')[-1] for e in elem.iterancestors()]\n",
    "    tags.reverse()\n",
    "    return '/'.join(tags)\n",
    "\n",
    "with open('outputs/iso_versions_by_response.txt', 'r') as f:\n",
    "    responses = f.readlines()\n",
    "responses = [d.split(', Standard: ')[0].replace('File: ', '').strip() for d in responses[1:] if d]\n",
    "\n",
    "ROLE_PATH = 'outputs/all_codelists_by_host.txt'\n",
    "with open(ROLE_PATH, 'w') as f:\n",
    "    f.write('file,host,codelist,xpath\\n')\n",
    "\n",
    "for r in responses:\n",
    "    with open(os.path.join('/Users/sparky/Documents/solr_responses/solr_20150922_docs/', r), 'r') as g:\n",
    "        data = json.loads(g.read())\n",
    "    \n",
    "    response = data.get('raw_content')\n",
    "    headers = convert_header_list(data.get('response_headers', []))\n",
    "    content_type = headers.get('content-type', '')\n",
    "    url = data.get('url')\n",
    "    host = urlparse.urlparse(url).netloc\n",
    "    \n",
    "    rr = RawResponse(response, content_type)\n",
    "    try:\n",
    "        content = rr.clean_raw_content()\n",
    "    except:\n",
    "        print 'FAILED ', f\n",
    "        continue\n",
    "\n",
    "    if rr.datatype != 'xml':\n",
    "        continue\n",
    "    \n",
    "    try:\n",
    "        xml = etree.fromstring(content)\n",
    "    except:\n",
    "        continue\n",
    "    \n",
    "    # let's sort out the role codes\n",
    "    for role_elem in xml.xpath('//*[@codeList]'):\n",
    "        codelist = role_elem.attrib.get('codeList', 'NONE').strip()\n",
    "        \n",
    "        # generate the path\n",
    "        tags = generate_qualified_xpath(role_elem)\n",
    "        tags = tags.strip() if tags else 'NONE'\n",
    "        \n",
    "        with open(ROLE_PATH, 'a') as g:\n",
    "            g.write(','.join([r.replace('.json', ''), host, codelist, tags]) +'\\n')"
   ]
  },
  {
   "cell_type": "code",
   "execution_count": null,
   "metadata": {
    "collapsed": true
   },
   "outputs": [],
   "source": []
  }
 ],
 "metadata": {
  "kernelspec": {
   "display_name": "Python 2",
   "language": "python",
   "name": "python2"
  },
  "language_info": {
   "codemirror_mode": {
    "name": "ipython",
    "version": 2
   },
   "file_extension": ".py",
   "mimetype": "text/x-python",
   "name": "python",
   "nbconvert_exporter": "python",
   "pygments_lexer": "ipython2",
   "version": "2.7.10"
  }
 },
 "nbformat": 4,
 "nbformat_minor": 0
}
