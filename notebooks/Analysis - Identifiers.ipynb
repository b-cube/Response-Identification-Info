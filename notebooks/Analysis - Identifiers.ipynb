{
 "cells": [
  {
   "cell_type": "markdown",
   "metadata": {},
   "source": [
    "### Unique Identifier Extraction\n",
    "\n",
    "(currently notes)\n",
    "\n",
    "Anecdata - folks don't really comply with the URN spec but will include URN-like things.\n",
    "\n",
    "I don't have any plan for identifying things tagged as \"cool\" URIs but aren't full URLs. \n"
   ]
  },
  {
   "cell_type": "markdown",
   "metadata": {},
   "source": [
    "####URNs We Can't Identify\n",
    "\n",
    "Using some regex that is not really functional:\n",
    "\n",
    "```\n",
    "^([a-z0-9.#]{0,}:([a-z0-9][a-z0-9.-]{0,31}):[a-z0-9A-Z_()+,-.:=@;$!*\\'%/?#\\[\\]]+)\n",
    "```\n",
    "\n",
    "and that is expecting 3 parts.\n",
    "\n",
    "Not a URN (not saying they should be, either):\n",
    "\n",
    " - nlm:nlmuid-67840340R-bk\n",
    " - geonode:combined_tasks\n",
    " - gov.noaa.ngdc.stp.indices:G00587\n",
    " - gov.noaa.nmfs.inport:18623\n",
    "\n",
    " \n",
    " \n",
    "Things that are a URN according to the regex:\n",
    "\n",
    " - urn:nbn:nl:ui:13-01hb-3b (extracted from a rule set)\n",
    " - oai:easy.dans.knaw.nl:easy-dataset:53685 (coded as a url)\n",
    " - oai:www.mpi.nl:MPI110411\n",
    " - clarin.eu:cr1:p_1271859438204\n",
    " - urn:uuid:6426c02b-f2b1-4326-a767-2384c303faf3\n",
    " - oai:oai.datacite.org:1979342\n",
    " \n",
    " \n",
    " \n",
    " "
   ]
  },
  {
   "cell_type": "markdown",
   "metadata": {},
   "source": [
    "####More generally things that are awkward\n",
    "\n",
    "(We forgot whitespace in some string join effort):\n",
    "\n",
    "St1958-03-31T00:00:00-111.155555685007http://services.azgs.az.gov/OnlineAccessMineFiles/M-R/MilewidePima15.pdfDocument"
   ]
  },
  {
   "cell_type": "markdown",
   "metadata": {},
   "source": [
    "### About the Identifiers\n",
    "\n",
    "There are a couple of layers of extraction. There's a set of unqualified paths (they don't need to be the full path) for known identifier locations. We can't assume that these will conform to a unique udentifier specfication or structure but is being provided as some identifier by the publisher. We are taking that in good faith.\n",
    "\n",
    "\n",
    "**What it extracts**\n",
    "\n",
    "URLS: \n",
    "\n",
    "http://vmo.igpp.ucla.edu/data1/SAMBA/2004/Feb/S04043VLD1s.asc\n",
    "https://workspace.nottingham.ac.uk/pages/metadata/viewxml.action?pageId=132225079\n",
    "ftp://ftp.nmh.ac.uk/wdc/obsdata/1minval\n",
    "gsiftp://vetsman.ucar.edu:2811/\n",
    "\n",
    "\n",
    "Handles:\n",
    "\n",
    "http://hdl.handle.net/10022/AC:P:449\n",
    "\n",
    "\n",
    "DOIs:\n",
    "\n",
    "http://dx.doi.org/10.7916/D85B019G\n",
    "10.7916/D85B019G\n",
    "doi:10.5284/1017355\n",
    "\n",
    "\n",
    "Cool URIs:\n",
    "\n",
    "(a cool URI is pretty broad here - alphanumerics between forward slashes and a couple of select punctuation chars)\n",
    "\n",
    "samos/data/research/WTEP/2009/WTEP_20090509v30001.nc\n",
    "/opendap/hyrax/TRMM_L2/TRMM_2A23/2008/087/2A23.20080327.59048.7.HDF.Z\n",
    "\n",
    "URNs:\n",
    "\n",
    "SC:MOD17A2.005:2042282974\n",
    "urn:uuid:c813a42d-0385-4cf8-b415-3e7c3783afef\n",
    "\n",
    "\n",
    "UUIDs:\n",
    "\n",
    "0d0a763e-76af-4e24-a5fd-c3930de5bed8\n",
    "\n",
    "MD5s: \n",
    "\n",
    "cbb52feebe70d4d3821727b8d5dda65c\n",
    "\n",
    "\n",
    "Identifier from a defined xpath rule:\n",
    "\n",
    "gov.noaa.ngdc.sem.goes_xrs_g00036\n",
    "freezingHeightIndex\n",
    "V237\n"
   ]
  },
  {
   "cell_type": "code",
   "execution_count": null,
   "metadata": {
    "collapsed": true
   },
   "outputs": [],
   "source": []
  }
 ],
 "metadata": {
  "kernelspec": {
   "display_name": "Python 2",
   "language": "python",
   "name": "python2"
  },
  "language_info": {
   "codemirror_mode": {
    "name": "ipython",
    "version": 2
   },
   "file_extension": ".py",
   "mimetype": "text/x-python",
   "name": "python",
   "nbconvert_exporter": "python",
   "pygments_lexer": "ipython2",
   "version": "2.7.10"
  }
 },
 "nbformat": 4,
 "nbformat_minor": 0
}
