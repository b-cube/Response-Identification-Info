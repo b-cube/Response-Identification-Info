{
 "cells": [
  {
   "cell_type": "markdown",
   "metadata": {},
   "source": [
    "### Unique Identifier Extraction\n",
    "\n",
    "(currently notes)\n",
    "\n",
    "Anecdata - folks don't really comply with the URN spec but will include URN-like things.\n",
    "\n",
    "I don't have any plan for identifying things tagged as \"cool\" URIs but aren't full URLs. \n"
   ]
  },
  {
   "cell_type": "markdown",
   "metadata": {},
   "source": [
    "####URNs We Can't Identify\n",
    "\n",
    "Using some regex that is not really functional:\n",
    "\n",
    "```\n",
    "^([a-z0-9.#]{0,}:([a-z0-9][a-z0-9.-]{0,31}):[a-z0-9A-Z_()+,-.:=@;$!*\\'%/?#\\[\\]]+)\n",
    "```\n",
    "\n",
    "and that is expecting 3 parts.\n",
    "\n",
    "Not a URN (not saying they should be, either):\n",
    "\n",
    " - nlm:nlmuid-67840340R-bk\n",
    " - geonode:combined_tasks\n",
    " - gov.noaa.ngdc.stp.indices:G00587\n",
    " - gov.noaa.nmfs.inport:18623\n",
    "\n",
    " \n",
    " \n",
    "Things that are a URN according to the regex:\n",
    "\n",
    " - urn:nbn:nl:ui:13-01hb-3b (extracted from a rule set)\n",
    " - oai:easy.dans.knaw.nl:easy-dataset:53685 (coded as a url)\n",
    " - oai:www.mpi.nl:MPI110411\n",
    " - clarin.eu:cr1:p_1271859438204\n",
    " - urn:uuid:6426c02b-f2b1-4326-a767-2384c303faf3\n",
    " - oai:oai.datacite.org:1979342\n",
    " \n",
    " \n",
    " \n",
    " "
   ]
  },
  {
   "cell_type": "markdown",
   "metadata": {},
   "source": [
    "####More generally things that are awkward\n",
    "\n",
    "(We forgot whitespace in some string join effort):\n",
    "\n",
    "St1958-03-31T00:00:00-111.155555685007http://services.azgs.az.gov/OnlineAccessMineFiles/M-R/MilewidePima15.pdfDocument"
   ]
  },
  {
   "cell_type": "markdown",
   "metadata": {},
   "source": []
  }
 ],
 "metadata": {
  "kernelspec": {
   "display_name": "Python 2",
   "language": "python",
   "name": "python2"
  },
  "language_info": {
   "codemirror_mode": {
    "name": "ipython",
    "version": 2
   },
   "file_extension": ".py",
   "mimetype": "text/x-python",
   "name": "python",
   "nbconvert_exporter": "python",
   "pygments_lexer": "ipython2",
   "version": "2.7.10"
  }
 },
 "nbformat": 4,
 "nbformat_minor": 0
}
