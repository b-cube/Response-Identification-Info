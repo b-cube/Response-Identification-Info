{
 "cells": [
  {
   "cell_type": "markdown",
   "metadata": {},
   "source": [
    "For easy reference, documentation, non-developer access, this will unpack the contents of the identification configuration files into a table.\n",
    "\n",
    "The table structure:\n",
    "\n",
    "| Protocol | Name | Type | Signatures | Version Signatures | Exception Signatures |\n",
    "|:---------|:-----|:-----|:-----------|:-------------------|:---------------------|\n",
    "| - | - | metadata/service/dataset | substring or XPath filter for XML identification | substring or XPath filter for Version identification | substring or XPath filter for exceptions encoded as XML responses |\n",
    "\n",
    "For ease of use, particularly related to minor version changes, the XPaths do not include prefixed element names.\n",
    "\n",
    "To reduce dependencies (squishy, that), some code is ported from the semantics-preprocessing repo. Making every attempt to keep this tied to python deps only."
   ]
  },
  {
   "cell_type": "code",
   "execution_count": 1,
   "metadata": {
    "collapsed": false
   },
   "outputs": [
    {
     "data": {
      "text/plain": [
       "{'metadata': [{'filters': {'ands': [{'object': 'content',\n",
       "      'type': 'simple',\n",
       "      'value': 'http://www.openarchives.org/OAI/2.0/oai_dc/'},\n",
       "     {'object': 'content',\n",
       "      'type': 'xpath',\n",
       "      'value': '/*[local-name() = \"dc\"]'}]},\n",
       "   'name': 'DublinCore',\n",
       "   'versions': {'defaults': {'ors': [{'object': 'content',\n",
       "       'text': '2.0',\n",
       "       'type': 'simple',\n",
       "       'value': 'http://www.openarchives.org/OAI/2.0/oai_dc/'}]}}}],\n",
       " 'name': 'DC'}"
      ]
     },
     "execution_count": 1,
     "metadata": {},
     "output_type": "execute_result"
    }
   ],
   "source": [
    "import yaml\n",
    "import glob\n",
    "\n",
    "def import_yaml_configs(config_paths):\n",
    "    '''\n",
    "    merge a set of yaml config files so we can maintain\n",
    "    one set of identify structures for a protocol\n",
    "    '''\n",
    "\n",
    "    def _read(config_path):\n",
    "        with open(config_path, 'r') as f:\n",
    "            y = yaml.load(f.read())\n",
    "\n",
    "        return y\n",
    "\n",
    "    # the configs are just big lists\n",
    "    config = []\n",
    "    for config_path in config_paths:\n",
    "        config += _read(config_path)\n",
    "\n",
    "    return config\n",
    "\n",
    "yamls = glob.glob('../identification/configs/*_identifier.yaml')\n",
    "config = import_yaml_configs(yamls)\n",
    "\n",
    "config[0]"
   ]
  },
  {
   "cell_type": "code",
   "execution_count": null,
   "metadata": {
    "collapsed": true
   },
   "outputs": [],
   "source": []
  }
 ],
 "metadata": {
  "kernelspec": {
   "display_name": "Python 2",
   "language": "python",
   "name": "python2"
  },
  "language_info": {
   "codemirror_mode": {
    "name": "ipython",
    "version": 2
   },
   "file_extension": ".py",
   "mimetype": "text/x-python",
   "name": "python",
   "nbconvert_exporter": "python",
   "pygments_lexer": "ipython2",
   "version": "2.7.10"
  }
 },
 "nbformat": 4,
 "nbformat_minor": 0
}
