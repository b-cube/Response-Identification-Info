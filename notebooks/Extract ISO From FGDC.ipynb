{
 "cells": [
  {
   "cell_type": "markdown",
   "metadata": {},
   "source": [
    "Hunting for iso in the fgdc. Specifically CI_OnlineResources in the idinfo citations.\n",
    "\n",
    "I'm going to store the output in an appropriate way - with some XML in the JSON."
   ]
  },
  {
   "cell_type": "code",
   "execution_count": 1,
   "metadata": {
    "collapsed": true
   },
   "outputs": [],
   "source": [
    "%reload_ext autoreload\n",
    "%autoreload 2\n",
    "\n",
    "import json as js  # name conflict with sqla\n",
    "import sqlalchemy as sqla\n",
    "from sqlalchemy.orm import sessionmaker\n",
    "\n",
    "from mpp.models import Response\n",
    "\n",
    "from lxml import etree"
   ]
  },
  {
   "cell_type": "code",
   "execution_count": 2,
   "metadata": {
    "collapsed": true
   },
   "outputs": [],
   "source": [
    "def _extract_tag(t):\n",
    "    if not t:\n",
    "        return\n",
    "    return t.split('}')[-1]\n",
    "\n",
    "def _taggify(e):\n",
    "    tags = [e.tag] + [m.tag for m in e.iterancestors()]\n",
    "    tags.reverse()\n",
    "\n",
    "    try:\n",
    "        return [_extract_tag(t) for t in tags]\n",
    "    except:\n",
    "        return []\n",
    "\n",
    "def extract_resources(xml):\n",
    "    elems = xml.xpath('//*/CI_OnlineResource')\n",
    "    \n",
    "    for elem in elems:\n",
    "        tag = '/'.join(_taggify(elem))\n",
    "        resource = etree.tostring(elem)\n",
    "        yield tag, resource"
   ]
  },
  {
   "cell_type": "code",
   "execution_count": 3,
   "metadata": {
    "collapsed": true
   },
   "outputs": [],
   "source": [
    "# grab the clean text from the rds\n",
    "with open('../local/big_rds.conf', 'r') as f:\n",
    "    conf = js.loads(f.read())\n",
    "\n",
    "# our connection\n",
    "engine = sqla.create_engine(conf.get('connection'))\n",
    "Session = sessionmaker()\n",
    "Session.configure(bind=engine)\n",
    "session = Session()"
   ]
  },
  {
   "cell_type": "code",
   "execution_count": 4,
   "metadata": {
    "collapsed": true
   },
   "outputs": [],
   "source": [
    "sketchy_sql = '''with i\n",
    "as (\n",
    "    select d.response_id, jsonb_array_elements(d.identity::jsonb) ident\n",
    "    from identities d\n",
    "    where d.identity is not null\n",
    ")\n",
    "\n",
    "select r.id, r.cleaned_content\n",
    "from responses r join i on i.response_id = r.id\n",
    "where i.ident->>'protocol' = 'FGDC'\n",
    "limit %s\n",
    "offset %s;\n",
    "'''"
   ]
  },
  {
   "cell_type": "code",
   "execution_count": 21,
   "metadata": {
    "collapsed": true
   },
   "outputs": [],
   "source": [
    "session.rollback()"
   ]
  },
  {
   "cell_type": "code",
   "execution_count": null,
   "metadata": {
    "collapsed": false
   },
   "outputs": [],
   "source": [
    "with open('outputs/fgdc_with_iso.txt', 'w') as f:\n",
    "    f.write('[\\n')\n",
    "\n",
    "# s, e, i = 0, 10, 10\n",
    "s, e, i = 0, 26299, 100\n",
    "\n",
    "for x in xrange(s, e, i):\n",
    "    for response in session.execute(sketchy_sql % (i, x)):\n",
    "        \n",
    "        try:\n",
    "            xml = etree.fromstring(response['cleaned_content'].encode('utf-8'))\n",
    "        except:\n",
    "            print 'failed xml', response['id']\n",
    "            continue\n",
    "        \n",
    "        resources = [(t, c) for t, c in extract_resources(xml)]\n",
    "        \n",
    "        if resources:\n",
    "            with open('outputs/fgdc_with_iso.txt', 'a') as f:\n",
    "                f.write(js.dumps([{\"id\": response['id'], \"tags\": t, \"xml\": r} for t, r in resources]) + ',\\n')\n",
    "\n",
    "                \n",
    "with open('outputs/fgdc_with_iso.txt', 'a') as f:\n",
    "    f.write(']')"
   ]
  },
  {
   "cell_type": "code",
   "execution_count": null,
   "metadata": {
    "collapsed": true
   },
   "outputs": [],
   "source": []
  }
 ],
 "metadata": {
  "kernelspec": {
   "display_name": "Python 2",
   "language": "python",
   "name": "python2"
  },
  "language_info": {
   "codemirror_mode": {
    "name": "ipython",
    "version": 2
   },
   "file_extension": ".py",
   "mimetype": "text/x-python",
   "name": "python",
   "nbconvert_exporter": "python",
   "pygments_lexer": "ipython2",
   "version": "2.7.10"
  }
 },
 "nbformat": 4,
 "nbformat_minor": 0
}
