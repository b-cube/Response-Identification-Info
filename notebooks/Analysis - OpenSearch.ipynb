{
 "cells": [
  {
   "cell_type": "markdown",
   "metadata": {},
   "source": [
    "##OpenSearch OSDD Analysis"
   ]
  },
  {
   "cell_type": "code",
   "execution_count": 2,
   "metadata": {
    "collapsed": true
   },
   "outputs": [],
   "source": [
    "%matplotlib inline\n",
    "import pandas as pd\n",
    "import json as js  # name conflict with sqla\n",
    "import sqlalchemy as sqla\n",
    "from sqlalchemy.orm import sessionmaker\n",
    "\n",
    "pd.set_option(\"display.max_rows\",250)"
   ]
  },
  {
   "cell_type": "code",
   "execution_count": 3,
   "metadata": {
    "collapsed": true
   },
   "outputs": [],
   "source": [
    "# grab the clean text from the rds\n",
    "with open('../local/big_rds.conf', 'r') as f:\n",
    "    conf = js.loads(f.read())\n",
    "\n",
    "# our connection\n",
    "engine = sqla.create_engine(conf.get('connection'))"
   ]
  },
  {
   "cell_type": "markdown",
   "metadata": {},
   "source": [
    "So what do we see in the 4906 responses?"
   ]
  },
  {
   "cell_type": "code",
   "execution_count": 7,
   "metadata": {
    "collapsed": true
   },
   "outputs": [],
   "source": [
    "sql = \"\"\"select kvps.value, count(kvps.value)\n",
    "from osdds,\n",
    "    json_each_text(namespaces) as kvps\n",
    "group by kvps.value\n",
    "order by count desc, kvps.value\n",
    ";\"\"\""
   ]
  },
  {
   "cell_type": "code",
   "execution_count": null,
   "metadata": {
    "collapsed": true
   },
   "outputs": [],
   "source": [
    "# df = pd.read_sql(sql, engine, index_col='id', parse_dates=['metadata_age'])"
   ]
  },
  {
   "cell_type": "code",
   "execution_count": 8,
   "metadata": {
    "collapsed": false
   },
   "outputs": [],
   "source": [
    "df = pd.read_sql(sql, engine)"
   ]
  },
  {
   "cell_type": "code",
   "execution_count": 9,
   "metadata": {
    "collapsed": false
   },
   "outputs": [
    {
     "data": {
      "text/html": [
       "<div>\n",
       "<table border=\"1\" class=\"dataframe\">\n",
       "  <thead>\n",
       "    <tr style=\"text-align: right;\">\n",
       "      <th></th>\n",
       "      <th>value</th>\n",
       "      <th>count</th>\n",
       "    </tr>\n",
       "  </thead>\n",
       "  <tbody>\n",
       "    <tr>\n",
       "      <th>0</th>\n",
       "      <td>http://a9.com/-/spec/opensearch/1.1/</td>\n",
       "      <td>4614</td>\n",
       "    </tr>\n",
       "    <tr>\n",
       "      <th>1</th>\n",
       "      <td>http://www.w3.org/XML/1998/namespace</td>\n",
       "      <td>4608</td>\n",
       "    </tr>\n",
       "    <tr>\n",
       "      <th>2</th>\n",
       "      <td>http://www.mozilla.org/2006/browser/search/</td>\n",
       "      <td>1053</td>\n",
       "    </tr>\n",
       "    <tr>\n",
       "      <th>3</th>\n",
       "      <td>http://a9.com/-/opensearch/extensions/geo/1.0/</td>\n",
       "      <td>69</td>\n",
       "    </tr>\n",
       "    <tr>\n",
       "      <th>4</th>\n",
       "      <td>http://a9.com/-/opensearch/extensions/time/1.0/</td>\n",
       "      <td>32</td>\n",
       "    </tr>\n",
       "    <tr>\n",
       "      <th>5</th>\n",
       "      <td>http://www.w3.org/2001/XMLSchema</td>\n",
       "      <td>19</td>\n",
       "    </tr>\n",
       "    <tr>\n",
       "      <th>6</th>\n",
       "      <td>http://www.w3.org/2001/XMLSchema-instance</td>\n",
       "      <td>19</td>\n",
       "    </tr>\n",
       "    <tr>\n",
       "      <th>7</th>\n",
       "      <td>http:/www.mozilla.org/2006/browser/search/</td>\n",
       "      <td>10</td>\n",
       "    </tr>\n",
       "    <tr>\n",
       "      <th>8</th>\n",
       "      <td>http://modwebsrv.modaps.eosdis.nasa.gov/opense...</td>\n",
       "      <td>9</td>\n",
       "    </tr>\n",
       "    <tr>\n",
       "      <th>9</th>\n",
       "      <td>http://a9.com/-/opensearch/extensions/referrer/</td>\n",
       "      <td>8</td>\n",
       "    </tr>\n",
       "    <tr>\n",
       "      <th>10</th>\n",
       "      <td>http://nsidc.org/ns/opensearch/1.1/</td>\n",
       "      <td>7</td>\n",
       "    </tr>\n",
       "    <tr>\n",
       "      <th>11</th>\n",
       "      <td>http://a9.com/-/spec/opensearch/extensions/par...</td>\n",
       "      <td>6</td>\n",
       "    </tr>\n",
       "    <tr>\n",
       "      <th>12</th>\n",
       "      <td>http://purl.org/dc/elements/1.1/</td>\n",
       "      <td>6</td>\n",
       "    </tr>\n",
       "    <tr>\n",
       "      <th>13</th>\n",
       "      <td>http://schemas.microsoft.com/Search/2008/</td>\n",
       "      <td>4</td>\n",
       "    </tr>\n",
       "    <tr>\n",
       "      <th>14</th>\n",
       "      <td>http://chroniclingamerica.loc.gov</td>\n",
       "      <td>2</td>\n",
       "    </tr>\n",
       "    <tr>\n",
       "      <th>15</th>\n",
       "      <td>http://genshi.edgewall.org/</td>\n",
       "      <td>2</td>\n",
       "    </tr>\n",
       "    <tr>\n",
       "      <th>16</th>\n",
       "      <td>http://www.worldcat.org/devnet/wiki/SearchAPID...</td>\n",
       "      <td>2</td>\n",
       "    </tr>\n",
       "    <tr>\n",
       "      <th>17</th>\n",
       "      <td>http://a9.com/-/opensearch/extensions/eumetsat...</td>\n",
       "      <td>1</td>\n",
       "    </tr>\n",
       "    <tr>\n",
       "      <th>18</th>\n",
       "      <td>http://a9.com/-/opensearch/extensions/sru/2.0/</td>\n",
       "      <td>1</td>\n",
       "    </tr>\n",
       "    <tr>\n",
       "      <th>19</th>\n",
       "      <td>http://alien.jrc.ec.europa.eu/species</td>\n",
       "      <td>1</td>\n",
       "    </tr>\n",
       "    <tr>\n",
       "      <th>20</th>\n",
       "      <td>http://dclite4g.xmlns.com/ws.rdf#</td>\n",
       "      <td>1</td>\n",
       "    </tr>\n",
       "    <tr>\n",
       "      <th>21</th>\n",
       "      <td>http://earth.esa.int/sar</td>\n",
       "      <td>1</td>\n",
       "    </tr>\n",
       "    <tr>\n",
       "      <th>22</th>\n",
       "      <td>http://example.com/opensearchextensions/1.0/</td>\n",
       "      <td>1</td>\n",
       "    </tr>\n",
       "    <tr>\n",
       "      <th>23</th>\n",
       "      <td>http://podaac.jpl.nasa.gov/opensearch/</td>\n",
       "      <td>1</td>\n",
       "    </tr>\n",
       "    <tr>\n",
       "      <th>24</th>\n",
       "      <td>http://purl.org/dc/terms/</td>\n",
       "      <td>1</td>\n",
       "    </tr>\n",
       "    <tr>\n",
       "      <th>25</th>\n",
       "      <td>http://www.alfresco.org</td>\n",
       "      <td>1</td>\n",
       "    </tr>\n",
       "    <tr>\n",
       "      <th>26</th>\n",
       "      <td>http://www.genesi-dr.eu/spec/opensearch/extens...</td>\n",
       "      <td>1</td>\n",
       "    </tr>\n",
       "    <tr>\n",
       "      <th>27</th>\n",
       "      <td>http://www.hospitalsdatabase.lshtm.ac.uk/opens...</td>\n",
       "      <td>1</td>\n",
       "    </tr>\n",
       "    <tr>\n",
       "      <th>28</th>\n",
       "      <td>http://www.opensearch.org/specifications/opens...</td>\n",
       "      <td>1</td>\n",
       "    </tr>\n",
       "    <tr>\n",
       "      <th>29</th>\n",
       "      <td>http://www.w3.org/1999/02/22-rdf-syntax-ns#</td>\n",
       "      <td>1</td>\n",
       "    </tr>\n",
       "    <tr>\n",
       "      <th>30</th>\n",
       "      <td>http://www.w3.org/2002/12/cal/ical#</td>\n",
       "      <td>1</td>\n",
       "    </tr>\n",
       "    <tr>\n",
       "      <th>31</th>\n",
       "      <td>http://www.w3.org/2005/Atom</td>\n",
       "      <td>1</td>\n",
       "    </tr>\n",
       "    <tr>\n",
       "      <th>32</th>\n",
       "      <td>http://xmlns.com/2008/dclite4g#</td>\n",
       "      <td>1</td>\n",
       "    </tr>\n",
       "  </tbody>\n",
       "</table>\n",
       "</div>"
      ],
      "text/plain": [
       "                                                value  count\n",
       "0                http://a9.com/-/spec/opensearch/1.1/   4614\n",
       "1                http://www.w3.org/XML/1998/namespace   4608\n",
       "2         http://www.mozilla.org/2006/browser/search/   1053\n",
       "3      http://a9.com/-/opensearch/extensions/geo/1.0/     69\n",
       "4     http://a9.com/-/opensearch/extensions/time/1.0/     32\n",
       "5                    http://www.w3.org/2001/XMLSchema     19\n",
       "6           http://www.w3.org/2001/XMLSchema-instance     19\n",
       "7          http:/www.mozilla.org/2006/browser/search/     10\n",
       "8   http://modwebsrv.modaps.eosdis.nasa.gov/opense...      9\n",
       "9     http://a9.com/-/opensearch/extensions/referrer/      8\n",
       "10                http://nsidc.org/ns/opensearch/1.1/      7\n",
       "11  http://a9.com/-/spec/opensearch/extensions/par...      6\n",
       "12                   http://purl.org/dc/elements/1.1/      6\n",
       "13          http://schemas.microsoft.com/Search/2008/      4\n",
       "14                  http://chroniclingamerica.loc.gov      2\n",
       "15                        http://genshi.edgewall.org/      2\n",
       "16  http://www.worldcat.org/devnet/wiki/SearchAPID...      2\n",
       "17  http://a9.com/-/opensearch/extensions/eumetsat...      1\n",
       "18     http://a9.com/-/opensearch/extensions/sru/2.0/      1\n",
       "19              http://alien.jrc.ec.europa.eu/species      1\n",
       "20                  http://dclite4g.xmlns.com/ws.rdf#      1\n",
       "21                           http://earth.esa.int/sar      1\n",
       "22       http://example.com/opensearchextensions/1.0/      1\n",
       "23             http://podaac.jpl.nasa.gov/opensearch/      1\n",
       "24                          http://purl.org/dc/terms/      1\n",
       "25                            http://www.alfresco.org      1\n",
       "26  http://www.genesi-dr.eu/spec/opensearch/extens...      1\n",
       "27  http://www.hospitalsdatabase.lshtm.ac.uk/opens...      1\n",
       "28  http://www.opensearch.org/specifications/opens...      1\n",
       "29        http://www.w3.org/1999/02/22-rdf-syntax-ns#      1\n",
       "30                http://www.w3.org/2002/12/cal/ical#      1\n",
       "31                        http://www.w3.org/2005/Atom      1\n",
       "32                    http://xmlns.com/2008/dclite4g#      1"
      ]
     },
     "execution_count": 9,
     "metadata": {},
     "output_type": "execute_result"
    }
   ],
   "source": [
    "df\n",
    "# number of references to a namespace"
   ]
  },
  {
   "cell_type": "code",
   "execution_count": null,
   "metadata": {
    "collapsed": true
   },
   "outputs": [],
   "source": [
    "# how many contain "
   ]
  }
 ],
 "metadata": {
  "kernelspec": {
   "display_name": "Python 2",
   "language": "python",
   "name": "python2"
  },
  "language_info": {
   "codemirror_mode": {
    "name": "ipython",
    "version": 2
   },
   "file_extension": ".py",
   "mimetype": "text/x-python",
   "name": "python",
   "nbconvert_exporter": "python",
   "pygments_lexer": "ipython2",
   "version": "2.7.10"
  }
 },
 "nbformat": 4,
 "nbformat_minor": 0
}
