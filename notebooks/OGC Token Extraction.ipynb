{
 "cells": [
  {
   "cell_type": "markdown",
   "metadata": {},
   "source": [
    "####OGC Element vs Token counts\n",
    "\n",
    "Unlike the other metadata token/element evaluation, we're going to be fairly explicit with the expected text locations here. \n",
    "\n",
    "Does the service description section contain text? Does a \"normal\" layer contain text?\n",
    "\n",
    "Totals for the layers are not very meaningful - these are automatically generated responses so we can expect that the layers conform to the same structure throughout a GetCapabilities response. Internally to each response and most likely across the set of GetCapabilities per service and server."
   ]
  },
  {
   "cell_type": "code",
   "execution_count": 1,
   "metadata": {
    "collapsed": true
   },
   "outputs": [],
   "source": [
    "%reload_ext autoreload\n",
    "%autoreload 2\n",
    "\n",
    "import json as js  # name conflict with sqla\n",
    "import sqlalchemy as sqla\n",
    "from sqlalchemy.orm import sessionmaker\n",
    "from sqlalchemy.dialects.postgresql import *\n",
    "from sqlalchemy import and_\n",
    "from semproc.xml_utils import *\n",
    "from semproc.parser import Parser\n",
    "from mpp.models import Response\n",
    "from datetime import datetime\n",
    "# from lxml import etree"
   ]
  },
  {
   "cell_type": "code",
   "execution_count": 2,
   "metadata": {
    "collapsed": true
   },
   "outputs": [],
   "source": [
    "# load the postgres connection file\n",
    "with open('../local/big_rds.conf', 'r') as f:\n",
    "    conf = js.loads(f.read())\n",
    "\n",
    "# our connection\n",
    "engine = sqla.create_engine(conf.get('connection'))\n",
    "Session = sessionmaker()\n",
    "Session.configure(bind=engine)\n",
    "session = Session()"
   ]
  },
  {
   "cell_type": "code",
   "execution_count": 3,
   "metadata": {
    "collapsed": false
   },
   "outputs": [],
   "source": [
    "# the token sets\n",
    "# assumes executing the token paths from the \n",
    "# element described by the key\n",
    "\n",
    "paths = {\n",
    "    \"Service\": [\n",
    "        ['Name'],\n",
    "        ['Title'],\n",
    "        ['Abstract'],\n",
    "        ['KeywordList', 'Keyword'],\n",
    "        ['OnlineResource', '@href'],\n",
    "        ['ContactInformation', 'ContactPersonPrimary', 'ContactPerson'],\n",
    "        ['ContactInformation', 'ContactPersonPrimary', 'ContactOrganization'],\n",
    "        ['ContactInformation', 'ContactPosition'],\n",
    "        ['ContactInformation', 'ContactAddress', 'AddressType'],\n",
    "        ['ContactInformation', 'ContactAddress', 'Address'],\n",
    "        ['ContactInformation', 'ContactAddress', 'City'],\n",
    "        ['ContactInformation', 'ContactAddress', 'StateOrProvince'],\n",
    "        ['ContactInformation', 'ContactAddress', 'PostCode'],\n",
    "        ['ContactInformation', 'ContactAddress', 'Country'],\n",
    "        ['ContactInformation', 'ContactVoiceTelephone'],\n",
    "        ['ContactInformation', 'ContactFacsimileTelephone'],\n",
    "        ['ContactInformation', 'ContactElectronicMailAddress'],\n",
    "        ['Fees'],\n",
    "        ['AccessConstraints']\n",
    "    ],\n",
    "    \"ServiceIdentification\": [\n",
    "        ['Title'],\n",
    "        ['Abstract'],\n",
    "        ['Keywords', 'Keyword'],\n",
    "        ['ServiceType'],\n",
    "        ['ServiceTypeVersion'],\n",
    "        ['Fees'],\n",
    "        ['AccessConstraints']\n",
    "    ],\n",
    "    # need to run service provider for the ows versions\n",
    "    'ServiceProvider': [\n",
    "        ['ProviderName'],\n",
    "        ['ServiceContact', 'IndividualName'],\n",
    "        ['ServiceContact', 'PositionName'],\n",
    "        ['ServiceContact', 'ContactInfo', 'Phone', 'Voice'],\n",
    "        ['ServiceContact', 'ContactInfo', 'Phone', 'Facsimile'],\n",
    "        ['ServiceContact', 'ContactInfo', 'Address', 'DeliveryPoint'],\n",
    "        ['ServiceContact', 'ContactInfo', 'Address', 'City'],\n",
    "        ['ServiceContact', 'ContactInfo', 'Address', 'AdministrativeArea'],\n",
    "        ['ServiceContact', 'ContactInfo', 'Address', 'PostalCode'],\n",
    "        ['ServiceContact', 'ContactInfo', 'Address', 'Country'],\n",
    "        ['ServiceContact', 'ContactInfo', 'Address', 'ElectronicMailAddress'],\n",
    "        ['ServiceContact', 'ContactInfo', 'OnlineResource', '@href'],\n",
    "        ['ServiceContact', 'ContactInfo', 'HoursOfService'],\n",
    "        ['ServiceContact', 'ContactInfo', 'ContactInstructions'],\n",
    "        ['Role']\n",
    "    ]\n",
    "}\n",
    "\n",
    "layer_paths = {\n",
    "    'Layer': [\n",
    "        ['Title'],\n",
    "        ['Name'],\n",
    "        ['Abstract'],\n",
    "        ['KeywordList', 'Keyword'],\n",
    "        ['Identifier']\n",
    "    ],\n",
    "    'FeatureType': [\n",
    "        ['Name'],\n",
    "        ['Title'],\n",
    "        ['Abstract'],\n",
    "        ['Keywords', 'Keyword'],\n",
    "        ['Identifier']\n",
    "    ],\n",
    "    'CoverageSummary': [\n",
    "        ['Title'],\n",
    "        ['Abstract'],\n",
    "        ['Keywords', 'Keyword'],\n",
    "        ['Identifier']\n",
    "    ]\n",
    "}"
   ]
  },
  {
   "cell_type": "code",
   "execution_count": 16,
   "metadata": {
    "collapsed": true
   },
   "outputs": [],
   "source": [
    "sql = \"\"\"\n",
    "with i as (\n",
    "\tselect d.response_id, (e.value->'protocol')::text as ident\n",
    "\tfrom identities d, jsonb_array_elements(d.identity::jsonb) e\n",
    "\twhere d.identity is not null \n",
    "\t\tand e.value->>'protocol' = 'OGC'\n",
    ")\n",
    "select r.id, r.source_url_sha, r.source_url, r.cleaned_content\n",
    "from responses r join i on i.response_id = r.id\n",
    ";\n",
    "\"\"\""
   ]
  },
  {
   "cell_type": "code",
   "execution_count": 17,
   "metadata": {
    "collapsed": false
   },
   "outputs": [],
   "source": [
    "def _extract_tag(t):\n",
    "    if not t:\n",
    "        return\n",
    "    return t.split('}')[-1]\n",
    "\n",
    "def _taggify(e, x):\n",
    "    x.reverse()\n",
    "    tags = x + [e.tag] + [m.tag for m in e.iterancestors()]\n",
    "    tags.reverse()\n",
    "\n",
    "    try:\n",
    "        return '/'.join([_extract_tag(t) for t in tags])\n",
    "    except:\n",
    "        return ''\n",
    "\n",
    "def strip_text(elem, arr):\n",
    "    for a in arr:\n",
    "        if '@' in a[-1]:\n",
    "            texts = [extract_attrib(elem, a)]\n",
    "        else:\n",
    "            texts = extract_items(elem, a)\n",
    "        \n",
    "        if not texts:\n",
    "            continue\n",
    "        \n",
    "        yield _taggify(elem, a), texts"
   ]
  },
  {
   "cell_type": "code",
   "execution_count": 18,
   "metadata": {
    "collapsed": false
   },
   "outputs": [],
   "source": [
    "x = ''\n",
    "for i, sha, url, content in session.execute(sql):\n",
    "    try:\n",
    "        parser = Parser(content.encode('utf-8'))\n",
    "    except:\n",
    "        continue\n",
    "        \n",
    "    x = parser.xml\n",
    "    \n",
    "    blobs = []\n",
    "    for child in parser.xml:\n",
    "        key = _extract_tag(child.tag)\n",
    "        if not key in paths:\n",
    "            continue\n",
    "            \n",
    "        arr = paths.get(key, [])\n",
    "        elem = extract_elem(parser.xml, [key])\n",
    "        \n",
    "        extracted = [(tag, texts) for tag, texts in strip_text(elem, arr)]\n",
    "        if extracted:\n",
    "            blobs.append({\n",
    "                \"num_possible\": len(arr),\n",
    "                \"extracted\": extracted\n",
    "            })\n",
    "    \n",
    "    if blobs:\n",
    "        data = {\n",
    "            \"url\": url,\n",
    "            \"blobs\": blobs\n",
    "        }\n",
    "        with open('outputs/ogc/%s.json' % i, 'w') as g:\n",
    "            g.write(js.dumps(data, indent=4))\n"
   ]
  },
  {
   "cell_type": "code",
   "execution_count": null,
   "metadata": {
    "collapsed": true
   },
   "outputs": [],
   "source": []
  }
 ],
 "metadata": {
  "kernelspec": {
   "display_name": "Python 2",
   "language": "python",
   "name": "python2"
  },
  "language_info": {
   "codemirror_mode": {
    "name": "ipython",
    "version": 2
   },
   "file_extension": ".py",
   "mimetype": "text/x-python",
   "name": "python",
   "nbconvert_exporter": "python",
   "pygments_lexer": "ipython2",
   "version": "2.7.10"
  }
 },
 "nbformat": 4,
 "nbformat_minor": 0
}
