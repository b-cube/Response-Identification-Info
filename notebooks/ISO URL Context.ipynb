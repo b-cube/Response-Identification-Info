{
 "cells": [
  {
   "cell_type": "markdown",
   "metadata": {
    "collapsed": true
   },
   "source": [
    "###URL Context\n",
    "\n",
    "Extract the codeListValue or other possible identifying information for CI_OnlineResource elements - where and what. Just to note what kind of text is used, from which servers, in which kinds of sections."
   ]
  },
  {
   "cell_type": "code",
   "execution_count": null,
   "metadata": {
    "collapsed": true
   },
   "outputs": [],
   "source": [
    "%reload_ext autoreload\n",
    "%autoreload 2\n",
    "\n",
    "import json as js  # name conflict with sqla\n",
    "import sqlalchemy as sqla\n",
    "from sqlalchemy.orm import sessionmaker\n",
    "\n",
    "from mpp.models import Response\n",
    "\n",
    "from lxml import etree"
   ]
  },
  {
   "cell_type": "code",
   "execution_count": null,
   "metadata": {
    "collapsed": true
   },
   "outputs": [],
   "source": [
    "# grab the clean text from the rds\n",
    "with open('../local/big_rds.conf', 'r') as f:\n",
    "    conf = js.loads(f.read())\n",
    "\n",
    "# our connection\n",
    "engine = sqla.create_engine(conf.get('connection'))\n",
    "Session = sessionmaker()\n",
    "Session.configure(bind=engine)\n",
    "session = Session()"
   ]
  },
  {
   "cell_type": "code",
   "execution_count": null,
   "metadata": {
    "collapsed": true
   },
   "outputs": [],
   "source": [
    "# get any iso\n",
    "sql_pttn = \"\"\"\n",
    "with i\n",
    "as (\n",
    "    select d.response_id, trim(both '\"' from (e.value->'protocol')::text) as protocol\n",
    "    from identities d, jsonb_array_elements(d.identity::jsonb) e\n",
    "    where d.identity is not null \n",
    "        and e.value->>'protocol' = 'ISO'\n",
    ")\n",
    "\n",
    "select r.id, r.source_url, r.cleaned_content\n",
    "from responses r join i on i.response_id = r.id\n",
    "limit %s\n",
    "offset %s;\n",
    "\"\"\""
   ]
  },
  {
   "cell_type": "code",
   "execution_count": null,
   "metadata": {
    "collapsed": true
   },
   "outputs": [],
   "source": [
    "xp = \"//*[local-name()='CI_OnlineResource']\"\n",
    "\n",
    "START = 0\n",
    "STOP = 20000\n",
    "LIMIT = 100\n",
    "\n",
    "for i in xrange(START, STOP, LIMIT):\n",
    "    sql = sql_pttn % (LIMIT, i)\n",
    "    \n",
    "    for response_id, source_url, cleaned_content in session.execute(sql):\n",
    "        try:\n",
    "            xml = etree.fromstring(cleaned_content.encode('utf-8'))\n",
    "        except:\n",
    "            print 'failed to parse', response_id, source_url\n",
    "            continue\n",
    "        \n",
    "        "
   ]
  }
 ],
 "metadata": {
  "kernelspec": {
   "display_name": "Python 2",
   "language": "python",
   "name": "python2"
  },
  "language_info": {
   "codemirror_mode": {
    "name": "ipython",
    "version": 2
   },
   "file_extension": ".py",
   "mimetype": "text/x-python",
   "name": "python",
   "nbconvert_exporter": "python",
   "pygments_lexer": "ipython2",
   "version": "2.7.10"
  }
 },
 "nbformat": 4,
 "nbformat_minor": 0
}
