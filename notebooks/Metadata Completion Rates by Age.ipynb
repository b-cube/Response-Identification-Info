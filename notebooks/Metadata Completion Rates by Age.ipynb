{
 "cells": [
  {
   "cell_type": "markdown",
   "metadata": {},
   "source": [
    "Does it get better or worse?\n",
    "\n",
    "Presence of elements in ISO/FGDC:\n",
    "\n",
    "- data quality\n",
    "- data quality with lineage\n",
    "- attribute definitions\n",
    "- distribution information\n",
    "- metadata reference section\n",
    "\n",
    "Some of the above will include a word count value extracted from certain elements. For data quality, the count will come from the quality descriptions excluding lineage. The lineage word count will be included separately based on the process step descriptions. Attribute word counts will be taken for FGDC only, and from the main description plus any attribute descriptions."
   ]
  },
  {
   "cell_type": "code",
   "execution_count": null,
   "metadata": {
    "collapsed": true
   },
   "outputs": [],
   "source": [
    "%reload_ext autoreload\n",
    "%autoreload 2\n",
    "\n",
    "import json as js  # name conflict with sqla\n",
    "import sqlalchemy as sqla\n",
    "from sqlalchemy.orm import sessionmaker\n",
    "from sqlalchemy.dialects.postgresql import *\n",
    "from sqlalchemy import and_\n",
    "from semproc.xml_utils import *\n",
    "from mpp.models import Response\n",
    "from datetime import datetime\n",
    "from lxml import etree\n",
    "import os"
   ]
  },
  {
   "cell_type": "code",
   "execution_count": null,
   "metadata": {
    "collapsed": true
   },
   "outputs": [],
   "source": [
    "# load the postgres connection file\n",
    "with open('../local/big_rds.conf', 'r') as f:\n",
    "    conf = js.loads(f.read())\n",
    "\n",
    "# our connection\n",
    "engine = sqla.create_engine(conf.get('connection'))\n",
    "Session = sessionmaker()\n",
    "Session.configure(bind=engine)\n",
    "session = Session()"
   ]
  },
  {
   "cell_type": "code",
   "execution_count": null,
   "metadata": {
    "collapsed": true
   },
   "outputs": [],
   "source": [
    "sketchy_sql = '''with i\n",
    "as (\n",
    "    select d.response_id, jsonb_array_elements(d.identity::jsonb) ident\n",
    "    from identities d\n",
    "    where d.identity is not null\n",
    ")\n",
    "\n",
    "select r.id, r.source_url, r.source_url_sha, r.cleaned_content, i.ident->'protocol' as protocol\n",
    "from responses r join i on i.response_id = r.id\n",
    "where i.ident->>'protocol' = 'FGDC' or i.ident->>'protocol' = 'ISO'\n",
    "limit %s\n",
    "offset %s;\n",
    "'''\n",
    "\n"
   ]
  },
  {
   "cell_type": "code",
   "execution_count": null,
   "metadata": {
    "collapsed": true
   },
   "outputs": [],
   "source": [
    "LIMIT=500\n",
    "for i in xrange(0, 46000, LIMIT):\n",
    "    sql = sketchy_sql % (LIMIT, i)\n",
    "    result = session.execute(sql)\n",
    "    for r in result:\n",
    "        if os.path.exists('outputs/metrics/%s.json' % r['id']):\n",
    "            continue\n",
    "            \n",
    "        try:\n",
    "            xml = etree.fromstring(r['cleaned_content'].encode('utf-8'))\n",
    "        except:\n",
    "            print 'xml fail', r['id']\n",
    "            continue\n",
    "            \n",
    "        metrics = {\n",
    "            \"data_quality\": False,\n",
    "            \"data_quality_bow\": 0,\n",
    "            \"lineage\": False,\n",
    "            \"lineage_bow\": 0,\n",
    "            \"attribute_ref\": False,\n",
    "            \"attribute_bow\": 0\n",
    "            \"metadata_ref\": False,\n",
    "            \"distribution\": False\n",
    "        }\n",
    "\n",
    "        if r['protocol'] == 'ISO':\n",
    "            # \n",
    "        elif r['protocol'] == 'FGDC':\n",
    "            dataqual_elem = extract_elem(xml, ['dataqual'])\n",
    "            if dataqual_elem is not None:\n",
    "                \n",
    "            \n",
    "            # data quality\n",
    "            \n",
    "            # dataqual lineage\n",
    "            \n",
    "            # eainfo\n",
    "            \n",
    "            # metadata ref?"
   ]
  }
 ],
 "metadata": {
  "kernelspec": {
   "display_name": "Python 2",
   "language": "python",
   "name": "python2"
  },
  "language_info": {
   "codemirror_mode": {
    "name": "ipython",
    "version": 2
   },
   "file_extension": ".py",
   "mimetype": "text/x-python",
   "name": "python",
   "nbconvert_exporter": "python",
   "pygments_lexer": "ipython2",
   "version": "2.7.10"
  }
 },
 "nbformat": 4,
 "nbformat_minor": 0
}
