{
 "cells": [
  {
   "cell_type": "code",
   "execution_count": 3,
   "metadata": {
    "collapsed": true
   },
   "outputs": [],
   "source": [
    "import json\n",
    "from semproc.rawresponse import RawResponse"
   ]
  },
  {
   "cell_type": "code",
   "execution_count": 5,
   "metadata": {
    "collapsed": false
   },
   "outputs": [
    {
     "name": "stdout",
     "output_type": "stream",
     "text": [
      "<?xml version=\"1.0\"?>\n",
      "<!--<!DOCTYPE metadata SYSTEM \"http://www.esri.com/metadata/esriprof80.dtd\">-->\n",
      "<metadata xml:lang=\"en\"><Esri><CreaDate>20020919</CreaDate><CreaTime>10193900</CreaTime><SyncOnce>TRUE</SyncOnce><MetaID>{8F06465E-A4FA-416B-A222-7678E5D88B6C}</MetaID></Esri><idinfo><citation><citeinfo><onlink Sync=\"TRUE\">\\\\130.118.136.191\\Spokane\\Doug\\tribal</onlink></citeinfo></citation></idinfo><distInfo><distributor><distorTran><onLineSrc><linkage Sync=\"TRUE\">file://\\\\130.118.136.191\\Spokane\\Doug\\tribal</linkage><protocol Sync=\"TRUE\">Local Area Network</protocol></onLineSrc></distorTran></distributor></distInfo><dataqual><lineage><procstep><procdesc Sync=\"TRUE\">Dataset copied.</procdesc><srcused Sync=\"TRUE\">D:\\GISdata\\federal4</srcused><date Sync=\"TRUE\">20020918</date><time Sync=\"TRUE\">08413600</time></procstep><procstep><procdesc Sync=\"TRUE\">Dataset copied.</procdesc><srcused Sync=\"TRUE\">D:\\GISdata\\PilotFinals\\federal_v1</srcused><date Sync=\"TRUE\">20020919</date><time Sync=\"TRUE\">09491200</time></procstep><procstep><procdesc Sync=\"TRUE\">Dataset copied.</procdesc><srcused Sync=\"TRUE\">D:\\GIS\\tribal</srcused><date Sync=\"TRUE\">20020919</date><time Sync=\"TRUE\">10193900</time></procstep></lineage></dataqual></metadata>\n"
     ]
    }
   ],
   "source": [
    "# faking it\n",
    "data = {\"raw_content\": \"<?xml version=\\\"1.0\\\"?>\\n<!--<!DOCTYPE metadata SYSTEM \\\"http://www.esri.com/metadata/esriprof80.dtd\\\">-->\\n<metadata xml:lang=\\\"en\\\"><Esri><CreaDate>20020919</CreaDate><CreaTime>10193900</CreaTime><SyncOnce>TRUE</SyncOnce><MetaID>{8F06465E-A4FA-416B-A222-7678E5D88B6C}</MetaID></Esri><idinfo><citation><citeinfo><onlink Sync=\\\"TRUE\\\">\\\\\\\\130.118.136.191\\\\Spokane\\\\Doug\\\\tribal</onlink></citeinfo></citation></idinfo><distInfo><distributor><distorTran><onLineSrc><linkage Sync=\\\"TRUE\\\">file://\\\\\\\\130.118.136.191\\\\Spokane\\\\Doug\\\\tribal</linkage><protocol Sync=\\\"TRUE\\\">Local Area Network</protocol></onLineSrc></distorTran></distributor></distInfo><dataqual><lineage><procstep><procdesc Sync=\\\"TRUE\\\">Dataset copied.</procdesc><srcused Sync=\\\"TRUE\\\">D:\\\\GISdata\\\\federal4</srcused><date Sync=\\\"TRUE\\\">20020918</date><time Sync=\\\"TRUE\\\">08413600</time></procstep><procstep><procdesc Sync=\\\"TRUE\\\">Dataset copied.</procdesc><srcused Sync=\\\"TRUE\\\">D:\\\\GISdata\\\\PilotFinals\\\\federal_v1</srcused><date Sync=\\\"TRUE\\\">20020919</date><time Sync=\\\"TRUE\\\">09491200</time></procstep><procstep><procdesc Sync=\\\"TRUE\\\">Dataset copied.</procdesc><srcused Sync=\\\"TRUE\\\">D:\\\\GIS\\\\tribal</srcused><date Sync=\\\"TRUE\\\">20020919</date><time Sync=\\\"TRUE\\\">10193900</time></procstep></lineage></dataqual></metadata>\"}\n",
    "raw_content = data.get('raw_content')\n",
    "\n",
    "print raw_content"
   ]
  },
  {
   "cell_type": "code",
   "execution_count": 7,
   "metadata": {
    "collapsed": false
   },
   "outputs": [
    {
     "name": "stdout",
     "output_type": "stream",
     "text": [
      "<?xml version=\"1.0\"?> <!--<!DOCTYPE metadata SYSTEM \"http://www.esri.com/metadata/esriprof80.dtd\">--> <metadata xml:lang=\"en\"><Esri><CreaDate>20020919</CreaDate><CreaTime>10193900</CreaTime><SyncOnce>TRUE</SyncOnce><MetaID>{8F06465E-A4FA-416B-A222-7678E5D88B6C}</MetaID></Esri><idinfo><citation><citeinfo><onlink Sync=\"TRUE\">\\\\130.118.136.191\\Spokane\\Doug\\ ribal</onlink></citeinfo></citation></idinfo><distInfo><distributor><distorTran><onLineSrc><linkage Sync=\"TRUE\">file://\\\\130.118.136.191\\Spokane\\Doug\\ ribal</linkage><protocol Sync=\"TRUE\">Local Area Network</protocol></onLineSrc></distorTran></distributor></distInfo><dataqual><lineage><procstep><procdesc Sync=\"TRUE\">Dataset copied.</procdesc><srcused Sync=\"TRUE\">D:\\GISdata\\federal4</srcused><date Sync=\"TRUE\">20020918</date><time Sync=\"TRUE\">08413600</time></procstep><procstep><procdesc Sync=\"TRUE\">Dataset copied.</procdesc><srcused Sync=\"TRUE\">D:\\GISdata\\PilotFinals\\federal_v1</srcused><date Sync=\"TRUE\">20020919</date><time Sync=\"TRUE\">09491200</time></procstep><procstep><procdesc Sync=\"TRUE\">Dataset copied.</procdesc><srcused Sync=\"TRUE\">D:\\GIS\\ ribal</srcused><date Sync=\"TRUE\">20020919</date><time Sync=\"TRUE\">10193900</time></procstep></lineage></dataqual></metadata>\n"
     ]
    }
   ],
   "source": [
    "rr = RawResponse('', raw_content, '')\n",
    "cleaned = rr.clean_raw_content()\n",
    "\n",
    "print cleaned.decode('string_escape')"
   ]
  },
  {
   "cell_type": "code",
   "execution_count": 9,
   "metadata": {
    "collapsed": false
   },
   "outputs": [
    {
     "data": {
      "text/plain": [
       "{u'anchor': [u'counties_v1.shp.xml'],\n",
       " u'boost': 1.0,\n",
       " u'contentLength': u'1662',\n",
       " u'date': u'2002-09-18T08:39:56Z',\n",
       " u'digest': u'9582c11781e68120f67f429826cfac51',\n",
       " u'host': u'www.idwr.idaho.gov',\n",
       " u'id': u'http://www.idwr.idaho.gov/ftp/gisdata/Spatial/Projects/SpokaneRathdrum/NatMap/Boundary/counties_v1.shp.xml',\n",
       " u'inlinks': [u'http://www.idwr.idaho.gov/ftp/gisdata/Spatial/Projects/SpokaneRathdrum/NatMap/Boundary/'],\n",
       " u'lastModified': u'2002-09-18T08:39:56Z',\n",
       " u'raw_content': u'<?xml version=\"1.0\"?>\\n<!--<!DOCTYPE metadata SYSTEM \"http://www.esri.com/metadata/esriprof80.dtd\">-->\\n<metadata xml:lang=\"en\"><Esri><CreaDate>20020918</CreaDate><CreaTime>08450700</CreaTime><SyncOnce>TRUE</SyncOnce><MetaID>{18968BE4-2727-43F3-BEAB-91DFEB8AF139}</MetaID></Esri><idinfo><citation><citeinfo><onlink Sync=\"TRUE\">\\\\\\\\130.118.136.191\\\\Spokane\\\\Doug\\\\counties_v1</onlink></citeinfo></citation></idinfo><distInfo><distributor><distorTran><onLineSrc><linkage Sync=\"TRUE\">file://\\\\\\\\130.118.136.191\\\\Spokane\\\\Doug\\\\counties_v1</linkage><protocol Sync=\"TRUE\">Local Area Network</protocol></onLineSrc></distorTran></distributor></distInfo><dataqual><lineage><procstep><procdesc Sync=\"TRUE\">Dataset copied.</procdesc><srcused Sync=\"TRUE\">G:\\\\TOM\\\\FinalProducts\\\\pilotbndy</srcused><date Sync=\"TRUE\">20020909</date><time Sync=\"TRUE\">10143200</time></procstep><procstep><procdesc Sync=\"TRUE\">Dataset copied.</procdesc><srcused Sync=\"TRUE\">G:\\\\TOM\\\\PilotBndys\\\\pilotbndy</srcused><date Sync=\"TRUE\">20020911</date><time Sync=\"TRUE\">10191000</time></procstep><procstep><procdesc Sync=\"TRUE\">Dataset copied.</procdesc><srcused Sync=\"TRUE\">D:\\\\GISdata\\\\counties</srcused><date Sync=\"TRUE\">20020911</date><time Sync=\"TRUE\">11282300</time></procstep><procstep><procdesc Sync=\"TRUE\">Dataset moved.</procdesc><srcused Sync=\"TRUE\">D:\\\\GISdata\\\\PilotOriginals\\\\counties</srcused><date Sync=\"TRUE\">20020911</date><time Sync=\"TRUE\">11551300</time></procstep><procstep><procdesc Sync=\"TRUE\">Dataset copied.</procdesc><srcused Sync=\"TRUE\">D:\\\\GISdata\\\\PilotFinals\\\\counties_v1</srcused><date Sync=\"TRUE\">20020918</date><time Sync=\"TRUE\">08450700</time></procstep></lineage></dataqual></metadata>\\n',\n",
       " u'response_headers': [u'ETag: \"056ff7ee5ec21:0\"',\n",
       "  u'nutch.content.digest: 9582c11781e68120f67f429826cfac51',\n",
       "  u'Date: Wed, 05 Aug 2015 11:16:03 GMT',\n",
       "  u'Content-Length: 1662',\n",
       "  u'Last-Modified: Wed, 18 Sep 2002 08:39:56 GMT',\n",
       "  u'_fst_: 33',\n",
       "  u'nutch.segment.name: 20150805111338',\n",
       "  u'Content-Type: text/xml',\n",
       "  u'Accept-Ranges: bytes',\n",
       "  u'Connection: close',\n",
       "  u'Server: Microsoft-IIS/7.5',\n",
       "  u'X-Powered-By: ASP.NET'],\n",
       " u'segment': u'20150805111338',\n",
       " u'tstamp': u'2015-08-05T11:16:11.335Z',\n",
       " u'type': [u'application/xml'],\n",
       " u'url': u'http://www.idwr.idaho.gov/ftp/gisdata/Spatial/Projects/SpokaneRathdrum/NatMap/Boundary/counties_v1.shp.xml',\n",
       " u'url_hash': u'a3a46248c50fa20331c18f2bffcbcf877041488a'}"
      ]
     },
     "execution_count": 9,
     "metadata": {},
     "output_type": "execute_result"
    }
   ],
   "source": [
    "with open('/Users/sparky/Documents/solr_responses/solr_20150922_docs/a3a46248c50fa20331c18f2bffcbcf877041488a.json', 'r') as f:\n",
    "    d = json.loads(f.read())\n",
    "    \n",
    "d"
   ]
  },
  {
   "cell_type": "code",
   "execution_count": null,
   "metadata": {
    "collapsed": true
   },
   "outputs": [],
   "source": []
  }
 ],
 "metadata": {
  "kernelspec": {
   "display_name": "Python 2",
   "language": "python",
   "name": "python2"
  },
  "language_info": {
   "codemirror_mode": {
    "name": "ipython",
    "version": 2
   },
   "file_extension": ".py",
   "mimetype": "text/x-python",
   "name": "python",
   "nbconvert_exporter": "python",
   "pygments_lexer": "ipython2",
   "version": "2.7.10"
  }
 },
 "nbformat": 4,
 "nbformat_minor": 0
}
