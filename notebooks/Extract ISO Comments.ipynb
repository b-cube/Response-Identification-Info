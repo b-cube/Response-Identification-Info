{
 "cells": [
  {
   "cell_type": "markdown",
   "metadata": {},
   "source": [
    "Hunting for fgdc in the iso (or missing structures and the reasons)"
   ]
  },
  {
   "cell_type": "code",
   "execution_count": 15,
   "metadata": {
    "collapsed": true
   },
   "outputs": [],
   "source": [
    "%reload_ext autoreload\n",
    "%autoreload 2\n",
    "\n",
    "import json as js  # name conflict with sqla\n",
    "import sqlalchemy as sqla\n",
    "from sqlalchemy.orm import sessionmaker\n",
    "\n",
    "from mpp.models import Response\n",
    "\n",
    "from lxml import etree"
   ]
  },
  {
   "cell_type": "code",
   "execution_count": 16,
   "metadata": {
    "collapsed": true
   },
   "outputs": [],
   "source": [
    "def _extract_tag(t):\n",
    "    if not t:\n",
    "        return\n",
    "    return t.split('}')[-1]\n",
    "\n",
    "def _taggify(e):\n",
    "    tags = [e.tag] + [m.tag for m in e.iterancestors()]\n",
    "    tags.reverse()\n",
    "\n",
    "    try:\n",
    "        return [_extract_tag(t) for t in tags]\n",
    "    except:\n",
    "        return []\n",
    "\n",
    "def extract_comments(xml):\n",
    "    comment_elems = xml.xpath('//*[comment()]')\n",
    "    \n",
    "    for comment_elem in comment_elems:\n",
    "        comment_tag = '/'.join(_taggify(comment_elem))\n",
    "        comments = '\\n'.join([x.text for x in comment_elem.iter(tag=etree.Comment)])\n",
    "        \n",
    "        yield comment_tag, comments"
   ]
  },
  {
   "cell_type": "code",
   "execution_count": 17,
   "metadata": {
    "collapsed": true
   },
   "outputs": [],
   "source": [
    "# grab the clean text from the rds\n",
    "with open('../local/big_rds.conf', 'r') as f:\n",
    "    conf = js.loads(f.read())\n",
    "\n",
    "# our connection\n",
    "engine = sqla.create_engine(conf.get('connection'))\n",
    "Session = sessionmaker()\n",
    "Session.configure(bind=engine)\n",
    "session = Session()"
   ]
  },
  {
   "cell_type": "code",
   "execution_count": 18,
   "metadata": {
    "collapsed": true
   },
   "outputs": [],
   "source": [
    "sketchy_sql = '''with i\n",
    "as (\n",
    "    select d.response_id, jsonb_array_elements(d.identity::jsonb) ident\n",
    "    from identities d\n",
    "    where d.identity is not null\n",
    ")\n",
    "\n",
    "select r.id, r.cleaned_content\n",
    "from responses r join i on i.response_id = r.id\n",
    "where i.ident->>'protocol' = 'ISO'\n",
    "limit %s\n",
    "offset %s;\n",
    "'''"
   ]
  },
  {
   "cell_type": "code",
   "execution_count": 13,
   "metadata": {
    "collapsed": false
   },
   "outputs": [],
   "source": [
    "response = session.query(Response).filter(Response.source_url=='http://catalog.data.gov/harvest/object/d037f002-d13c-45d2-bd57-d59c5822a14a').first()\n",
    "\n",
    "xml = etree.fromstring(response.cleaned_content.encode('utf-8'))\n",
    "comments = [(t, c) for t, c in extract_comments(xml)]"
   ]
  },
  {
   "cell_type": "code",
   "execution_count": 14,
   "metadata": {
    "collapsed": false
   },
   "outputs": [
    {
     "data": {
      "text/plain": [
       "[('MI_Metadata/identificationInfo/MD_DataIdentification/citation/CI_Citation',\n",
       "  'ORIGIN'),\n",
       " ('MI_Metadata/contentInfo',\n",
       "  ' translated from eainfo to MD_FeatureCatalogueDescription')]"
      ]
     },
     "execution_count": 14,
     "metadata": {},
     "output_type": "execute_result"
    }
   ],
   "source": [
    "comments"
   ]
  },
  {
   "cell_type": "code",
   "execution_count": 21,
   "metadata": {
    "collapsed": true
   },
   "outputs": [],
   "source": [
    "session.rollback()"
   ]
  },
  {
   "cell_type": "code",
   "execution_count": 24,
   "metadata": {
    "collapsed": false
   },
   "outputs": [
    {
     "name": "stdout",
     "output_type": "stream",
     "text": [
      "failed xml 145560\n",
      "failed xml 183293\n",
      "failed xml 196865\n",
      "failed xml 219701\n",
      "failed xml 223566\n",
      "failed xml 252783\n",
      "failed xml 307810\n",
      "failed xml 351247\n",
      "failed xml 402936\n",
      "failed xml 453490\n",
      "failed xml 503992\n",
      "failed xml 539074\n",
      "failed xml 563466\n",
      "failed xml 576196\n",
      "failed xml 653347\n",
      "failed xml 667256\n",
      "failed xml 721563\n",
      "failed xml 722226\n"
     ]
    }
   ],
   "source": [
    "with open('outputs/iso_with_comments.txt', 'w') as f:\n",
    "    f.write('[\\n')\n",
    "\n",
    "# s, e, i = 0, 10, 10\n",
    "s, e, i = 0, 19689, 100\n",
    "\n",
    "for x in xrange(s, e, i):\n",
    "    for response in session.execute(sketchy_sql % (i, x)):\n",
    "        \n",
    "        try:\n",
    "            xml = etree.fromstring(response['cleaned_content'].encode('utf-8'))\n",
    "        except:\n",
    "            print 'failed xml', response['id']\n",
    "            continue\n",
    "        \n",
    "        comments = [(t, c) for t, c in extract_comments(xml)]\n",
    "        \n",
    "        if comments:\n",
    "            with open('outputs/iso_with_comments.txt', 'a') as f:\n",
    "                f.write(js.dumps([{\"id\": response['id'], \"tags\": t, \"comments\": c} for t, c in comments]) + ',\\n')\n",
    "\n",
    "                \n",
    "with open('outputs/iso_with_comments.txt', 'a') as f:\n",
    "    f.write(']')"
   ]
  },
  {
   "cell_type": "markdown",
   "metadata": {},
   "source": [
    "Deleted the bit of code, but I think an invalid namespace for an attribute.\n",
    "\n",
    "failed xml 145560\n",
    "failed xml 183293\n",
    "failed xml 196865\n",
    "failed xml 219701\n",
    "failed xml 223566\n",
    "failed xml 252783\n",
    "failed xml 307810\n",
    "failed xml 351247\n",
    "failed xml 402936\n",
    "failed xml 453490\n",
    "failed xml 503992\n",
    "failed xml 539074\n",
    "failed xml 563466\n",
    "failed xml 576196\n",
    "failed xml 653347\n",
    "failed xml 667256\n",
    "failed xml 721563\n",
    "failed xml 722226"
   ]
  }
 ],
 "metadata": {
  "kernelspec": {
   "display_name": "Python 2",
   "language": "python",
   "name": "python2"
  },
  "language_info": {
   "codemirror_mode": {
    "name": "ipython",
    "version": 2
   },
   "file_extension": ".py",
   "mimetype": "text/x-python",
   "name": "python",
   "nbconvert_exporter": "python",
   "pygments_lexer": "ipython2",
   "version": "2.7.10"
  }
 },
 "nbformat": 4,
 "nbformat_minor": 0
}
