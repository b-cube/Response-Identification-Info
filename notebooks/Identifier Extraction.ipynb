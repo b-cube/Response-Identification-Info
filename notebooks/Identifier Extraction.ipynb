{
 "cells": [
  {
   "cell_type": "markdown",
   "metadata": {
    "collapsed": true
   },
   "source": [
    "This is demonstration only."
   ]
  },
  {
   "cell_type": "code",
   "execution_count": 3,
   "metadata": {
    "collapsed": true
   },
   "outputs": [],
   "source": [
    "import subprocess"
   ]
  },
  {
   "cell_type": "code",
   "execution_count": 4,
   "metadata": {
    "collapsed": true
   },
   "outputs": [],
   "source": [
    "response_id = 137653"
   ]
  },
  {
   "cell_type": "code",
   "execution_count": 5,
   "metadata": {
    "collapsed": true
   },
   "outputs": [],
   "source": [
    "cmd = 'python ../scripts/word_count_cli.py -c ../local/big_rds.conf -i %s' % response_id"
   ]
  },
  {
   "cell_type": "code",
   "execution_count": 15,
   "metadata": {
    "collapsed": false
   },
   "outputs": [
    {
     "data": {
      "text/plain": [
       "'A eng utf8 utf8 series series DOC/NOAA/NOS/OCS United States Department Commerce (DOC), National Oceanic Atmospheric Administration (NOAA), National Ocean Service (NOS), Office Coast Survey (OCS) Hydrographic Services Division, IT Specialist x118 NOAA/NOS/OCS/HSD East-West Highway, SSMC3 Silver Spring MD USA hydro.info@noaa.gov pointOfContact pointOfContact ISO 19115-2 Geographic Information Metadata Part Extensions for Imagery Gridded Data ISO E) UNKNOWN Horizontal Datum: Unknown inapplicable Horizontal Datum: Unknown Undetermined vertical datum Vertical Datum: Unknown inapplicable Vertical Datum: Unknown Metadata Extension Information Metadata Extension Information information information H05680A: NOS Hydrographic Survey, publication publication Survey ID: H05680A DOC/NOAA/NOS/HSD United States Department Commerce (DOC), National Oceanic Atmospheric Administration (NOAA), National Ocean Service (NOS), Office Coast Survey (OCS), Hydrographic Surveys Division (HSD) originator originator Field Number: Sheet: The National Oceanic Atmospheric Administration (NOAA) has the statutory mandate to collect hydrographic data in support nautical chart compilation for safe navigation to provide background data for engineers, scientific, other commercial industrial activities. Hydrographic survey data primarily consist water depths, but also include features (e.g. rocks, wrecks), navigation aids, shoreline identification, bottom type information. NOAA is responsible for archiving distributing the source data as described in this metadata record. These hydrographic data are made available to the public for a wide variety uses, such as sea-bottom characterization, habitat classification, coastal studies, boundary issues, tsunami forecasting. These data are not intended to be used for navigation. Nautical charts produced certified by NOAA should be used for navigation purposes. Chief Party: completed completed DOC/NOAA/NOS/OCS/HSD United States Department Commerce (DOC), National Oceanic Atmospheric Administration (NOAA), National Ocean Service (NOS), Office Coast Survey (OCS), Hydrographic Surveys Division (HSD) Chief, Hydrographic Surveys Division NOAA/NOS/OCS/HSD East West Highway, SSMC3 Silver Spring MD USA HSD.Inquiries@noaa.gov pointOfContact pointOfContact notPlanned notPlanned Hydrographic Surveys for Selected Locations Within the United States (hydro_bathy_2006) project project NASA/GCMD Project Keywords NASA/GCMD Project Keywords unknown GCMD User Support Office NASA GCMD User Support Office gcmduso@gcmd. GCMD Feedback Form Have a Comment for the GCMD? information information custodian custodian GCMD Valids inapplicable GCMD Keyword Page GCMD Keywords Page This page describes the NASA GCMD Keywords, how to reference those keywords provides download instructions. information information custodian custodian EARTH SCIENCE Oceans Bathymetry/Seafloor Topography Bathymetry EARTH SCIENCE Oceans Bathymetry/Seafloor Topography Seafloor Topography EARTH SCIENCE Oceans Bathymetry/Seafloor Topography Water Depth EARTH SCIENCE Oceans Marine Sediments Sediment Composition theme theme NASA/GCMD Science Keyword Thesaurus NASA/GCMD Science Keywords unknown GCMD User Support Office NASA GCMD User Support Office gcmduso@gcmd. GCMD Feedback Form Have a Comment for the GCMD? information information custodian custodian GCMD Valids inapplicable GCMD Keyword Page GCMD Keywords Page This page describes the NASA GCMD Keywords, how to reference those keywords provides download instructions. information information custodian custodian DOC/NOAA/NESDIS/NGDC National Geophysical Data Center, NESDIS, NOAA, U.S. Department Commerce dataCenter dataCenter NASA/GCMD Science Keyword Thesaurus NASA/GCMD Science Keywords unknown GCMD User Support Office NASA GCMD User Support Office gcmduso@gcmd. GCMD Feedback Form Have a Comment for the GCMD? information information custodian custodian GCMD Valids inapplicable GCMD Keyword Page GCMD Keywords Page This page describes the NASA GCMD Keywords, how to reference those keywords provides download instructions. information information custodian custodian In Situ Ocean-based Platforms SHIPS platform platform NASA/GCMD Platform Keyword Thesaurus NASA/GCMD Platform Keywords unknown GCMD User Support Office NASA GCMD User Support Office gcmduso@gcmd. GCMD Feedback Form Have a Comment for the GCMD? information information custodian custodian GCMD Valids inapplicable GCMD Keyword Page GCMD Keywords Page This page describes the NASA GCMD Keywords, how to reference those keywords provides download instructions. information information custodian custodian In Situ/Laboratory Instruments Profilers/Sounders Acoustic Sounders MSBS Multibeam Swath Bathymetry System In Situ/Laboratory Instruments Profilers/Sounders Acoustic Sounders MBES Multibeam Mapping System In Situ/Laboratory Instruments Profilers/Sounders Acoustic Sounders SONAR Sound Navigation Ranging In Situ/Laboratory Instruments Profilers/Sounders Acoustic Sounders Earth Remote Sensing Instruments Passive Remote Sensing Positioning/Navigation GPS GPS RECEIVERS Earth Remote Sensing Instruments Passive Remote Sensing Positioning/Navigation GPS GPS/IMU Global Positioning System/Inertial Measurement Unit instrument instrument NASA/GCMD Instrument Keyword Thesaurus NASA/GCMD Instrument Keywords unknown GCMD User Support Office NASA GCMD User Support Office gcmduso@gcmd. GCMD Feedback Form Have a Comment for the GCMD? information information custodian custodian GCMD Valids inapplicable GCMD Keyword Page GCMD Keywords Page This page describes the NASA GCMD Keywords, how to reference those keywords provides download instructions. information information custodian custodian California SAN DIEGO SAN DIEGO place place Getty Thesaurus Geographic Names Getty Thesaurus Geographic Names revision revision Getty Research Institute Getty Center Drive, Suite Los Angeles California United States TGN@getty.edu Getty Thesaurus Geographic Names Online Page This page provides an interface to search the Getty Thesaurus Geographic Names. information information custodian custodian NOAA Disclaimer While every effort has been made to ensure that these data are accurate reliable within the limits the current state the art, NOAA cannot assume liability for any damages caused by any errors or omissions in the data, nor as a result the failure the data to function a particular system. NOAA makes no warranty, expressed or implied, nor does the fact distribution constitute such a warranty. Not for Navigation Not to be used for navigation. Although these data are high quality useful for planning modeling purposes, they are not suitable for navigation. For navigation, please refer to the NOS nautical chart series. Raw Data Disclaimer These data are considered raw have not been subjected to the NOAA\\'s quality control or quality assurance procedures. They are released for limited public use as preliminary data to be used only with appropriate caution. NOAA cannot assume liability for any damages caused by any errors or omissions in the data, nor as a result the failure the data to function a particular system. NOAA makes no warranty, expressed or implied, nor does the fact distribution constitute such a warranty. grid grid eng; USA inapplicable oceans boundingExtent Coastal, navigationally significant waters the United States America, U.S. protectorates, partner sovereign nations. boundingGeographicBoundingBox boundingTemporalExtent tpl boundingVerticalExtent msl depth in meters onRequest inapplicable DOC/NOAA/NESDIS/NGDC United States Department Commerce (DOC), National Oceanic Atmospheric Administration (NOAA), National Environmental Satellite, Data, Information Service (NESDIS), National Geophysical Data Center (NGDC) National Ocean Service Hydrographic Database Manager NOAA/NESDIS/NGDC/MGG Broadway E/GC3 Boulder CO USA Hydro.Info@noaa.gov distributor distributor None Download XML unknown Structured markup metadata document. Survey metadata record. download download DOC/NOAA/NESDIS/NGDC United States Department Commerce (DOC), National Oceanic Atmospheric Administration (NOAA), National Environmental Satellite, Data, Information Service (NESDIS), National Geophysical Data Center (NGDC) National Ocean Service Hydrographic Database Manager NOAA/NESDIS/NGDC/MGG Broadway E/GC3 Boulder CO USA Hydro.Info@noaa.gov distributor distributor None Download SMOOTH_SHEET unknown NOAA/NOS Smooth Sheet survey image H05680A.tif.gz NOAA/NOS Smooth Sheet survey image download download DOC/NOAA/NESDIS/NGDC United States Department Commerce (DOC), National Oceanic Atmospheric Administration (NOAA), National Environmental Satellite, Data, Information Service (NESDIS), National Geophysical Data Center (NGDC) National Ocean Service Hydrographic Database Manager NOAA/NESDIS/NGDC/MGG Broadway E/GC3 Boulder CO USA Hydro.Info@noaa.gov distributor distributor None Download SMOOTH_MRSID unknown NOAA/NOS Smooth Sheet survey image in MrSID format H05680A.sid.gz NOAA/NOS Smooth Sheet survey image in MrSID format download download DOC/NOAA/NESDIS/NGDC United States Department Commerce (DOC), National Oceanic Atmospheric Administration (NOAA), National Environmental Satellite, Data, Information Service (NESDIS), National Geophysical Data Center (NGDC) National Ocean Service Hydrographic Database Manager NOAA/NESDIS/NGDC/MGG Broadway E/GC3 Boulder CO USA Hydro.Info@noaa.gov distributor distributor None Download DR_PDF unknown NOAA/NOS Descriptive Report in PDF format NOAA/NOS Descriptive Report in PDF format download download DOC/NOAA/NESDIS/NGDC United States Department Commerce (DOC), National Oceanic Atmospheric Administration (NOAA), National Environmental Satellite, Data, Information Service (NESDIS), National Geophysical Data Center (NGDC) National Ocean Service Hydrographic Database Manager NOAA/NESDIS/NGDC/MGG Broadway E/GC3 Boulder CO USA Hydro.Info@noaa.gov distributor distributor None Download PDF or image file. unknown Project level product. Project level product. download download dataset dataset NOS Survey data is collect by surface vessels varying characteristics. The three primary sources survey data are NOAA survey ships, national response teams, contract vessels. The ships collect data, conduct basic board data processing then send these data to NGDC for archival \"RAW\" data. After archiving the RAW data NGDC sends the data to the processing branches (Atlantic or Pacific) for further processing. The processing branches complete processing these data generate products. The processed survey data is sent to NGDC for archival the products are sent to the Hydrographic Surveys Division (HSD) for approval. Once products are approved by HSD, these survey products are sent to NGDC for archival posting on-line. Serial Number: Hydrographic Survey Position Measuring Equipment: UNKNOWN unknown unknown completed completed NOS Hydrographic Survey Descriptive Report creation creation\\n'"
      ]
     },
     "execution_count": 15,
     "metadata": {},
     "output_type": "execute_result"
    }
   ],
   "source": [
    "s = subprocess.Popen(cmd, shell=True, stdout=subprocess.PIPE, stderr=subprocess.PIPE)\n",
    "stdout, stderr = s.communicate()\n",
    "\n",
    "stdout"
   ]
  },
  {
   "cell_type": "code",
   "execution_count": 12,
   "metadata": {
    "collapsed": false
   },
   "outputs": [
    {
     "data": {
      "text/plain": [
       "''"
      ]
     },
     "execution_count": 12,
     "metadata": {},
     "output_type": "execute_result"
    }
   ],
   "source": [
    "stderr"
   ]
  },
  {
   "cell_type": "code",
   "execution_count": 16,
   "metadata": {
    "collapsed": false
   },
   "outputs": [
    {
     "data": {
      "text/plain": [
       "1377"
      ]
     },
     "execution_count": 16,
     "metadata": {},
     "output_type": "execute_result"
    }
   ],
   "source": [
    "len(stdout.split())"
   ]
  },
  {
   "cell_type": "code",
   "execution_count": 17,
   "metadata": {
    "collapsed": false
   },
   "outputs": [
    {
     "data": {
      "text/plain": [
       "['A', 'eng', 'utf8', 'utf8', 'series']"
      ]
     },
     "execution_count": 17,
     "metadata": {},
     "output_type": "execute_result"
    }
   ],
   "source": [
    "stdout.split()[:5]"
   ]
  },
  {
   "cell_type": "code",
   "execution_count": null,
   "metadata": {
    "collapsed": true
   },
   "outputs": [],
   "source": []
  }
 ],
 "metadata": {
  "kernelspec": {
   "display_name": "Python 2",
   "language": "python",
   "name": "python2"
  },
  "language_info": {
   "codemirror_mode": {
    "name": "ipython",
    "version": 2
   },
   "file_extension": ".py",
   "mimetype": "text/x-python",
   "name": "python",
   "nbconvert_exporter": "python",
   "pygments_lexer": "ipython2",
   "version": "2.7.10"
  }
 },
 "nbformat": 4,
 "nbformat_minor": 0
}
