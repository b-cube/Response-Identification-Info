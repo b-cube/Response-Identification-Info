{
 "cells": [
  {
   "cell_type": "markdown",
   "metadata": {
    "collapsed": true
   },
   "source": [
    "This is demonstration only."
   ]
  },
  {
   "cell_type": "code",
   "execution_count": 1,
   "metadata": {
    "collapsed": false
   },
   "outputs": [],
   "source": [
    "%reload_ext autoreload\n",
    "%autoreload 2\n",
    "\n",
    "import json as js  # name conflict with sqla\n",
    "import sqlalchemy as sqla\n",
    "from sqlalchemy.orm import sessionmaker\n",
    "\n",
    "from mpp.models import Response\n",
    "from semproc.unique_identifiers import IdentifierExtractor\n",
    "\n",
    "import warnings\n",
    "warnings.filterwarnings('ignore')"
   ]
  },
  {
   "cell_type": "code",
   "execution_count": 2,
   "metadata": {
    "collapsed": true
   },
   "outputs": [],
   "source": [
    "# grab the clean text from the rds\n",
    "with open('../local/big_rds.conf', 'r') as f:\n",
    "    conf = js.loads(f.read())\n",
    "\n",
    "# our connection\n",
    "engine = sqla.create_engine(conf.get('connection'))\n",
    "Session = sessionmaker()\n",
    "Session.configure(bind=engine)\n",
    "session = Session()"
   ]
  },
  {
   "cell_type": "code",
   "execution_count": 3,
   "metadata": {
    "collapsed": false
   },
   "outputs": [],
   "source": [
    "response_id = 138960\n",
    "response_url, response_cleaned, = session.query(\n",
    "    Response.source_url,\n",
    "    Response.cleaned_content\n",
    ").filter(Response.id==response_id).first()"
   ]
  },
  {
   "cell_type": "code",
   "execution_count": 4,
   "metadata": {
    "collapsed": false
   },
   "outputs": [],
   "source": [
    "extractor = IdentifierExtractor(response_url, response_cleaned)"
   ]
  },
  {
   "cell_type": "code",
   "execution_count": 5,
   "metadata": {
    "collapsed": false
   },
   "outputs": [],
   "source": [
    "extractor.process_text()"
   ]
  },
  {
   "cell_type": "code",
   "execution_count": 6,
   "metadata": {
    "collapsed": false
   },
   "outputs": [
    {
     "name": "stdout",
     "output_type": "stream",
     "text": [
      "{'original_text': u'http://standards.iso.org/ittf/PubliclyAvailableStandards/ISO_19139_Schemas/resources/Codelist/gmxCodelists.xml#MD_ScopeCode', 'extraction_type': 'regex', 'tag': 'MD_Metadata/dataQualityInfo/DQ_DataQuality/scope/DQ_Scope/level/MD_ScopeCode/@codeList', 'match_type': 'url', 'potential_identifier': u'http://standards.iso.org/ittf/PubliclyAvailableStandards/ISO_19139_Schemas/resources/Codelist/gmxCodelists.xml#MD_ScopeCode'}\n",
      "{'original_text': u'http://standards.iso.org/ittf/PubliclyAvailableStandards/ISO_19139_Schemas/resources/Codelist/gmxCodelists.xml', 'extraction_type': 'regex', 'tag': 'MD_Metadata/dataQualityInfo/DQ_DataQuality/scope/DQ_Scope/level/MD_ScopeCode/@codeList', 'match_type': 'url', 'potential_identifier': u'http://standards.iso.org/ittf/PubliclyAvailableStandards/ISO_19139_Schemas/resources/Codelist/gmxCodelists.xml'}\n",
      "{'original_text': 'https://geo.azmag.gov/gismag/rest/services/maps/WI_Zoning/MapServer', 'extraction_type': 'regex', 'tag': 'MD_Metadata/distributionInfo/MD_Distribution/transferOptions/MD_DigitalTransferOptions/onLine/CI_OnlineResource/linkage/URL', 'match_type': 'url', 'potential_identifier': 'https://geo.azmag.gov/gismag/rest/services/maps/WI_Zoning/MapServer'}\n",
      "{'original_text': u'http://standards.iso.org/ittf/PubliclyAvailableStandards/ISO_19139_Schemas/resources/Codelist/gmxCodelists.xml#CI_RoleCode', 'extraction_type': 'regex', 'tag': 'MD_Metadata/distributionInfo/MD_Distribution/distributor/MD_Distributor/distributorContact/CI_ResponsibleParty/role/CI_RoleCode/@codeList', 'match_type': 'url', 'potential_identifier': u'http://standards.iso.org/ittf/PubliclyAvailableStandards/ISO_19139_Schemas/resources/Codelist/gmxCodelists.xml#CI_RoleCode'}\n",
      "{'original_text': u'http://standards.iso.org/ittf/PubliclyAvailableStandards/ISO_19139_Schemas/resources/Codelist/gmxCodelists.xml#MD_KeywordTypeCode', 'extraction_type': 'regex', 'tag': 'MD_Metadata/identificationInfo/MD_DataIdentification/descriptiveKeywords/MD_Keywords/type/MD_KeywordTypeCode/@codeList', 'match_type': 'url', 'potential_identifier': u'http://standards.iso.org/ittf/PubliclyAvailableStandards/ISO_19139_Schemas/resources/Codelist/gmxCodelists.xml#MD_KeywordTypeCode'}\n",
      "{'original_text': 'usginres:service', 'extraction_type': 'regex', 'tag': 'MD_Metadata/identificationInfo/MD_DataIdentification/descriptiveKeywords/MD_Keywords/keyword/CharacterString', 'match_type': 'urn', 'potential_identifier': 'usginres:service'}\n",
      "{'original_text': u'http://standards.iso.org/ittf/PubliclyAvailableStandards/ISO_19139_Schemas/resources/Codelist/gmxCodelists.xml#MD_ProgressCode', 'extraction_type': 'regex', 'tag': 'MD_Metadata/identificationInfo/MD_DataIdentification/status/MD_ProgressCode/@codeList', 'match_type': 'url', 'potential_identifier': u'http://standards.iso.org/ittf/PubliclyAvailableStandards/ISO_19139_Schemas/resources/Codelist/gmxCodelists.xml#MD_ProgressCode'}\n",
      "{'original_text': u'http://standards.iso.org/ittf/PubliclyAvailableStandards/ISO_19139_Schemas/resources/Codelist/gmxCodelists.xml#CI_DateTypeCode', 'extraction_type': 'regex', 'tag': 'MD_Metadata/identificationInfo/MD_DataIdentification/citation/CI_Citation/date/CI_Date/dateType/CI_DateTypeCode/@codeList', 'match_type': 'url', 'potential_identifier': u'http://standards.iso.org/ittf/PubliclyAvailableStandards/ISO_19139_Schemas/resources/Codelist/gmxCodelists.xml#CI_DateTypeCode'}\n",
      "{'original_text': u'http://standards.iso.org/ittf/PubliclyAvailableStandards/ISO_19139_Schemas/resources/Codelist/gmxCodelists.xml#MD_CharacterSetCode', 'extraction_type': 'regex', 'tag': 'MD_Metadata/characterSet/MD_CharacterSetCode/@codeList', 'match_type': 'url', 'potential_identifier': u'http://standards.iso.org/ittf/PubliclyAvailableStandards/ISO_19139_Schemas/resources/Codelist/gmxCodelists.xml#MD_CharacterSetCode'}\n",
      "{'original_text': 'D31C9D5DD17447BAA4980066B6EAA61F', 'extraction_type': 'regex', 'tag': 'MD_Metadata/fileIdentifier/CharacterString', 'match_type': 'md5', 'potential_identifier': 'D31C9D5DD17447BAA4980066B6EAA61F'}\n",
      "{'original_text': u'http://www.isotc211.org/2005/gmd http://schemas.opengis.net/csw/2.0.2/profiles/apiso/1.0.0/apiso.xsd', 'extraction_type': 'regex', 'tag': 'MD_Metadata/@schemaLocation', 'match_type': 'url', 'potential_identifier': u'http://www.isotc211.org/2005/gmd'}\n",
      "{'original_text': u'http://repository.stategeothermaldata.org/resources/metadata/TestNRRC/D31C9D5DD17447BAA4980066B6EAA61F.xml', 'extraction_type': 'regex', 'tag': '', 'match_type': 'url', 'potential_identifier': u'http://repository.stategeothermaldata.org/resources/metadata/TestNRRC/D31C9D5DD17447BAA4980066B6EAA61F.xml'}\n"
     ]
    }
   ],
   "source": [
    "for e in extractor.identifieds:\n",
    "    print e.to_json()"
   ]
  },
  {
   "cell_type": "code",
   "execution_count": 7,
   "metadata": {
    "collapsed": false
   },
   "outputs": [
    {
     "data": {
      "text/plain": [
       "12"
      ]
     },
     "execution_count": 7,
     "metadata": {},
     "output_type": "execute_result"
    }
   ],
   "source": [
    "len(extractor.identifieds)"
   ]
  },
  {
   "cell_type": "code",
   "execution_count": null,
   "metadata": {
    "collapsed": true
   },
   "outputs": [],
   "source": []
  }
 ],
 "metadata": {
  "kernelspec": {
   "display_name": "Python 2",
   "language": "python",
   "name": "python2"
  },
  "language_info": {
   "codemirror_mode": {
    "name": "ipython",
    "version": 2
   },
   "file_extension": ".py",
   "mimetype": "text/x-python",
   "name": "python",
   "nbconvert_exporter": "python",
   "pygments_lexer": "ipython2",
   "version": "2.7.10"
  }
 },
 "nbformat": 4,
 "nbformat_minor": 0
}
