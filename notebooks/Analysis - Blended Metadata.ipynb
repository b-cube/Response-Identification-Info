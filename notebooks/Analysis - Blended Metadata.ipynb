{
 "cells": [
  {
   "cell_type": "markdown",
   "metadata": {},
   "source": [
    "### Blended Metadata Stats\n",
    "\n",
    "This means either ISO in FGDC, FGDC in ISO, or JSON in XML.\n",
    "\n"
   ]
  },
  {
   "cell_type": "code",
   "execution_count": 23,
   "metadata": {
    "collapsed": true
   },
   "outputs": [],
   "source": [
    "%matplotlib inline\n",
    "import pandas as pd\n",
    "import json as js  # name conflict with sqla\n",
    "import sqlalchemy as sqla\n",
    "from sqlalchemy.orm import sessionmaker"
   ]
  },
  {
   "cell_type": "code",
   "execution_count": 24,
   "metadata": {
    "collapsed": true
   },
   "outputs": [],
   "source": [
    "# grab the clean text from the rds\n",
    "with open('../local/big_rds.conf', 'r') as f:\n",
    "    conf = js.loads(f.read())\n",
    "\n",
    "# our connection\n",
    "engine = sqla.create_engine(conf.get('connection'))"
   ]
  },
  {
   "cell_type": "markdown",
   "metadata": {},
   "source": [
    "####Starting with ISO in the FGDC\n",
    "\n",
    "This is going to be (at least from what I've seen to date), CI_OnlineResource elements only. It's a work-around for including some basic info about a link that isn't part of the FGDC spec. Flagging WMS or landing page URLs, things like that. "
   ]
  },
  {
   "cell_type": "code",
   "execution_count": 4,
   "metadata": {
    "collapsed": false
   },
   "outputs": [
    {
     "data": {
      "text/html": [
       "<div>\n",
       "<table border=\"1\" class=\"dataframe\">\n",
       "  <thead>\n",
       "    <tr style=\"text-align: right;\">\n",
       "      <th></th>\n",
       "      <th>response_id</th>\n",
       "      <th>tags</th>\n",
       "      <th>num_per_tag</th>\n",
       "    </tr>\n",
       "  </thead>\n",
       "  <tbody>\n",
       "    <tr>\n",
       "      <th>0</th>\n",
       "      <td>137746</td>\n",
       "      <td>metadata/distinfo/stdorder/digform/digtopt/onlinopt/computer/networka/CI_OnlineResource</td>\n",
       "      <td>57</td>\n",
       "    </tr>\n",
       "    <tr>\n",
       "      <th>1</th>\n",
       "      <td>137746</td>\n",
       "      <td>metadata/idinfo/citation/citeinfo/CI_OnlineResource</td>\n",
       "      <td>5</td>\n",
       "    </tr>\n",
       "    <tr>\n",
       "      <th>2</th>\n",
       "      <td>138577</td>\n",
       "      <td>metadata/distinfo/stdorder/digform/digtopt/onlinopt/computer/networka/CI_OnlineResource</td>\n",
       "      <td>57</td>\n",
       "    </tr>\n",
       "    <tr>\n",
       "      <th>3</th>\n",
       "      <td>138577</td>\n",
       "      <td>metadata/idinfo/citation/citeinfo/CI_OnlineResource</td>\n",
       "      <td>5</td>\n",
       "    </tr>\n",
       "    <tr>\n",
       "      <th>4</th>\n",
       "      <td>140207</td>\n",
       "      <td>metadata/distinfo/stdorder/digform/digtopt/onlinopt/computer/networka/CI_OnlineResource</td>\n",
       "      <td>57</td>\n",
       "    </tr>\n",
       "    <tr>\n",
       "      <th>5</th>\n",
       "      <td>140207</td>\n",
       "      <td>metadata/idinfo/citation/citeinfo/CI_OnlineResource</td>\n",
       "      <td>5</td>\n",
       "    </tr>\n",
       "    <tr>\n",
       "      <th>6</th>\n",
       "      <td>140236</td>\n",
       "      <td>metadata/distinfo/stdorder/digform/digtopt/onlinopt/computer/networka/CI_OnlineResource</td>\n",
       "      <td>2</td>\n",
       "    </tr>\n",
       "    <tr>\n",
       "      <th>7</th>\n",
       "      <td>140744</td>\n",
       "      <td>metadata/distinfo/stdorder/digform/digtopt/onlinopt/computer/networka/CI_OnlineResource</td>\n",
       "      <td>57</td>\n",
       "    </tr>\n",
       "    <tr>\n",
       "      <th>8</th>\n",
       "      <td>140744</td>\n",
       "      <td>metadata/idinfo/citation/citeinfo/CI_OnlineResource</td>\n",
       "      <td>5</td>\n",
       "    </tr>\n",
       "    <tr>\n",
       "      <th>9</th>\n",
       "      <td>142472</td>\n",
       "      <td>metadata/distinfo/stdorder/digform/digtopt/onlinopt/computer/networka/CI_OnlineResource</td>\n",
       "      <td>57</td>\n",
       "    </tr>\n",
       "  </tbody>\n",
       "</table>\n",
       "</div>"
      ],
      "text/plain": [
       "   response_id  \\\n",
       "0       137746   \n",
       "1       137746   \n",
       "2       138577   \n",
       "3       138577   \n",
       "4       140207   \n",
       "5       140207   \n",
       "6       140236   \n",
       "7       140744   \n",
       "8       140744   \n",
       "9       142472   \n",
       "\n",
       "                                                                                      tags  \\\n",
       "0  metadata/distinfo/stdorder/digform/digtopt/onlinopt/computer/networka/CI_OnlineResource   \n",
       "1                                      metadata/idinfo/citation/citeinfo/CI_OnlineResource   \n",
       "2  metadata/distinfo/stdorder/digform/digtopt/onlinopt/computer/networka/CI_OnlineResource   \n",
       "3                                      metadata/idinfo/citation/citeinfo/CI_OnlineResource   \n",
       "4  metadata/distinfo/stdorder/digform/digtopt/onlinopt/computer/networka/CI_OnlineResource   \n",
       "5                                      metadata/idinfo/citation/citeinfo/CI_OnlineResource   \n",
       "6  metadata/distinfo/stdorder/digform/digtopt/onlinopt/computer/networka/CI_OnlineResource   \n",
       "7  metadata/distinfo/stdorder/digform/digtopt/onlinopt/computer/networka/CI_OnlineResource   \n",
       "8                                      metadata/idinfo/citation/citeinfo/CI_OnlineResource   \n",
       "9  metadata/distinfo/stdorder/digform/digtopt/onlinopt/computer/networka/CI_OnlineResource   \n",
       "\n",
       "   num_per_tag  \n",
       "0           57  \n",
       "1            5  \n",
       "2           57  \n",
       "3            5  \n",
       "4           57  \n",
       "5            5  \n",
       "6            2  \n",
       "7           57  \n",
       "8            5  \n",
       "9           57  "
      ]
     },
     "metadata": {},
     "output_type": "display_data"
    }
   ],
   "source": [
    "sql = \"\"\"\n",
    "select b.response_id, b.tags, count(b.tags) as num_per_tag\n",
    "from blended_metadatas b\n",
    "where source_standard = 'FGDC'\n",
    "group by b.response_id, b.tags\n",
    "order by b.response_id, num_per_tag DESC;\n",
    "\"\"\"\n",
    "\n",
    "df = pd.read_sql(sql, engine)\n",
    "\n",
    "from IPython.display import display\n",
    "with pd.option_context('display.max_colwidth', 1000):\n",
    "    display(df[:10])"
   ]
  },
  {
   "cell_type": "markdown",
   "metadata": {},
   "source": [
    "There's a pattern. ??? Are they all from \\*Dap servers? \n",
    "\n",
    "Update: pretty much. The data.gov ones could be - just going solely on the URL, you can't tell for data.gov.\n",
    "\n",
    "\n",
    "| Host                       |  Number of Responses |  Is it ERDDAP? | \n",
    "|----------------------------|----------------------|----------------| \n",
    "| \"upwell.pfeg.noaa.gov\"     | 4389                 | \"ERDDAP\"       | \n",
    "| \"oos.soest.hawaii.edu\"     | 4788                 | \"ERDDAP\"       | \n",
    "| \"ecowatch.ncddc.noaa.gov\"  | 4218                 | \"ERDDAP\"       | \n",
    "| \"data.nanoos.org\"          | 204                  | \"ERDDAP\"       | \n",
    "| \"coastwatch.pfeg.noaa.gov\" | 11172                | \"ERDDAP\"       | \n",
    "| \"catalog.data.gov\"         | 81                   | \"OTHER\"        | \n",
    "| \"bluehub.jrc.ec.europa.eu\" | 4902                 | \"ERDDAP\"       | \n",
    "\n",
    "\n",
    "The sql for that:\n",
    "\n",
    "```\n",
    "select r.host, count(r.host), case when r.source_url ilike '%erddap%' then 'ERDDAP' else 'OTHER' end as is_it_dap\n",
    "from blended_metadatas b join responses r on r.id = b.response_id\n",
    "where source_standard = 'FGDC' and tags ilike '%networka%'\n",
    "group by is_it_dap, r.host\n",
    "order by r.host DESC;\n",
    "```"
   ]
  },
  {
   "cell_type": "code",
   "execution_count": 11,
   "metadata": {
    "collapsed": false
   },
   "outputs": [
    {
     "name": "stdout",
     "output_type": "stream",
     "text": [
      "metadata/distinfo/stdorder/digform/digtopt/onlinopt/computer/networka/CI_OnlineResource\n",
      "metadata/idinfo/citation/citeinfo/CI_OnlineResource\n",
      "metadata/idinfo/citation/citeinfo/lworkcit/citeinfo/CI_OnlineResource\n"
     ]
    }
   ],
   "source": [
    "sql = \"\"\"\n",
    "select distinct b.tags\n",
    "from blended_metadatas b\n",
    "where source_standard = 'FGDC';\n",
    "\"\"\"\n",
    "\n",
    "df = pd.read_sql(sql, engine)\n",
    "for i in df.itertuples():\n",
    "    print i[1]"
   ]
  },
  {
   "cell_type": "markdown",
   "metadata": {},
   "source": [
    "These are only used in two places - citations and distributions."
   ]
  },
  {
   "cell_type": "code",
   "execution_count": 13,
   "metadata": {
    "collapsed": false
   },
   "outputs": [
    {
     "name": "stdout",
     "output_type": "stream",
     "text": [
      "metadata/distinfo/stdorder/digform/digtopt/onlinopt/computer/networka/CI_OnlineResource is found in 29754 FGDC records.\n",
      "metadata/idinfo/citation/citeinfo/CI_OnlineResource is found in 2530 FGDC records.\n",
      "metadata/idinfo/citation/citeinfo/lworkcit/citeinfo/CI_OnlineResource is found in 3 FGDC records.\n"
     ]
    }
   ],
   "source": [
    "sql = \"\"\"\n",
    "select b.tags, count(b.response_id) as num_per_tag\n",
    "from blended_metadatas b\n",
    "where source_standard = 'FGDC'\n",
    "group by b.tags\n",
    "order by num_per_tag DESC;\n",
    "\"\"\"\n",
    "df = pd.read_sql(sql, engine)\n",
    "for i in df.itertuples():\n",
    "    print i[1], 'is found in', i[2], 'FGDC records.'"
   ]
  },
  {
   "cell_type": "markdown",
   "metadata": {},
   "source": [
    "One last question - are these all from the same place (and maybe roughly the same time period)?"
   ]
  },
  {
   "cell_type": "code",
   "execution_count": 14,
   "metadata": {
    "collapsed": true
   },
   "outputs": [],
   "source": [
    "sql = \"\"\"\n",
    "select distinct r.host, date_trunc('month', r.metadata_age)::date as date_bin\n",
    "from blended_metadatas b join responses r on r.id = b.response_id\n",
    "where source_standard = 'FGDC'\n",
    "order by r.host DESC, date_bin ASC;\n",
    "\"\"\"\n",
    "\n",
    "df = pd.read_sql(sql, engine)"
   ]
  },
  {
   "cell_type": "code",
   "execution_count": 15,
   "metadata": {
    "collapsed": false
   },
   "outputs": [
    {
     "data": {
      "text/html": [
       "<div>\n",
       "<table border=\"1\" class=\"dataframe\">\n",
       "  <thead>\n",
       "    <tr style=\"text-align: right;\">\n",
       "      <th></th>\n",
       "      <th>host</th>\n",
       "      <th>date_bin</th>\n",
       "    </tr>\n",
       "  </thead>\n",
       "  <tbody>\n",
       "    <tr>\n",
       "      <th>0</th>\n",
       "      <td>upwell.pfeg.noaa.gov</td>\n",
       "      <td>2015-07-01</td>\n",
       "    </tr>\n",
       "    <tr>\n",
       "      <th>1</th>\n",
       "      <td>upwell.pfeg.noaa.gov</td>\n",
       "      <td>2015-08-01</td>\n",
       "    </tr>\n",
       "    <tr>\n",
       "      <th>2</th>\n",
       "      <td>upwell.pfeg.noaa.gov</td>\n",
       "      <td>2015-09-01</td>\n",
       "    </tr>\n",
       "    <tr>\n",
       "      <th>3</th>\n",
       "      <td>oos.soest.hawaii.edu</td>\n",
       "      <td>2015-06-01</td>\n",
       "    </tr>\n",
       "    <tr>\n",
       "      <th>4</th>\n",
       "      <td>oos.soest.hawaii.edu</td>\n",
       "      <td>2015-07-01</td>\n",
       "    </tr>\n",
       "    <tr>\n",
       "      <th>5</th>\n",
       "      <td>oos.soest.hawaii.edu</td>\n",
       "      <td>2015-08-01</td>\n",
       "    </tr>\n",
       "    <tr>\n",
       "      <th>6</th>\n",
       "      <td>oos.soest.hawaii.edu</td>\n",
       "      <td>2015-09-01</td>\n",
       "    </tr>\n",
       "    <tr>\n",
       "      <th>7</th>\n",
       "      <td>ecowatch.ncddc.noaa.gov</td>\n",
       "      <td>2015-07-01</td>\n",
       "    </tr>\n",
       "    <tr>\n",
       "      <th>8</th>\n",
       "      <td>ecowatch.ncddc.noaa.gov</td>\n",
       "      <td>2015-08-01</td>\n",
       "    </tr>\n",
       "    <tr>\n",
       "      <th>9</th>\n",
       "      <td>ecowatch.ncddc.noaa.gov</td>\n",
       "      <td>2015-09-01</td>\n",
       "    </tr>\n",
       "    <tr>\n",
       "      <th>10</th>\n",
       "      <td>data.nanoos.org</td>\n",
       "      <td>2015-07-01</td>\n",
       "    </tr>\n",
       "    <tr>\n",
       "      <th>11</th>\n",
       "      <td>data.nanoos.org</td>\n",
       "      <td>2015-08-01</td>\n",
       "    </tr>\n",
       "    <tr>\n",
       "      <th>12</th>\n",
       "      <td>coastwatch.pfeg.noaa.gov</td>\n",
       "      <td>2015-06-01</td>\n",
       "    </tr>\n",
       "    <tr>\n",
       "      <th>13</th>\n",
       "      <td>coastwatch.pfeg.noaa.gov</td>\n",
       "      <td>2015-07-01</td>\n",
       "    </tr>\n",
       "    <tr>\n",
       "      <th>14</th>\n",
       "      <td>coastwatch.pfeg.noaa.gov</td>\n",
       "      <td>2015-08-01</td>\n",
       "    </tr>\n",
       "    <tr>\n",
       "      <th>15</th>\n",
       "      <td>coastwatch.pfeg.noaa.gov</td>\n",
       "      <td>2015-09-01</td>\n",
       "    </tr>\n",
       "    <tr>\n",
       "      <th>16</th>\n",
       "      <td>catalog.data.gov</td>\n",
       "      <td>2011-11-01</td>\n",
       "    </tr>\n",
       "    <tr>\n",
       "      <th>17</th>\n",
       "      <td>catalog.data.gov</td>\n",
       "      <td>2012-10-01</td>\n",
       "    </tr>\n",
       "    <tr>\n",
       "      <th>18</th>\n",
       "      <td>catalog.data.gov</td>\n",
       "      <td>2012-11-01</td>\n",
       "    </tr>\n",
       "    <tr>\n",
       "      <th>19</th>\n",
       "      <td>bluehub.jrc.ec.europa.eu</td>\n",
       "      <td>2015-06-01</td>\n",
       "    </tr>\n",
       "    <tr>\n",
       "      <th>20</th>\n",
       "      <td>bluehub.jrc.ec.europa.eu</td>\n",
       "      <td>2015-07-01</td>\n",
       "    </tr>\n",
       "    <tr>\n",
       "      <th>21</th>\n",
       "      <td>bluehub.jrc.ec.europa.eu</td>\n",
       "      <td>2015-08-01</td>\n",
       "    </tr>\n",
       "    <tr>\n",
       "      <th>22</th>\n",
       "      <td>bluehub.jrc.ec.europa.eu</td>\n",
       "      <td>2015-09-01</td>\n",
       "    </tr>\n",
       "  </tbody>\n",
       "</table>\n",
       "</div>"
      ],
      "text/plain": [
       "                        host    date_bin\n",
       "0       upwell.pfeg.noaa.gov  2015-07-01\n",
       "1       upwell.pfeg.noaa.gov  2015-08-01\n",
       "2       upwell.pfeg.noaa.gov  2015-09-01\n",
       "3       oos.soest.hawaii.edu  2015-06-01\n",
       "4       oos.soest.hawaii.edu  2015-07-01\n",
       "5       oos.soest.hawaii.edu  2015-08-01\n",
       "6       oos.soest.hawaii.edu  2015-09-01\n",
       "7    ecowatch.ncddc.noaa.gov  2015-07-01\n",
       "8    ecowatch.ncddc.noaa.gov  2015-08-01\n",
       "9    ecowatch.ncddc.noaa.gov  2015-09-01\n",
       "10           data.nanoos.org  2015-07-01\n",
       "11           data.nanoos.org  2015-08-01\n",
       "12  coastwatch.pfeg.noaa.gov  2015-06-01\n",
       "13  coastwatch.pfeg.noaa.gov  2015-07-01\n",
       "14  coastwatch.pfeg.noaa.gov  2015-08-01\n",
       "15  coastwatch.pfeg.noaa.gov  2015-09-01\n",
       "16          catalog.data.gov  2011-11-01\n",
       "17          catalog.data.gov  2012-10-01\n",
       "18          catalog.data.gov  2012-11-01\n",
       "19  bluehub.jrc.ec.europa.eu  2015-06-01\n",
       "20  bluehub.jrc.ec.europa.eu  2015-07-01\n",
       "21  bluehub.jrc.ec.europa.eu  2015-08-01\n",
       "22  bluehub.jrc.ec.europa.eu  2015-09-01"
      ]
     },
     "execution_count": 15,
     "metadata": {},
     "output_type": "execute_result"
    }
   ],
   "source": [
    "df"
   ]
  },
  {
   "cell_type": "markdown",
   "metadata": {},
   "source": [
    "No and almost - it is a very recent thing in this set. See the Is it ERDDAP??! above."
   ]
  },
  {
   "cell_type": "markdown",
   "metadata": {},
   "source": [
    "#### How about FGDC in the ISO?\n",
    "\n",
    "The XML isn't mix-and-match here; there's no inclusion of an FGDC namespace or anything like that. But things are hard to capture in the ISO standard that people need/want to know about spatial data so the work-around is to park it in a comment.\n",
    "\n",
    "72,375 comments extracted in total.\n",
    "58,650 not just the term \"ORIGIN\".\n",
    "\n",
    "40,795 related to some FGDC text matching on of the following patterns:\n",
    "\n",
    "```\n",
    "'%FGDC content not mapped to ISO. From Xpath: %'\n",
    "'% translated from % to % '\n",
    "```\n",
    "\n",
    "The first is the workaround - not a good place to put it in ISO. The second is, often, related to the attribute information and trying to avoid the external 19110 record."
   ]
  },
  {
   "cell_type": "code",
   "execution_count": 30,
   "metadata": {
    "collapsed": false
   },
   "outputs": [],
   "source": [
    "sql = \"\"\"\n",
    "with i as (\n",
    "    select id, response_id, tags, extracted_info, 'not mapped' as code\n",
    "    from blended_metadatas\n",
    "    where source_standard = 'ISO'\n",
    "        and extracted_info ilike '%FGDC content not mapped to ISO. From Xpath: %'\n",
    "\n",
    "    union all\n",
    "    \n",
    "    select id, response_id, tags, extracted_info, 'translated' as code\n",
    "    from blended_metadatas\n",
    "    where source_standard = 'ISO'\n",
    "        and extracted_info ilike '%translated from % to %'\n",
    ")\n",
    "select tags, code, count(code) as num_per_tag\n",
    "from i\n",
    "group by tags, code\n",
    "order by tags, num_per_tag;\n",
    "\"\"\"\n"
   ]
  },
  {
   "cell_type": "markdown",
   "metadata": {},
   "source": [
    "Ok no idea why pandas complains - works in pg so here's the data. This is also not very good data (the two patterns can coincide.)\n",
    "\n"
   ]
  },
  {
   "cell_type": "markdown",
   "metadata": {},
   "source": [
    "| Tags                                                                                                                                                | Pattern      | Count | \n",
    "|-----------------------------------------------------------------------------------------------------------------------------------------------------|--------------|-------| \n",
    "| \"MI_Metadata\"                                                                                                                                       | \"not mapped\" | 2647  | \n",
    "| \"MI_Metadata\"                                                                                                                                       | \"translated\" | 3037  | \n",
    "| \"MI_Metadata/contentInfo\"                                                                                                                           | \"not mapped\" | 6685  | \n",
    "| \"MI_Metadata/contentInfo\"                                                                                                                           | \"translated\" | 10197 | \n",
    "| \"MI_Metadata/contentInfo/MD_CoverageDescription\"                                                                                                    | \"not mapped\" | 6685  | \n",
    "| \"MI_Metadata/contentInfo/MD_CoverageDescription/dimension/MD_Band\"                                                                                  | \"not mapped\" | 23436 | \n",
    "| \"MI_Metadata/distributionInfo/MD_Distribution/distributor/MD_Distributor/distributionOrderProcess/MD_StandardOrderProcess\"                          | \"not mapped\" | 84    | \n",
    "| \"MI_Metadata/distributionInfo/MD_Distribution/distributor/MD_Distributor/distributionOrderProcess/MD_StandardOrderProcess/plannedAvailableDateTime\" | \"not mapped\" | 6     | \n",
    "| \"MI_Metadata/spatialRepresentationInfo/MD_GridSpatialRepresentation/cellGeometry\"                                                                   | \"not mapped\" | 1252  | \n"
   ]
  },
  {
   "cell_type": "markdown",
   "metadata": {},
   "source": []
  }
 ],
 "metadata": {
  "kernelspec": {
   "display_name": "Python 2",
   "language": "python",
   "name": "python2"
  },
  "language_info": {
   "codemirror_mode": {
    "name": "ipython",
    "version": 2
   },
   "file_extension": ".py",
   "mimetype": "text/x-python",
   "name": "python",
   "nbconvert_exporter": "python",
   "pygments_lexer": "ipython2",
   "version": "2.7.10"
  }
 },
 "nbformat": 4,
 "nbformat_minor": 0
}
