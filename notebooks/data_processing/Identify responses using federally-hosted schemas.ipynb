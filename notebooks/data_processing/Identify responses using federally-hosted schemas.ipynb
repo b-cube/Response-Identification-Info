{
 "cells": [
  {
   "cell_type": "code",
   "execution_count": null,
   "metadata": {
    "collapsed": true
   },
   "outputs": [],
   "source": [
    "Given the timing, this set will be validated first."
   ]
  },
  {
   "cell_type": "code",
   "execution_count": 4,
   "metadata": {
    "collapsed": true
   },
   "outputs": [],
   "source": [
    "import os\n",
    "import json\n",
    "import glob\n",
    "from lxml import etree"
   ]
  },
  {
   "cell_type": "code",
   "execution_count": 5,
   "metadata": {
    "collapsed": true
   },
   "outputs": [],
   "source": [
    "# grab the previous xml processing\n",
    "_doc_dir = '/Users/sparky/Documents/solr_responses/solr_20150922_docs/'\n",
    "_xpaths = [\n",
    "    ['//*', '@schemaLocation'],\n",
    "    ['//*', '@noNamespaceSchemaLocation']\n",
    "]\n",
    "\n",
    "def generate_localname_xpath(tags):\n",
    "    unchangeds = ['*', '..', '.', '//*']\n",
    "    return '/'.join(\n",
    "        ['%s*[local-name()=\"%s\"]' % ('@' if '@' in t else '', t.replace('@', ''))\n",
    "         if t not in unchangeds else t for t in tags])\n",
    "\n",
    "\n",
    "def extract_attribs(elem, tags):\n",
    "    e = extract_elems(elem, tags)\n",
    "    return list([' '.join(m.strip().split()) for m in e] if isinstance(e, list) else [' '.join(e.split())])\n",
    "\n",
    "\n",
    "def extract_elems(elem, tags):\n",
    "    xp = generate_localname_xpath(tags)\n",
    "    return elem.xpath(xp)\n",
    "\n",
    "\n",
    "def _clean_content(response):\n",
    "    response = response.replace('\\\\\\n', '').replace('\\r\\n', '').replace('\\\\r', '').replace('\\\\n', '').replace('\\n', '')\n",
    "    response = response.replace('\\\\\\t', '').replace('\\\\t', '').replace('\\t', '')\n",
    "    # this is likely useless (mostly issues in the json)\n",
    "    response = response.replace('\\\\\\\\ufffd', '').replace('\\\\\\ufffd', '').replace('\\\\ufffd', '').replace('\\ufffd', '')\n",
    "    response = response.decode('utf-8', errors='replace').encode('unicode_escape') \n",
    "    return response\n",
    "\n",
    "\n",
    "def _parse_content(response):\n",
    "    parser = etree.XMLParser()\n",
    "    return etree.fromstring(response, parser=parser)\n",
    "\n",
    "\n",
    "def prep_content(filename):\n",
    "    with open(filename, 'r') as f:\n",
    "        data = json.loads(f.read())\n",
    "    response = data.get('raw_content', '')\n",
    "    response = _clean_content(response)\n",
    "    return _parse_content(response)"
   ]
  },
  {
   "cell_type": "code",
   "execution_count": 6,
   "metadata": {
    "collapsed": true
   },
   "outputs": [],
   "source": [
    "# load the set of identified federal schemas\n",
    "with open('outputs/federal_schemas_sorted.txt', 'r') as f:\n",
    "    federal_schemas = f.readlines()\n",
    "\n",
    "federal_schemas = [f.strip() for f in federal_schemas if f]"
   ]
  },
  {
   "cell_type": "code",
   "execution_count": 55,
   "metadata": {
    "collapsed": false
   },
   "outputs": [],
   "source": [
    "# run through our responses\n",
    "files = glob.glob(_doc_dir + '*.json')\n",
    "contains_federals = []\n",
    "for f in files[700000:750000]:\n",
    "    try:\n",
    "        xml = prep_content(f)\n",
    "    except Exception as ex:\n",
    "        continue\n",
    "\n",
    "    schemas = []\n",
    "    for xp in _xpaths:\n",
    "        schemas += extract_attribs(xml, xp)\n",
    "\n",
    "    if not schemas:\n",
    "        continue\n",
    "\n",
    "    schemas = '  '.join([a.strip() for s in schemas for a in s.split()])\n",
    "\n",
    "    # and check if there's an intersect in the lists\n",
    "    if any(f in schemas for f in federal_schemas):\n",
    "        contains_federals.append(f)"
   ]
  },
  {
   "cell_type": "code",
   "execution_count": 56,
   "metadata": {
    "collapsed": false
   },
   "outputs": [
    {
     "data": {
      "text/plain": [
       "0"
      ]
     },
     "execution_count": 56,
     "metadata": {},
     "output_type": "execute_result"
    }
   ],
   "source": [
    "len(contains_federals)"
   ]
  },
  {
   "cell_type": "code",
   "execution_count": 54,
   "metadata": {
    "collapsed": true
   },
   "outputs": [],
   "source": [
    "with open('outputs/responses_with_federal_schemas.txt', 'a') as g:\n",
    "    g.write('\\n')\n",
    "    g.write('\\n'.join(contains_federals))"
   ]
  },
  {
   "cell_type": "code",
   "execution_count": null,
   "metadata": {
    "collapsed": true
   },
   "outputs": [],
   "source": []
  }
 ],
 "metadata": {
  "kernelspec": {
   "display_name": "Python 2",
   "language": "python",
   "name": "python2"
  },
  "language_info": {
   "codemirror_mode": {
    "name": "ipython",
    "version": 2
   },
   "file_extension": ".py",
   "mimetype": "text/x-python",
   "name": "python",
   "nbconvert_exporter": "python",
   "pygments_lexer": "ipython2",
   "version": "2.7.10"
  }
 },
 "nbformat": 4,
 "nbformat_minor": 0
}
