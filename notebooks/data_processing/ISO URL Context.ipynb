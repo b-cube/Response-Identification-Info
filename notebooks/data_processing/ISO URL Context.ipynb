{
 "cells": [
  {
   "cell_type": "markdown",
   "metadata": {
    "collapsed": true
   },
   "source": [
    "###URL Context\n",
    "\n",
    "Extract the codeListValue or other possible identifying information for CI_OnlineResource elements - where and what. Just to note what kind of text is used, from which servers, in which kinds of sections."
   ]
  },
  {
   "cell_type": "code",
   "execution_count": 1,
   "metadata": {
    "collapsed": true
   },
   "outputs": [],
   "source": [
    "%reload_ext autoreload\n",
    "%autoreload 2\n",
    "\n",
    "import json as js  # name conflict with sqla\n",
    "import sqlalchemy as sqla\n",
    "from sqlalchemy.orm import sessionmaker\n",
    "\n",
    "from mpp.models import Response\n",
    "from semproc.xml_utils import *\n",
    "from semproc.utils import tidy_dict\n",
    "from lxml import etree\n",
    "import os\n"
   ]
  },
  {
   "cell_type": "code",
   "execution_count": 2,
   "metadata": {
    "collapsed": true
   },
   "outputs": [],
   "source": [
    "# grab the clean text from the rds\n",
    "with open('../local/big_rds.conf', 'r') as f:\n",
    "    conf = js.loads(f.read())\n",
    "\n",
    "# our connection\n",
    "engine = sqla.create_engine(conf.get('connection'))\n",
    "Session = sessionmaker()\n",
    "Session.configure(bind=engine)\n",
    "session = Session()"
   ]
  },
  {
   "cell_type": "code",
   "execution_count": 3,
   "metadata": {
    "collapsed": true
   },
   "outputs": [],
   "source": [
    "def _extract_tag(t):\n",
    "    if not t:\n",
    "        return\n",
    "    return t.split('}')[-1]\n",
    "\n",
    "def _taggify(e):\n",
    "    tags = [e.tag] + [m.tag for m in e.iterancestors()]\n",
    "    tags.reverse()\n",
    "\n",
    "    try:\n",
    "        return [_extract_tag(t) for t in tags]\n",
    "    except:\n",
    "        return []"
   ]
  },
  {
   "cell_type": "code",
   "execution_count": 4,
   "metadata": {
    "collapsed": true
   },
   "outputs": [],
   "source": [
    "# get any iso\n",
    "sql_pttn = \"\"\"\n",
    "with i\n",
    "as (\n",
    "    select d.response_id, trim(both '\"' from (e.value->'protocol')::text) as protocol\n",
    "    from identities d, jsonb_array_elements(d.identity::jsonb) e\n",
    "    where d.identity is not null \n",
    "        and e.value->>'protocol' = 'ISO'\n",
    ")\n",
    "\n",
    "select r.id, r.source_url, r.cleaned_content\n",
    "from responses r join i on i.response_id = r.id\n",
    "limit %s\n",
    "offset %s;\n",
    "\"\"\""
   ]
  },
  {
   "cell_type": "code",
   "execution_count": 5,
   "metadata": {
    "collapsed": false,
    "scrolled": false
   },
   "outputs": [
    {
     "name": "stdout",
     "output_type": "stream",
     "text": [
      "failed to parse 145560 http://opentopo.sdsc.edu/LidarPortlet/jsp/datasetMetadata.jsp?otCollectionID=OT.052013.26912.2&format=xml\n",
      "failed to parse 183293 http://portal.oceannet.org/search/full/catalogue/ccw.gov.uk__MEDIN_2.3__4f4c4942-4343-5764-6473-313135363336.xml/MEDIN_2.3\n",
      "failed to parse 196865 http://portal.oceannet.org/search/full/catalogue/ccw.gov.uk__MEDIN_2.3__4f4c4942-4343-5764-6473-313131373933.xml/MEDIN_2.3\n",
      "failed to parse 219701 http://opentopo.sdsc.edu/LidarPortlet/jsp/datasetMetadata.jsp?otCollectionID=OT.092014.26913.1&format=xml\n",
      "failed to parse 223566 http://opentopo.sdsc.edu/LidarPortlet/jsp/datasetMetadata.jsp?otCollectionID=OT.112012.26910.1&format=xml\n",
      "failed to parse 252783 http://opentopo.sdsc.edu/LidarPortlet/jsp/datasetMetadata.jsp?otCollectionID=OT.042013.26911.2&format=xml\n",
      "failed to parse 307810 http://portal.oceannet.org/search/full/catalogue/ccw.gov.uk__MEDIN_2.3__4f4c4942-4343-5764-6473-313039383135.xml/MEDIN_2.3\n",
      "failed to parse 351247 http://portal.oceannet.org/search/full/catalogue/ccw.gov.uk__MEDIN_2.3__4f4c4942-4343-5764-6473-313135313639.xml/MEDIN_2.3\n",
      "failed to parse 402936 http://catalog.data.gov/harvest/object/e5d85fba-21c0-490b-86fd-96a3c09e7de0\n",
      "failed to parse 453490 http://catalog.data.gov/harvest/object/613d92b5-d078-4256-834f-d9aa5a3fba36\n",
      "failed to parse 503992 http://opentopo.sdsc.edu/LidarPortlet/jsp/datasetMetadata.jsp?otCollectionID=OT.102012.26910.1&format=xml\n",
      "failed to parse 539074 http://portal.oceannet.org/search/full/catalogue/ccw.gov.uk__MEDIN_2.3__4f4c4942-4343-5764-6473-313135303336.xml/MEDIN_2.3\n",
      "failed to parse 563466 http://opentopo.sdsc.edu/LidarPortlet/jsp/datasetMetadata.jsp?otCollectionID=OT.052014.26910.1&format=xml\n",
      "failed to parse 576196 http://catalog.data.gov/harvest/object/cb903830-6bb1-4ad2-99ec-a6cfd9c2a90d\n",
      "failed to parse 653347 http://opentopo.sdsc.edu/LidarPortlet/jsp/datasetMetadata.jsp?otCollectionID=OT.042013.26918.1&format=xml\n",
      "failed to parse 667256 http://opentopo.sdsc.edu/LidarPortlet/jsp/datasetMetadata.jsp?otCollectionID=OT.062012.4326.1&format=xml\n",
      "failed to parse 721563 http://portal.oceannet.org/search/full/catalogue/ccw.gov.uk__MEDIN_2.3__4f4c4942-4343-5764-6473-303436393534.xml/MEDIN_2.3\n",
      "failed to parse 722226 http://opentopo.sdsc.edu/LidarPortlet/jsp/datasetMetadata.jsp?otCollectionID=OT.042013.26918.2&format=xml\n"
     ]
    }
   ],
   "source": [
    "xp = \"//*[local-name()='CI_OnlineResource']\"\n",
    "\n",
    "START = 0\n",
    "STOP = 20000\n",
    "LIMIT = 100\n",
    "\n",
    "# START = 0\n",
    "# STOP = 20\n",
    "# LIMIT = 10\n",
    "\n",
    "for i in xrange(START, STOP, LIMIT):\n",
    "    sql = sql_pttn % (LIMIT, i)\n",
    "    \n",
    "    for response_id, source_url, cleaned_content in session.execute(sql):\n",
    "        if os.path.exists(os.path.join('outputs', 'online_resources', '%s.json' % response_id)):\n",
    "            continue\n",
    "\n",
    "        try:\n",
    "            xml = etree.fromstring(cleaned_content.encode('utf-8'))\n",
    "        except:\n",
    "            print 'failed to parse', response_id, source_url\n",
    "            continue\n",
    "        \n",
    "        onlines = xml.xpath(xp)\n",
    "    \n",
    "        outputs = []\n",
    "        for online in onlines:\n",
    "            # we want to get the url\n",
    "            # check for a protocol\n",
    "            # check for an applicationProtocol\n",
    "            # and name and description\n",
    "            # and the function code\n",
    "            \n",
    "            tag = '/'.join(_taggify(online))\n",
    "            \n",
    "            url = extract_item(online, ['linkage', 'URL'])\n",
    "            protocol = extract_item(online, ['protocol', 'CharacterString'])\n",
    "            application_profile = extract_item(online, ['applicationProfile', 'CharacterString'])\n",
    "            name = extract_item(online, ['name', 'CharacterString'])\n",
    "            description = extract_item(online, ['description', 'CharacterString'])\n",
    "            function_code = extract_attrib(online, ['function', 'CI_OnLineFunctionCode', '@codeListValue'])\n",
    "            function_codelist = extract_attrib(online, ['function', 'CI_OnLineFunctionCode', '@codeList'])\n",
    "            \n",
    "            outputs.append(tidy_dict({\n",
    "                \"url\": url,\n",
    "                \"tag\": tag,\n",
    "                \"protocol\": protocol,\n",
    "                \"application_profile\": application_profile,\n",
    "                \"name\": name,\n",
    "                \"description\": description,\n",
    "                \"function_code\": function_code,\n",
    "                \"function_codelist\": function_codelist\n",
    "            }))\n",
    "        \n",
    "        if outputs:\n",
    "            with open('outputs/online_resources/%s.json' % response_id, 'w') as f:\n",
    "                f.write(js.dumps(outputs, indent=4))\n",
    "        \n",
    "#         print response_id, source_url\n",
    "#         print outputs\n",
    "#         print '-'* 50"
   ]
  },
  {
   "cell_type": "code",
   "execution_count": 7,
   "metadata": {
    "collapsed": false
   },
   "outputs": [],
   "source": [
    "import glob\n",
    "\n",
    "files = glob.glob('outputs/online_resources/*.json')\n",
    "with open('outputs/iso_resources.csv', 'w') as f:\n",
    "    f.write('response_id,tags,element_key,element_value,url\\n')\n",
    "\n",
    "# # ONLY HALF HIT THE DB - check on encoding, etc.\n",
    "# with open(\"inputs/loaded_iso_rscs.csv\", 'r') as f:\n",
    "#     ids = [a.strip() for a in f.readlines() if a]\n",
    "\n",
    "items = []\n",
    "for f in files:\n",
    "    response_id = int(f.split('/')[-1].replace('.json', ''))\n",
    "    with open(f, 'r') as g:\n",
    "        data = js.loads(g.read())\n",
    "    \n",
    "\n",
    "    for url in data:\n",
    "        tags = url.get('tag')\n",
    "        link = url.get('url')\n",
    "        for k, v in url.iteritems():\n",
    "            if k in ['tag', 'url']:\n",
    "                continue\n",
    "                \n",
    "            items.append(\n",
    "                ','.join([str(response_id), \n",
    "                          '\"{0}\"'.format(tags), \n",
    "                          k.strip(),\n",
    "                          '\"{0}\"'.format(v.strip().encode('unicode_escape').replace('\"', '\\'')),\n",
    "                          '\"{0}\"'.format(link)])\n",
    "            )\n",
    "    \n",
    "with open('outputs/iso_resources.csv', 'a') as g:\n",
    "    g.write('\\n'.join(items))"
   ]
  },
  {
   "cell_type": "code",
   "execution_count": 14,
   "metadata": {
    "collapsed": true
   },
   "outputs": [],
   "source": [
    "from collections import defaultdict\n",
    "\n",
    "d = defaultdict(int)\n",
    "for i in items:\n",
    "    d[i.split(',')[0]] += 1"
   ]
  },
  {
   "cell_type": "code",
   "execution_count": 15,
   "metadata": {
    "collapsed": false
   },
   "outputs": [
    {
     "data": {
      "text/plain": [
       "11587"
      ]
     },
     "execution_count": 15,
     "metadata": {},
     "output_type": "execute_result"
    }
   ],
   "source": [
    "len(d.keys())"
   ]
  },
  {
   "cell_type": "markdown",
   "metadata": {
    "collapsed": true
   },
   "source": [
    "So only a little more than half had results. "
   ]
  }
 ],
 "metadata": {
  "kernelspec": {
   "display_name": "Python 2",
   "language": "python",
   "name": "python2"
  },
  "language_info": {
   "codemirror_mode": {
    "name": "ipython",
    "version": 2
   },
   "file_extension": ".py",
   "mimetype": "text/x-python",
   "name": "python",
   "nbconvert_exporter": "python",
   "pygments_lexer": "ipython2",
   "version": "2.7.10"
  }
 },
 "nbformat": 4,
 "nbformat_minor": 0
}
