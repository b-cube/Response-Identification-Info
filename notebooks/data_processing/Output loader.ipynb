{
 "cells": [
  {
   "cell_type": "markdown",
   "metadata": {},
   "source": [
    "Scratchpad for loading data into the data"
   ]
  },
  {
   "cell_type": "code",
   "execution_count": 1,
   "metadata": {
    "collapsed": false
   },
   "outputs": [],
   "source": [
    "%reload_ext autoreload\n",
    "%autoreload 2\n",
    "\n",
    "import glob\n",
    "import sqlalchemy as sqla\n",
    "from sqlalchemy.orm import sessionmaker\n",
    "import json as js\n",
    "from mpp.models import BlendedMetadata"
   ]
  },
  {
   "cell_type": "code",
   "execution_count": 2,
   "metadata": {
    "collapsed": true
   },
   "outputs": [],
   "source": [
    "with open('../local/big_rds.conf', 'r') as f:\n",
    "    conf = js.loads(f.read())\n",
    "\n",
    "files = glob.glob('outputs/osdds/*.json')\n",
    "    \n",
    "# our connection\n",
    "engine = sqla.create_engine(conf.get('connection'))\n",
    "Session = sessionmaker()\n",
    "Session.configure(bind=engine)\n",
    "session = Session()"
   ]
  },
  {
   "cell_type": "code",
   "execution_count": null,
   "metadata": {
    "collapsed": true
   },
   "outputs": [],
   "source": [
    "session.rollback()"
   ]
  },
  {
   "cell_type": "code",
   "execution_count": 7,
   "metadata": {
    "collapsed": false
   },
   "outputs": [],
   "source": [
    "# the fgdc with iso\n",
    "# it's a list of lists, no reason\n",
    "\n",
    "with open('outputs/fgdc_with_iso.txt', 'r') as f:\n",
    "    data = js.loads(f.read())\n",
    "    \n",
    "for i, d in enumerate(data):\n",
    "    rows = []\n",
    "    for row in d:\n",
    "        rows.append(\n",
    "            BlendedMetadata(\n",
    "                response_id=row.get('id'),\n",
    "                tags=row.get('tags'),\n",
    "                extracted_info=row.get('xml'),\n",
    "                extracted_type='xpath:elements',\n",
    "                source_standard='FGDC',\n",
    "                unexpected_standard='ISO'\n",
    "            )\n",
    "        )\n",
    "    \n",
    "    session.add_all(rows)\n",
    "    try:\n",
    "        session.commit()\n",
    "    except:\n",
    "        print 'commit failed line: ', i\n",
    "        session.rollback()"
   ]
  },
  {
   "cell_type": "code",
   "execution_count": 5,
   "metadata": {
    "collapsed": false
   },
   "outputs": [],
   "source": [
    "# the iso with fgdc comments\n",
    "\n",
    "with open('outputs/iso_with_comments.txt', 'r') as f:\n",
    "    data = js.loads(f.read())\n",
    "    \n",
    "for i, d in enumerate(data):\n",
    "    rows = []\n",
    "    for row in d:\n",
    "        rows.append(\n",
    "            BlendedMetadata(\n",
    "                response_id=row.get('id'),\n",
    "                tags=row.get('tags'),\n",
    "                extracted_info=row.get('comments'),\n",
    "                extracted_type='xpath:element:comments',\n",
    "                source_standard='ISO',\n",
    "                unexpected_standard='FGDC'\n",
    "            )\n",
    "        )\n",
    "    \n",
    "    session.add_all(rows)\n",
    "    try:\n",
    "        session.commit()\n",
    "    except:\n",
    "        print 'commit failed line: ', i\n",
    "        session.rollback()"
   ]
  },
  {
   "cell_type": "code",
   "execution_count": null,
   "metadata": {
    "collapsed": true
   },
   "outputs": [],
   "source": []
  }
 ],
 "metadata": {
  "kernelspec": {
   "display_name": "Python 2",
   "language": "python",
   "name": "python2"
  },
  "language_info": {
   "codemirror_mode": {
    "name": "ipython",
    "version": 2
   },
   "file_extension": ".py",
   "mimetype": "text/x-python",
   "name": "python",
   "nbconvert_exporter": "python",
   "pygments_lexer": "ipython2",
   "version": "2.7.10"
  }
 },
 "nbformat": 4,
 "nbformat_minor": 0
}
