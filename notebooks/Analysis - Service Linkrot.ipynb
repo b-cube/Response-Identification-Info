{
 "cells": [
  {
   "cell_type": "markdown",
   "metadata": {},
   "source": [
    "### Linkrot for OGC and OpenSearch services\n",
    "\n",
    "This includes everything, not just description documents.\n",
    "\n",
    "9,379 URLs checked.\n",
    "\n",
    "For everything, binned by status code (900 is some request exception).\n",
    "\n",
    "| Status | Count | \n",
    "|--------|-------| \n",
    "| 200    | 6475  | \n",
    "| 300    | 212   | \n",
    "| 400    | 2039  | \n",
    "| 500    | 297   | \n",
    "| 900    | 356   | \n",
    "\n",
    "By Protocol\n",
    "\n",
    "| Status | OGC  | OGC (%) | OpenSearch | OpenSearch (%) | \n",
    "|--------|-----:|--------:|-----------:|---------------:| \n",
    "| 200    | 2530 | 58.8    | 4338       | 78.7           | \n",
    "| 300    | 26   | 0.6     | 190        | 3.4            | \n",
    "| 400    | 1578 | 36.7    | 487        | 8.8            | \n",
    "| 500    | 29   | 0.7     | 270        | 4.9            | \n",
    "| 900    | 139  | 3.2     | 225        | 4.1            | \n",
    "\n",
    "\n",
    "OGC Status Codes by Harvest Date (%)\n",
    "\n",
    "| Harvest Date | 200  | 300 | 400  | 500 | 900 | \n",
    "|--------------|------|-----|------|-----|-----| \n",
    "| 7/1/2014     | 54.9 | 3.3 | 35.3 | 0.0 | 6.5 | \n",
    "| 10/1/2014    | 82.9 | 0.2 | 16.8 | 0.2 | 0.0 | \n",
    "| 3/1/2015     | 43.5 | 0.6 | 49.8 | 0.0 | 6.1 | \n",
    "| 6/1/2015     | 69.2 | 0.4 | 27.4 | 1.6 | 1.4 | \n",
    "| 7/1/2015     | 64.3 | 1.0 | 32.2 | 0.6 | 1.8 | \n",
    "| 8/1/2015     | 47.2 | 0.3 | 46.3 | 0.2 | 5.8 | \n",
    "| 9/1/2015     | 43.5 | 0.4 | 51.7 | 1.8 | 2.6 | \n",
    "\n",
    "\n",
    "OpenSearch Status Codes by Harvest Date (%)\n",
    "\n",
    "| Harvest Date | 200  | 300 | 400  | 500  | 900 | \n",
    "|--------------|------|-----|------|------|-----| \n",
    "| 7/1/2014     | 95.6 | 1.5 | 1.5  | 0.2  | 1.2 | \n",
    "| 10/1/2014    | 49.5 | 7.9 | 35.0 | 2.4  | 5.2 | \n",
    "| 3/1/2015     | 65.5 | 7.7 | 13.9 | 7.5  | 5.4 | \n",
    "| 6/1/2015     | 83.4 | 2.2 | 1.1  | 10.4 | 2.9 | \n",
    "| 7/1/2015     | 83.7 | 1.6 | 1.1  | 9.9  | 3.7 | \n",
    "| 8/1/2015     | 93.4 | 1.6 | 0.8  | 0.7  | 3.5 | \n",
    "| 9/1/2015     | 88.9 | 2.2 | 0.3  | 1.4  | 7.2 | \n",
    "\n"
   ]
  },
  {
   "cell_type": "code",
   "execution_count": null,
   "metadata": {
    "collapsed": true
   },
   "outputs": [],
   "source": []
  }
 ],
 "metadata": {
  "kernelspec": {
   "display_name": "Python 2",
   "language": "python",
   "name": "python2"
  },
  "language_info": {
   "codemirror_mode": {
    "name": "ipython",
    "version": 2
   },
   "file_extension": ".py",
   "mimetype": "text/x-python",
   "name": "python",
   "nbconvert_exporter": "python",
   "pygments_lexer": "ipython2",
   "version": "2.7.10"
  }
 },
 "nbformat": 4,
 "nbformat_minor": 0
}
