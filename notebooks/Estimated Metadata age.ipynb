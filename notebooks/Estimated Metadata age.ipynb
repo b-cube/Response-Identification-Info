{
 "cells": [
  {
   "cell_type": "markdown",
   "metadata": {},
   "source": [
    "For FGDC and ISO, can we identify the age of the metadata record?\n",
    "\n",
    "What's the oldest? What's the age distribution?\n",
    "\n",
    "For this, we're going to access the RDS.\n",
    "\n",
    "for iso, on root node:\n",
    "\n",
    "```\n",
    "<gmd:dateStamp>\n",
    "        <gco:Date>2015-09-10</gco:Date>\n",
    "    </gmd:dateStamp>\n",
    "```\n",
    "\n",
    "\n",
    "\n",
    "for fgdc:\n",
    "```\n",
    "metainfo/metd (released)\n",
    "metainfo/metrd (reviewed)\n",
    "```"
   ]
  },
  {
   "cell_type": "code",
   "execution_count": 19,
   "metadata": {
    "collapsed": true
   },
   "outputs": [],
   "source": [
    "import json as js  # name conflict with sqla\n",
    "import sqlalchemy as sqla\n",
    "from sqlalchemy.orm import sessionmaker\n",
    "from sqlalchemy.dialects.postgresql import *\n",
    "from sqlalchemy import and_\n",
    "from semproc.xml_utils import *\n",
    "from mpp.models import Response\n",
    "from datetime import datetime\n",
    "from lxml import etree"
   ]
  },
  {
   "cell_type": "code",
   "execution_count": 6,
   "metadata": {
    "collapsed": true
   },
   "outputs": [],
   "source": [
    "def _convert_date(datestr):\n",
    "    # convert the 4-8 char to an iso date and deal with unknowns\n",
    "    if datestr.lower() in ['unknown', 'none']:\n",
    "        return ''\n",
    "\n",
    "    year = datestr[:4]\n",
    "    month = datestr[4:6] if len(datestr) > 4 else '1'\n",
    "    day = datestr[6:] if len(datestr) > 6 else '1'\n",
    "    try:\n",
    "        d = datetime(int(year), int(month), int(day))\n",
    "        return d.isoformat()\n",
    "    except:\n",
    "        return ''"
   ]
  },
  {
   "cell_type": "code",
   "execution_count": null,
   "metadata": {
    "collapsed": false
   },
   "outputs": [],
   "source": [
    "# load the postgres connection file\n",
    "with open('../local/big_rds.conf', 'r') as f:\n",
    "    conf = js.loads(f.read())\n",
    "\n",
    "# our connection\n",
    "engine = sqla.create_engine(conf.get('connection'))\n",
    "Session = sessionmaker()\n",
    "Session.configure(bind=engine)\n",
    "session = Session()"
   ]
  },
  {
   "cell_type": "code",
   "execution_count": 13,
   "metadata": {
    "collapsed": true
   },
   "outputs": [],
   "source": [
    "# just for resets\n",
    "session.rollback()"
   ]
  },
  {
   "cell_type": "code",
   "execution_count": 43,
   "metadata": {
    "collapsed": false
   },
   "outputs": [],
   "source": [
    "# TODO: modify this to get iso and fgdc xml only\n",
    "# clauses = [Response.format == 'xml']\n",
    "\n",
    "sketchy_sql = '''select distinct source_url_sha, source_url, cleaned_content\n",
    "from (\n",
    "  select source_url_sha, source_url, cleaned_content, unnest(schemas) schs\n",
    "  from responses\n",
    "  where format = 'xml'\n",
    ") a\n",
    "where schs ilike '%fgdc%' or ((schs ilike '%gmi%' or schs ilike '%gmd%') and source_url not ilike '%csw%' and source_url not ilike '%oai%')\n",
    ";'''\n",
    "\n",
    "result = session.execute(sketchy_sql)"
   ]
  },
  {
   "cell_type": "code",
   "execution_count": null,
   "metadata": {
    "collapsed": false
   },
   "outputs": [],
   "source": [
    "timestamps = []\n",
    "for r in result:\n",
    "    print r['source_url']\n",
    "    \n",
    "    xml = etree.fromstring(r['cleaned_content'].encode('utf-8'))\n",
    "    \n",
    "    md_date = extract_item(xml, ['//*', 'dateStamp', 'Date'])\n",
    "    \n",
    "    if not md_date:\n",
    "        md_date = extract_item(xml, ['//*', 'metainfo', 'metd'])\n",
    "        if not md_date:\n",
    "            continue\n",
    "            \n",
    "    timestamps.append((r['source_url_sha'], r['source_url'], md_date))\n",
    "    "
   ]
  },
  {
   "cell_type": "code",
   "execution_count": 45,
   "metadata": {
    "collapsed": false
   },
   "outputs": [
    {
     "data": {
      "text/plain": [
       "3085"
      ]
     },
     "execution_count": 45,
     "metadata": {},
     "output_type": "execute_result"
    }
   ],
   "source": [
    "len(timestamps)"
   ]
  },
  {
   "cell_type": "code",
   "execution_count": 48,
   "metadata": {
    "collapsed": false
   },
   "outputs": [
    {
     "data": {
      "text/plain": [
       "(u'dc8c43ff562b571843eea607cd793288c0a1455c',\n",
       " u'https://catalog.data.gov/harvest/object/59da2b52-3ce8-4da7-90cc-b1e178488d87',\n",
       " '1990-01-01')"
      ]
     },
     "execution_count": 48,
     "metadata": {},
     "output_type": "execute_result"
    }
   ],
   "source": [
    "min(timestamps, key=lambda x: x[2] if x[2] != '1900-01-01' else datetime.now().isoformat())"
   ]
  },
  {
   "cell_type": "code",
   "execution_count": null,
   "metadata": {
    "collapsed": true
   },
   "outputs": [],
   "source": []
  }
 ],
 "metadata": {
  "kernelspec": {
   "display_name": "Python 2",
   "language": "python",
   "name": "python2"
  },
  "language_info": {
   "codemirror_mode": {
    "name": "ipython",
    "version": 2
   },
   "file_extension": ".py",
   "mimetype": "text/x-python",
   "name": "python",
   "nbconvert_exporter": "python",
   "pygments_lexer": "ipython2",
   "version": "2.7.10"
  }
 },
 "nbformat": 4,
 "nbformat_minor": 0
}
