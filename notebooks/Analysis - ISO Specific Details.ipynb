{
 "cells": [
  {
   "cell_type": "markdown",
   "metadata": {},
   "source": [
    "### ISO Specific Information\n",
    "\n",
    "Mostly related to how version is represented and rolecode details. \n",
    "\n",
    "Are the rolecode URLs still available? How many are from an unexpected source? \n",
    "\n",
    "Do any responses reference code lists from different sources? \n",
    "\n",
    "How many responses (or host systems) contain a reference to a codelist that's no longer available? \n",
    "\n",
    "And what informational content will be affected, ie are the spatial reference blocks more likely to reference a dead code list link?\n"
   ]
  },
  {
   "cell_type": "code",
   "execution_count": null,
   "metadata": {
    "collapsed": true
   },
   "outputs": [],
   "source": []
  }
 ],
 "metadata": {
  "kernelspec": {
   "display_name": "Python 2",
   "language": "python",
   "name": "python2"
  },
  "language_info": {
   "codemirror_mode": {
    "name": "ipython",
    "version": 2
   },
   "file_extension": ".py",
   "mimetype": "text/x-python",
   "name": "python",
   "nbconvert_exporter": "python",
   "pygments_lexer": "ipython2",
   "version": "2.7.10"
  }
 },
 "nbformat": 4,
 "nbformat_minor": 0
}
