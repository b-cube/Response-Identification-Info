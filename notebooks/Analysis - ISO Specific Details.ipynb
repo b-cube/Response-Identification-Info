{
 "cells": [
  {
   "cell_type": "markdown",
   "metadata": {},
   "source": [
    "### ISO Specific Information\n",
    "\n",
    "Mostly related to how version is represented and rolecode details. \n",
    "\n",
    "Are the rolecode URLs still available? How many are from an unexpected source? \n",
    "\n",
    "Do any responses reference code lists from different sources? \n",
    "\n",
    "How many responses (or host systems) contain a reference to a codelist that's no longer available? \n",
    "\n",
    "And what informational content will be affected, ie are the spatial reference blocks more likely to reference a dead code list link?\n",
    "\n",
    "\n",
    "How are ISO versions represented? Is it clear enough to understand how it might be structured?\n",
    "\n",
    "(So, no. What matters more for parsing and reading the XML is more keyed to the schema definition. SMAP is interesting in that there's a mimetype (unnecessary) but I think not a custom schema - it's a standardized structure for SMAP in ISO but is just about how to use these elements in this way to reduce the variability. It should just be ISO and validated that way; knowing it's SMAP doesn't affect anything *if* a client is built to the spec, not the server (haha. hahaha.).) But no, the version string gives you a bit of a clue to where some of those other, similar uses of ISO. This is different than INSPIRE, right, that one is an additional namespace so it is validated for ISO and for INSPIRE structure.\n"
   ]
  },
  {
   "cell_type": "code",
   "execution_count": null,
   "metadata": {
    "collapsed": true
   },
   "outputs": [],
   "source": [
    "%matplotlib inline\n",
    "import pandas as pd\n",
    "import json as js  # name conflict with sqla\n",
    "import sqlalchemy as sqla\n",
    "from sqlalchemy.orm import sessionmaker"
   ]
  },
  {
   "cell_type": "code",
   "execution_count": null,
   "metadata": {
    "collapsed": true
   },
   "outputs": [],
   "source": [
    "# grab the clean text from the rds\n",
    "with open('../local/big_rds.conf', 'r') as f:\n",
    "    conf = js.loads(f.read())\n",
    "\n",
    "# our connection\n",
    "engine = sqla.create_engine(conf.get('connection'))"
   ]
  },
  {
   "cell_type": "code",
   "execution_count": null,
   "metadata": {
    "collapsed": true
   },
   "outputs": [],
   "source": [
    "df = pd.read_sql(sql, engine)\n",
    "\n",
    "from IPython.display import display\n",
    "with pd.option_context('display.max_colwidth', 1000):\n",
    "    display(df[:10])"
   ]
  },
  {
   "cell_type": "markdown",
   "metadata": {},
   "source": [
    "### Versions\n",
    "\n",
    "Where to find ISO version information:\n",
    "\n",
    "\n",
    "\n",
    "| Standard Name                                                       |  Version                                                                | \n",
    "|---------------------------------------------------------------------|-------------------------------------------------------------------------| \n",
    "| //*/metadataStandardName/CharacterString                            |  //*/metadataStandardVersion/CharacterString                            | \n",
    "| //*/seriesMetadata/MD_Metadata/metadataStandardName/CharacterString |  //*/seriesMetadata/MD_Metadata/metadataStandardVersion/CharacterString | \n",
    "| //*/seriesMetadata/MI_Metadata/metadataStandardName/CharacterString |  //*/seriesMetadata/MI_Metadata/metadataStandardVersion/CharacterString | \n",
    "\n",
    "\n",
    "This is just the version info for single metadata records (not the DS proper, but the MI/MD contained by a DS). [Speculation] This bit of information is not often included in the CSW or OAI-PMH getrecords outputs (those never track as valid ISO and certainly not at all complete ISO compared to what can be accessed from other parts of those larger portal systems). That last is important? or not, depends on whether we think CSW or OAI-PMH is functional (slow, so painfully slow in current implementations). They do not track as first-class dev efforts - must have it but not key to the system so not well-built and not well-maintained. But, back one of the points, did not validate any of those internal ISO records (if we have any and we do) and, as noted previously, the specs for XML validation allow for nested vaildation but that is not implemented. PParse, part of the Apache Xerces package, is (been a while since I had to go through that eval) one of the view available free options and it does not support that kind of validation."
   ]
  },
  {
   "cell_type": "code",
   "execution_count": null,
   "metadata": {
    "collapsed": true
   },
   "outputs": [],
   "source": []
  }
 ],
 "metadata": {
  "kernelspec": {
   "display_name": "Python 2",
   "language": "python",
   "name": "python2"
  },
  "language_info": {
   "codemirror_mode": {
    "name": "ipython",
    "version": 2
   },
   "file_extension": ".py",
   "mimetype": "text/x-python",
   "name": "python",
   "nbconvert_exporter": "python",
   "pygments_lexer": "ipython2",
   "version": "2.7.10"
  }
 },
 "nbformat": 4,
 "nbformat_minor": 0
}
