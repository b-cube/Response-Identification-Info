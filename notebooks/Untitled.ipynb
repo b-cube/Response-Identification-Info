{
 "cells": [
  {
   "cell_type": "code",
   "execution_count": 1,
   "metadata": {
    "collapsed": true
   },
   "outputs": [],
   "source": [
    "%reload_ext autoreload\n",
    "%autoreload 2\n",
    "\n",
    "from semproc.timed_command import TimedCmd\n",
    "from datetime import datetime\n",
    "import json as js  # name conflict with sqla\n",
    "import sqlalchemy as sqla\n",
    "from sqlalchemy.orm import sessionmaker\n",
    "from sqlalchemy import and_, or_, not_\n",
    "from mpp.models import Response\n",
    "from mpp.models import BagOfWords\n",
    "\n",
    "import warnings\n",
    "warnings.filterwarnings('ignore')"
   ]
  },
  {
   "cell_type": "code",
   "execution_count": 13,
   "metadata": {
    "collapsed": true
   },
   "outputs": [],
   "source": [
    "# grab the clean text from the rds\n",
    "with open('../local/big_rds.conf', 'r') as f:\n",
    "    conf = js.loads(f.read())\n",
    "\n",
    "# our connection\n",
    "engine = sqla.create_engine(conf.get('connection'))\n",
    "Session = sessionmaker()\n",
    "Session.configure(bind=engine)\n",
    "session = Session()"
   ]
  },
  {
   "cell_type": "code",
   "execution_count": 15,
   "metadata": {
    "collapsed": true
   },
   "outputs": [],
   "source": [
    "START = 0\n",
    "TOTAL = 1  \n",
    "LIMIT = 1\n",
    "clauses = [\n",
    "    Response.format == 'xml',\n",
    "    not_(or_(\n",
    "        Response.cleaned_content.startswith(\"<rdf\"),\n",
    "        Response.cleaned_content.startswith(\"<RDF\")\n",
    "    ))\n",
    "]\n",
    "\n",
    "cmd = 'python ../scripts/word_count_cli.py -x \"%(xml)s\"'\n",
    "timeout = 120  # in seconds, more than 2minutes seems like an eternity"
   ]
  },
  {
   "cell_type": "code",
   "execution_count": 18,
   "metadata": {
    "collapsed": false
   },
   "outputs": [
    {
     "name": "stdout",
     "output_type": "stream",
     "text": [
      "<oai_dc:dc xmlns:oai_dc=\"http://www.openarchives.org/OAI/2.0/oai_dc/\" xmlns:dc=\"http://purl.org.libproxy.lib.unc.edu/dc/elements/1.1/\" xmlns:xsi=\"http://www.w3.org/2001/XMLSchema-instance\" xsi:schemaLocation=\"http://www.openarchives.org/OAI/2.0/oai_dc/ http://www.openarchives.org/OAI/2.0/oai_dc.xsd\"></oai_dc:dc>\n",
      "output:  \n",
      "\n",
      "status 0\n"
     ]
    }
   ],
   "source": [
    "for i in xrange(START, TOTAL, LIMIT):\n",
    "    responses = session.query(Response.id, Response.cleaned_content).filter(\n",
    "        and_(*clauses)).limit(LIMIT).offset(i).all()\n",
    "\n",
    "    for response_id, cleaned_content in responses:\n",
    "        print cleaned_content\n",
    "        tc = TimedCmd(cmd % {\"xml\": cleaned_content})\n",
    "        try:\n",
    "            status, output, error = tc.run(timeout)\n",
    "        except:\n",
    "            print 'failed extraction: ', response_id\n",
    "            with open('bow_fails.txt', 'a') as f:\n",
    "                f.write('extract fail: \\n'.format(response_id))\n",
    "            continue\n",
    "\n",
    "        if error:\n",
    "            print 'error from cli: ', response_id, error\n",
    "            with open('bow_fails.txt', 'a') as f:\n",
    "                f.write('cli fail: \\n'.format(response_id))\n",
    "            continue\n",
    "            \n",
    "        print 'output: ', output\n",
    "        print 'status', status"
   ]
  },
  {
   "cell_type": "code",
   "execution_count": 17,
   "metadata": {
    "collapsed": false
   },
   "outputs": [
    {
     "data": {
      "text/plain": [
       "''"
      ]
     },
     "execution_count": 17,
     "metadata": {},
     "output_type": "execute_result"
    }
   ],
   "source": [
    "error"
   ]
  },
  {
   "cell_type": "code",
   "execution_count": 30,
   "metadata": {
    "collapsed": true
   },
   "outputs": [],
   "source": [
    "import subprocess\n",
    "\n",
    "response = session.query(Response).filter(Response.id==626168).first()\n",
    "\n",
    "cleaned_content = response.cleaned_content"
   ]
  },
  {
   "cell_type": "code",
   "execution_count": 31,
   "metadata": {
    "collapsed": false
   },
   "outputs": [],
   "source": [
    "\n",
    "\n",
    "cmd = \"python ../scripts/word_count_cli.py -x '%s'\" % cleaned_content.replace(\"'\", \"\\'\")\n",
    "\n",
    "s = subprocess.Popen(cmd, stdout=subprocess.PIPE, stderr=subprocess.PIPE, shell=True)\n",
    "stdout, stderr = s.communicate()"
   ]
  },
  {
   "cell_type": "code",
   "execution_count": 32,
   "metadata": {
    "collapsed": false
   },
   "outputs": [
    {
     "data": {
      "text/plain": [
       "'http www isotc211 org gmd md_IDEEu_CHA_2006_es spa http www loc gov standards spa MD_CharacterSetCode_utf8 ISOTC211 MD_CharacterSetCode_utf8 http www isotc211 org resources Codelist gmxCodelists xml#MD_CharacterSetCode dataset http standards iso org ittf PubliclyAvailableStandards ISO_19139_Schemas resources Codelist ML_gmxCodelists xml#MD_ScopeCode dataset Gobierno Vasco Direcci n de Planificaci n Territorial y Urbanismo Servicio Informaci n Territorial geoeuskadi@euskadi eus pointOfContact http standards iso org ittf PubliclyAvailableStandards ISO_19139_Schemas resources Codelist ML_gmxCodelists xml#CI_RoleCode pointOfContact ISO19115 Cor ETRS89-UTM30N EPSG Cartograf a de cambios en el CORINE Land Cover del Pa s Vasco publication http standards iso org ittf PubliclyAvailableStandards ISO_19139_Schemas resources Codelist ML_gmxCodelists xml#CI_DateTypeCode publication CHA_2006_EUSKADI Eusko Jaurlaritza Gobierno Vasco Mapa en formato vectorial que recoge los cambios en la ocupaci n del suelo en el Pa s Vasco dentro del proyecto europeo CORINE Land Cover entre los a os y El sistema geod isco de referencia es ETRS89 y la proyecci n UTM huso Gobierno Vasco Direcci n de Planificaci n Territorial y Urbanismo Servicio Informaci n Territorial geoeuskadi@euskadi eus pointOfContact http standards iso org ittf PubliclyAvailableStandards ISO_19139_Schemas resources Codelist ML_gmxCodelists xml#CI_RoleCode pointOfContact Urbanismo y Territorio Ordenaci n del territorio euskadi eus publication http standards iso org ittf PubliclyAvailableStandards ISO_19139_Schemas resources Codelist ML_gmxCodelists xml#CI_DateTypeCode publication Cartograf a b sica Usos del suelo GeoEuskadi publication http standards iso org ittf PubliclyAvailableStandards ISO_19139_Schemas resources Codelist ML_gmxCodelists xml#CI_DateTypeCode publication Cubierta terrestre GEMET INSPIRE themes version publication http standards iso org ittf PubliclyAvailableStandards ISO_19139_Schemas resources Codelist ML_gmxCodelists xml#CI_DateTypeCode publication Pa s Vasco CORINE Land Cover Local publication http standards iso org ittf PubliclyAvailableStandards ISO_19139_Schemas resources Codelist ML_gmxCodelists xml#CI_DateTypeCode publication Esta informaci n se publica bajo los rminos de la licencia Creative Commons-Reconocimiento CC-by otherRestrictions http standards iso org ittf PubliclyAvailableStandards ISO_19139_Schemas resources Codelist ML_gmxCodelists xml#MD_RestrictionCode otherRestrictions Se permite cualquier uso si se menciona la autor a del siguiente modo Eusko Jaurlaritza Gobierno Vasco spa http www loc gov standards spa imageryBaseMapsEarthCover IDcd3b1c4f- gml TimePeriodType unknown unknown http www geo euskadi net cartografia DatosDescarga Cartografia_Basica Cobertura_Usos_del_Suelo CT_CHA06_100000_ETRS89 zip SHP http www geo euskadi net s69-geodir es contenidos informacion servicio_ftp es_80 servicio_ftp html DOC Servicios de Descarga FTP dataset dataset http standards iso org ittf PubliclyAvailableStandards ISO_19139_Schemas resources Codelist ML_gmxCodelists xml#MD_ScopeCode gmd DQ_DomainConsistency_Type gmd DQ_ConformanceResult_Type Reglamento UE n o de la Comisi n de de noviembre de por el que se aplica la Directiva CE del Parlamento Europeo y del Consejo en lo que se refiere a la interoperabilidad de los conjuntos y los servicios de datos espaciales publication http standards iso org ittf PubliclyAvailableStandards ISO_19139_Schemas resources Codelist ML_gmxCodelists xml#CI_DateTypeCode publication See the referenced specification false gmd DQ_DomainConsistency_Type gmd DQ_ConformanceResult_Type Reglamento CE no de la Comisi n de de diciembre de por el que se ejecuta la Directiva CE del Parlamento Europeo y del Consejo en lo que se refiere a los metadatos publication http standards iso org ittf PubliclyAvailableStandards ISO_19139_Schemas resources Codelist ML_gmxCodelists xml#CI_DateTypeCode publication See the referenced specification true LINAJE La generaci n de la base de datos de Cambios se realiz a partir de la informaci n del Corine Land Cover mediante fotointerpretaci n de las im genes de lite Landsat en falso color combinaci n de bandas Para la interpretaci n de los cambios en ocupaci n del suelo el todo a seguir ha sido el desarrollado y descrito en la CLC2006 Technical Guidelines AEMA consider ndose como unidad de cambio y como unidad nima cartografiable La producci n que se hizo descentralizada con controles de calidad propios se remiti al IGN para su integraci n en la base de datos de cambios de Espa a\\n'"
      ]
     },
     "execution_count": 32,
     "metadata": {},
     "output_type": "execute_result"
    }
   ],
   "source": [
    "stdout"
   ]
  },
  {
   "cell_type": "code",
   "execution_count": 25,
   "metadata": {
    "collapsed": false
   },
   "outputs": [
    {
     "data": {
      "text/plain": [
       "''"
      ]
     },
     "execution_count": 25,
     "metadata": {},
     "output_type": "execute_result"
    }
   ],
   "source": [
    "stderr"
   ]
  },
  {
   "cell_type": "code",
   "execution_count": 18,
   "metadata": {
    "collapsed": false
   },
   "outputs": [
    {
     "data": {
      "text/plain": [
       "u'<?xml version=\"1.0\" encoding=\"UTF-8\"?> <WMS_Capabilities version=\"1.3.0\" updateSequence=\"2015-06-25T19:21:05.812Z\" xmlns=\"http://www.opengis.net/wms\" xmlns:xlink=\"http://www.w3.org/1999/xlink\" xmlns:xsi=\"http://www.w3.org/2001/XMLSchema-instance\" xsi:schemaLocation=\"http://www.opengis.net/wms http://schemas.opengis.net/wms/1.3.0/capabilities_1_3_0.xsd\"> <Service> <Name>WMS</Name> <Title>Coastal and Marine Geology THREDDS Server</Title> <Abstract>Scientific Data</Abstract> <KeywordList> <Keyword>bathymetry</Keyword> <Keyword>lidar</Keyword> <Keyword>topography</Keyword> <Keyword>ocean</Keyword> <Keyword>earth science</Keyword> </KeywordList> <OnlineResource xlink:type=\"simple\" xlink:href=\"http://stellwagen.er.usgs.gov/\"/> <ContactInformation> <ContactPersonPrimary> <ContactPerson>Webmaster</ContactPerson> <ContactOrganization>US Geological Survey</ContactOrganization> </ContactPersonPrimary> <ContactVoiceTelephone>(508) 457-2356</ContactVoiceTelephone> <ContactElectronicMailAddress>emontgomery@usgs.gov</ContactElectronicMailAddress> </ContactInformation> <Fees>none</Fees> <AccessConstraints>none</AccessConstraints> <LayerLimit>1</LayerLimit> <MaxWidth>2048</MaxWidth> <MaxHeight>2048</MaxHeight> </Service> <Capability> <Request> <GetCapabilities> <Format>text/xml</Format> <DCPType><HTTP><Get><OnlineResource xlink:type=\"simple\" xlink:href=\"http://stellwagen.er.usgs.gov/thredds/wms/TSdata/GB_SED/116P-AA.cdf\"/></Get></HTTP></DCPType> </GetCapabilities> <GetMap> <Format>image/png</Format> <Format>image/png;mode=32bit</Format> <Format>image/gif</Format> <Format>image/jpeg</Format> <Format>application/vnd.google-earth.kmz</Format> <DCPType><HTTP><Get><OnlineResource xlink:type=\"simple\" xlink:href=\"http://stellwagen.er.usgs.gov/thredds/wms/TSdata/GB_SED/116P-AA.cdf\"/></Get></HTTP></DCPType> </GetMap> <GetFeatureInfo> <Format>image/png</Format> <Format>text/xml</Format> <DCPType><HTTP><Get><OnlineResource xlink:type=\"simple\" xlink:href=\"http://stellwagen.er.usgs.gov/thredds/wms/TSdata/GB_SED/116P-AA.cdf\"/></Get></HTTP></DCPType> </GetFeatureInfo> </Request> <Exception> <Format>XML</Format> </Exception> <Layer> <Title>Coastal and Marine Geology THREDDS Server</Title><CRS>EPSG:4326</CRS> <CRS>CRS:84</CRS> <CRS>EPSG:41001</CRS> <CRS>EPSG:27700</CRS> <CRS>EPSG:3408</CRS> <CRS>EPSG:3409</CRS> <CRS>EPSG:3857</CRS> <CRS>EPSG:32661</CRS> <CRS>EPSG:32761</CRS> <Layer> <Title>Current meter archive data - Butman et al, Oct. 1992</Title> </Layer> </Layer> </Capability> </WMS_Capabilities>'"
      ]
     },
     "execution_count": 18,
     "metadata": {},
     "output_type": "execute_result"
    }
   ],
   "source": [
    "cleaned_content"
   ]
  },
  {
   "cell_type": "code",
   "execution_count": 29,
   "metadata": {
    "collapsed": false,
    "scrolled": true
   },
   "outputs": [
    {
     "name": "stdout",
     "output_type": "stream",
     "text": [
      "486897 []\n",
      "486898 []\n",
      "486900 []\n",
      "486903 []\n",
      "486904 []\n",
      "486906 []\n",
      "486907 []\n",
      "486908 []\n",
      "486909 []\n",
      "486910 []\n",
      "488189 []\n",
      "488190 []\n",
      "488191 []\n",
      "488192 []\n",
      "488194 []\n",
      "488195 []\n",
      "488196 []\n",
      "488198 []\n",
      "488199 []\n",
      "488200 []\n",
      "489586 []\n",
      "489533 []\n",
      "489534 []\n",
      "489535 []\n",
      "489536 []\n",
      "489538 []\n",
      "489539 []\n",
      "489541 []\n",
      "494460 []\n",
      "489543 []\n",
      "490874 []\n",
      "490875 []\n",
      "490877 []\n",
      "490878 []\n",
      "490879 []\n",
      "496348 []\n",
      "490881 []\n",
      "490882 []\n",
      "490884 []\n",
      "490885 []\n",
      "492176 []\n",
      "492177 []\n",
      "492179 []\n",
      "492180 []\n",
      "492181 []\n",
      "492182 []\n",
      "492183 []\n",
      "492188 []\n",
      "492186 []\n",
      "492187 []\n",
      "493546 []\n",
      "493548 []\n",
      "493550 []\n",
      "493552 []\n",
      "493553 []\n",
      "493554 []\n",
      "494091 []\n",
      "493555 []\n",
      "493556 []\n",
      "493558 []\n",
      "494924 []\n",
      "494926 []\n",
      "494927 []\n",
      "494928 []\n",
      "494929 []\n",
      "494930 []\n",
      "494931 []\n",
      "494932 []\n",
      "494933 []\n",
      "494934 []\n",
      "496248 [<mpp.models.BagOfWords object at 0x105a3a590>]\n",
      "496312 [<mpp.models.BagOfWords object at 0x10590a9d0>]\n",
      "496249 [<mpp.models.BagOfWords object at 0x1059a7b90>]\n",
      "496250 [<mpp.models.BagOfWords object at 0x105975190>]\n",
      "496252 [<mpp.models.BagOfWords object at 0x105975f90>]\n",
      "496253 [<mpp.models.BagOfWords object at 0x105a2c190>]\n",
      "496257 [<mpp.models.BagOfWords object at 0x105a2c6d0>]\n",
      "496258 [<mpp.models.BagOfWords object at 0x105a2c5d0>]\n",
      "496259 [<mpp.models.BagOfWords object at 0x105a2ce90>]\n",
      "496260 [<mpp.models.BagOfWords object at 0x105a7b1d0>]\n",
      "497647 []\n",
      "497688 []\n",
      "497649 []\n",
      "497652 []\n",
      "497654 []\n",
      "497655 []\n",
      "497657 []\n",
      "497658 []\n",
      "497659 []\n",
      "497660 []\n",
      "499080 []\n",
      "499082 []\n",
      "499083 []\n",
      "499085 []\n",
      "499086 []\n",
      "499087 []\n",
      "499088 []\n",
      "499089 []\n",
      "499090 []\n",
      "499091 []\n",
      "500496 []\n",
      "500497 []\n",
      "500498 []\n",
      "500499 []\n",
      "500501 []\n",
      "500503 []\n",
      "500505 []\n",
      "500506 []\n",
      "500507 []\n",
      "500509 []\n"
     ]
    }
   ],
   "source": [
    "clauses = [\n",
    "    Response.format == 'xml',\n",
    "    not_(or_(\n",
    "        Response.cleaned_content.startswith(\"<rdf\"),\n",
    "        Response.cleaned_content.startswith(\"<RDF\")\n",
    "    ))\n",
    "]\n",
    "for i in xrange(1000, 1110, 10):\n",
    "    responses = session.query(\n",
    "        Response\n",
    "    ).filter(\n",
    "        and_(*clauses)\n",
    "    ).limit(10).offset(i).all()\n",
    "\n",
    "    for response in responses:\n",
    "        print response.id, response.bags_of_words\n",
    "#         if response.bags_of_words:\n",
    "#             print 'has bag'\n",
    "#             continue\n",
    "#         print 'no bag'"
   ]
  },
  {
   "cell_type": "code",
   "execution_count": null,
   "metadata": {
    "collapsed": true
   },
   "outputs": [],
   "source": []
  }
 ],
 "metadata": {
  "kernelspec": {
   "display_name": "Python 2",
   "language": "python",
   "name": "python2"
  },
  "language_info": {
   "codemirror_mode": {
    "name": "ipython",
    "version": 2
   },
   "file_extension": ".py",
   "mimetype": "text/x-python",
   "name": "python",
   "nbconvert_exporter": "python",
   "pygments_lexer": "ipython2",
   "version": "2.7.10"
  }
 },
 "nbformat": 4,
 "nbformat_minor": 0
}
