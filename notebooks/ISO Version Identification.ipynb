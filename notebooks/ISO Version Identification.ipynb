{
 "cells": [
  {
   "cell_type": "code",
   "execution_count": null,
   "metadata": {
    "collapsed": true
   },
   "outputs": [],
   "source": [
    "How many different ways do we find to note the ISO standard and version?\n",
    "\n",
    "So for any XML reseponse, check for the version.\n",
    "\n",
    "####Notes\n",
    "\n",
    "This does not rely on any formal identification of ISO first so any XML that contains any one of the xpath structures is included. This catches ISO records embedded in something like a CSW GetRecords response. And it is only extracting the first value so, if it *is* from a CSW and each ISO within has its own version definition, we aren't capturing that (that would be odd, but wouldn't rule it out)."
   ]
  },
  {
   "cell_type": "code",
   "execution_count": 2,
   "metadata": {
    "collapsed": false
   },
   "outputs": [],
   "source": [
    "%reload_ext autoreload\n",
    "%autoreload 2\n",
    "\n",
    "import os\n",
    "import glob\n",
    "import json\n",
    "from lxml import etree\n",
    "from semproc.rawresponse import RawResponse\n",
    "from semproc.xml_utils import extract_item\n",
    "\n",
    "def convert_header_list(headers):\n",
    "    return dict(\n",
    "        (k.strip().lower(), v.strip()) for k, v in (\n",
    "            h.split(':', 1) for h in headers)\n",
    "    )"
   ]
  },
  {
   "cell_type": "code",
   "execution_count": 3,
   "metadata": {
    "collapsed": true
   },
   "outputs": [],
   "source": [
    "files = glob.glob('/Users/sparky/Documents/solr_responses/solr_20150922_docs/*.json')"
   ]
  },
  {
   "cell_type": "code",
   "execution_count": 4,
   "metadata": {
    "collapsed": true
   },
   "outputs": [],
   "source": [
    "xpaths = [\n",
    "    (['//*', 'metadataStandardName', 'CharacterString'], ['//*', 'metadataStandardVersion', 'CharacterString']),\n",
    "    (['//*', 'seriesMetadata', 'MD_Metadata', 'metadataStandardName', 'CharacterString'], ['//*', 'seriesMetadata', 'MD_Metadata', 'metadataStandardVersion', 'CharacterString']),\n",
    "    (['//*', 'seriesMetadata', 'MI_Metadata', 'metadataStandardName', 'CharacterString'], ['//*', 'seriesMetadata', 'MI_Metadata', 'metadataStandardVersion', 'CharacterString'])\n",
    "]"
   ]
  },
  {
   "cell_type": "code",
   "execution_count": 5,
   "metadata": {
    "collapsed": false
   },
   "outputs": [
    {
     "name": "stdout",
     "output_type": "stream",
     "text": [
      "FAILED  /Users/sparky/Documents/solr_responses/solr_20150922_docs/14a548cd708b8b3c1b74c47a57dd033bfaf5a7ed.json\n",
      "FAILED  /Users/sparky/Documents/solr_responses/solr_20150922_docs/2b727b1afb9381062a3f5dd05802e56ce21eeee8.json\n",
      "FAILED  /Users/sparky/Documents/solr_responses/solr_20150922_docs/3354a2bd8c334dddcb82c4cf50bc18d8619db25e.json\n",
      "FAILED  /Users/sparky/Documents/solr_responses/solr_20150922_docs/3459af68928a619ac5cc332e251ff72a62bd10d9.json\n",
      "FAILED  /Users/sparky/Documents/solr_responses/solr_20150922_docs/51bfa74c90c5cacbc46b20cd87abf86aa3a958a3.json\n",
      "FAILED  /Users/sparky/Documents/solr_responses/solr_20150922_docs/58cc1b77ccf6848cf6f66d3ad75e32efd2df9ad9.json\n",
      "FAILED  /Users/sparky/Documents/solr_responses/solr_20150922_docs/6269c3680e2d851de9bcd4e9f140783925b77890.json\n",
      "FAILED  /Users/sparky/Documents/solr_responses/solr_20150922_docs/64aa05e70dda49093c464c1973599aa25d20ecac.json\n",
      "FAILED  /Users/sparky/Documents/solr_responses/solr_20150922_docs/76d89ea59e67c23c8b16dcc65079410937eb52b5.json\n",
      "FAILED  /Users/sparky/Documents/solr_responses/solr_20150922_docs/9416102ef4049c6fe206ed5230de6ba1d5836f11.json\n",
      "FAILED  /Users/sparky/Documents/solr_responses/solr_20150922_docs/b01992606e25a4623030f3f821f80384eadd3902.json\n",
      "FAILED  /Users/sparky/Documents/solr_responses/solr_20150922_docs/c85a8f6098140571a790a744038e2eb8010e6c64.json\n",
      "FAILED  /Users/sparky/Documents/solr_responses/solr_20150922_docs/c969d6c9c4e4c9d0a794d09351b3f7d42bbbeb17.json\n",
      "FAILED  /Users/sparky/Documents/solr_responses/solr_20150922_docs/db32f2aeed1da7e20b2e32269c3f0a9f9d5fc48e.json\n",
      "FAILED  /Users/sparky/Documents/solr_responses/solr_20150922_docs/e4472a6ff6bf2df7f41abfdeb9cac1687dad8d4c.json\n",
      "FAILED  /Users/sparky/Documents/solr_responses/solr_20150922_docs/e8d45af816e5b044c37396a4769aad856875e436.json\n",
      "FAILED  /Users/sparky/Documents/solr_responses/solr_20150922_docs/ecbb9bb90be3405344db441b954b0eb1c4de1340.json\n",
      "FAILED  /Users/sparky/Documents/solr_responses/solr_20150922_docs/f32ec7a0b949cf68da706b2beb9404ad82f95cb4.json\n"
     ]
    }
   ],
   "source": [
    "versions = set()\n",
    "responses_containing_version = set()\n",
    "for f in files:\n",
    "    with open(f, 'r') as g:\n",
    "        data = json.loads(g.read())\n",
    "    \n",
    "    response = data.get('raw_content')\n",
    "    headers = convert_header_list(data.get('response_headers', []))\n",
    "    content_type = headers.get('content-type', '')\n",
    "    \n",
    "    rr = RawResponse(response, content_type)\n",
    "    try:\n",
    "        content = rr.clean_raw_content()\n",
    "    except:\n",
    "        print 'FAILED ', f\n",
    "        continue\n",
    "\n",
    "    if rr.datatype != 'xml':\n",
    "        continue\n",
    "    \n",
    "    try:\n",
    "        xml = etree.fromstring(content)\n",
    "    except:\n",
    "        continue\n",
    "        \n",
    "    for std_name, std_vsn in xpaths:\n",
    "        sn = extract_item(xml, std_name)\n",
    "        sv = extract_item(xml, std_vsn)\n",
    "        \n",
    "        if sn or sv:\n",
    "            versions.add('Standard: {0}, Version: {1}'.format(sn, sv))\n",
    "            responses_containing_version.add('File: {0}, Standard: {1}, Version: {2}'.format(f.split('/')[-1], sn, sv))\n",
    "    "
   ]
  },
  {
   "cell_type": "code",
   "execution_count": 7,
   "metadata": {
    "collapsed": false
   },
   "outputs": [
    {
     "data": {
      "text/plain": [
       "{'Standard: ANZLIC Metadata Profile: An Australian/New Zealand Profile of AS/NZS ISO 19115:2005, Geographic information - Metadata, Version: 1.1',\n",
       " 'Standard: DM - Regole tecniche RNDT, Version: 10 novembre 2011',\n",
       " 'Standard: GEMINI, Version: 2.1',\n",
       " 'Standard: Gemini, Version: 2.1',\n",
       " 'Standard: INSPIRE Implementing Rules for Metadata, Version: 1.2',\n",
       " 'Standard: ISO 19115 (UK GEMINI), Version: 1.0 (2.2)',\n",
       " 'Standard: ISO 19115 Geographic Information - Metadata, Version: 2009-02-15',\n",
       " 'Standard: ISO 19115 Geographic Information - Metadata, Version: ISO 19115',\n",
       " 'Standard: ISO 19115 Geographic information - Metadata - Converted from Data.gov legacy DMS format., Version: ISO 19115:2003(E)',\n",
       " 'Standard: ISO 19115 Geographic information - Metadata, Version: ISO 19115:2003(E)',\n",
       " 'Standard: ISO 19115 Geographic information Metadata; WISE Metadata profile, Version: 2003/Cor.1:2006',\n",
       " 'Standard: ISO 19115, Version: 2003',\n",
       " 'Standard: ISO 19115, Version: ISO 19139 / DKRZ ISO Simple Profile V1.0',\n",
       " 'Standard: ISO 19115, Version: Nederlandse metadata profiel op ISO 19115 voor geografie 1.2',\n",
       " 'Standard: ISO 19115-2 Geographic Information - Metadata - Part 2: Extensions for Imagery and Gridded Data with Biological Extensions, Version: ISO 19115-2:2009(E)',\n",
       " 'Standard: ISO 19115-2 Geographic Information - Metadata - Part 2: Extensions for Imagery and Gridded Data, Version: 2007',\n",
       " 'Standard: ISO 19115-2 Geographic Information - Metadata - Part 2: Extensions for Imagery and Gridded Data, Version: ISO 19115-2:2009(E)',\n",
       " 'Standard: ISO 19115-2 Geographic Information - Metadata - Part 2: Extensions for Imagery and Gridded Data, Version: ISO 19115-2:2013(E)',\n",
       " 'Standard: ISO 19115-2 Geographic Information - Metadata Part 2 Extensions for Imagery and Gridded Data, Version: ISO 19115-2:2009(E)',\n",
       " 'Standard: ISO 19115-2 Geographic Information - Metadata Part 2 Extensions for imagery and gridded data, Version: ISO 19115-2:2009(E)',\n",
       " 'Standard: ISO 19115-2 Geographic Information - North American Profile Metadata - Data with Biological Extensions, Version: ISO 19115-2:2009(E)',\n",
       " 'Standard: ISO 19115-2 Geographic information - Metadata - Part 2: Extensions for Imagery and Gridded Data between June 8, 2011 and July 28, 2011, Version: ISO 19115-2:2009(E)',\n",
       " 'Standard: ISO 19115-2 Geographic information - Metadata - Part 2: Extensions for Imagery and Gridded Data, Version: ISO 19115-2:2009',\n",
       " 'Standard: ISO 19115-2 Geographic information - Metadata - Part 2: Extensions for Imagery and Gridded Data, Version: ISO 19115-2:2009(E)',\n",
       " 'Standard: ISO 19115-2 Geographic information - Metadata - Part 2: Extensions for imagery and gridded data, Version: ISO 19115-2:2009-02-15',\n",
       " 'Standard: ISO 19115-2 Geographic information -- Metadata -- Part 2: Extensions for imagery and gridded data, Version: ISO 19115-2:2009-02-15',\n",
       " 'Standard: ISO 19115-2 Geographic information Metadata Part 2: Extensions for imagery and gridded data, Version: ISO 19115-2:2009-02-15',\n",
       " 'Standard: ISO 19115-2, Version: ISO 19115-2:2009(E)',\n",
       " 'Standard: ISO 19115/19139, Version: 2003/cor1:2006',\n",
       " 'Standard: ISO 19115/2003/Cor.1:2006, Version: GDI-Vlaanderen Best Practices - versie 1.0',\n",
       " 'Standard: ISO 19115/SeaDataNet profile, Version: 1.0',\n",
       " 'Standard: ISO 19115:2003 (GDI-BW), Version: 1.2',\n",
       " 'Standard: ISO 19115:2003 - Geographic information - Metadata, Version: ISO 19115:2003',\n",
       " 'Standard: ISO 19115:2003/19139, Version: 1.0',\n",
       " 'Standard: ISO 19119, Version: 2005',\n",
       " 'Standard: ISO 19139 Geographic Information - Metadata - Implementation Specification, Version: 2007',\n",
       " 'Standard: ISO 19139/19115 Metadata for Datasets, Version: 2003',\n",
       " 'Standard: ISO 19139/19119 Metadata for Web Services, Version: 2005',\n",
       " 'Standard: ISO-NAP-USGIN, Version: 1.1',\n",
       " 'Standard: ISO-NAP-USGIN, Version: 1.1.4',\n",
       " 'Standard: ISO-USGIN, Version: 1.2',\n",
       " 'Standard: ISO19115, Version: 1.0',\n",
       " 'Standard: ISO19115, Version: 2003/Cor.1:2006',\n",
       " 'Standard: ISO19119, Version: 2005/PDAM 1',\n",
       " 'Standard: MEDIN Discovery Metadata Standard, Version: 2.3.2',\n",
       " 'Standard: MEDIN Discovery Metadata Standard, Version: Version 2.3',\n",
       " 'Standard: MEDIN Discovery Metadata Standard, Version: Version 2.3.5',\n",
       " 'Standard: MEDIN Discovery Metadata Standard, Version: Version 2.3.7',\n",
       " 'Standard: MEDIN Discovery metadata standard, Version: 2.3.4',\n",
       " 'Standard: MEDIN Discovery metadata standard, Version: 2.3.7',\n",
       " 'Standard: MEDIN Discovery metadata standard, Version: 2.3.8',\n",
       " 'Standard: NAP - Metadata, Version: 1.2',\n",
       " 'Standard: NERC profile of ISO19115:2003, Version: 1.0',\n",
       " 'Standard: NERC profile of ISO19115:2003, Version: 2003(E)',\n",
       " 'Standard: NERC profile of ISO:19115:2003, Version: 1.0',\n",
       " 'Standard: North American Profile of ISO 19115 Geographic Information Metadata, Version: Enviroment Canada - Version 1',\n",
       " 'Standard: North American Profile of ISO 19115:2003 - Geographic information - Metadata, Version: CAN/CGSB-171.100-2009',\n",
       " 'Standard: North American Profile of ISO19115:2003 - Geographic information - Metadata, Version: CAN/CGSB-171.100-2009',\n",
       " 'Standard: UK GEMINI, Version: 2.1',\n",
       " 'Standard: UK GEMINI, Version: 2.2',\n",
       " 'Standard: WMO Core Metadata Profile, Version: 1.0 (draft)'}"
      ]
     },
     "execution_count": 7,
     "metadata": {},
     "output_type": "execute_result"
    }
   ],
   "source": [
    "\n",
    "versions\n"
   ]
  },
  {
   "cell_type": "code",
   "execution_count": 6,
   "metadata": {
    "collapsed": true
   },
   "outputs": [],
   "source": [
    "with open('outputs/iso_versions_by_response.txt', 'w') as f:\n",
    "    f.write('\\n'.join(responses_containing_version))"
   ]
  },
  {
   "cell_type": "code",
   "execution_count": 8,
   "metadata": {
    "collapsed": false
   },
   "outputs": [
    {
     "data": {
      "text/plain": [
       "25371"
      ]
     },
     "execution_count": 8,
     "metadata": {},
     "output_type": "execute_result"
    }
   ],
   "source": [
    "len(responses_containing_version)"
   ]
  },
  {
   "cell_type": "code",
   "execution_count": 9,
   "metadata": {
    "collapsed": false
   },
   "outputs": [
    {
     "name": "stdout",
     "output_type": "stream",
     "text": [
      "Standard: WMO Core Metadata Profile, Version: 1.0 (draft)\n",
      "Standard: MEDIN Discovery Metadata Standard, Version: Version 2.3.5\n",
      "Standard: ISO 19115 Geographic information - Metadata - Converted from Data.gov legacy DMS format., Version: ISO 19115:2003(E)\n",
      "Standard: MEDIN Discovery Metadata Standard, Version: Version 2.3.7\n",
      "Standard: ISO 19115/2003/Cor.1:2006, Version: GDI-Vlaanderen Best Practices - versie 1.0\n",
      "Standard: ISO 19115-2 Geographic Information - Metadata - Part 2: Extensions for Imagery and Gridded Data, Version: ISO 19115-2:2013(E)\n",
      "Standard: ISO 19115-2 Geographic Information - Metadata - Part 2: Extensions for Imagery and Gridded Data with Biological Extensions, Version: ISO 19115-2:2009(E)\n",
      "Standard: ISO 19115 Geographic information - Metadata, Version: ISO 19115:2003(E)\n",
      "Standard: ISO 19115-2 Geographic Information - Metadata Part 2 Extensions for imagery and gridded data, Version: ISO 19115-2:2009(E)\n",
      "Standard: Gemini, Version: 2.1\n",
      "Standard: North American Profile of ISO 19115 Geographic Information Metadata, Version: Enviroment Canada - Version 1\n",
      "Standard: NERC profile of ISO19115:2003, Version: 1.0\n",
      "Standard: UK GEMINI, Version: 2.2\n",
      "Standard: NERC profile of ISO19115:2003, Version: 2003(E)\n",
      "Standard: INSPIRE Implementing Rules for Metadata, Version: 1.2\n",
      "Standard: ISO-USGIN, Version: 1.2\n",
      "Standard: ISO19115, Version: 1.0\n",
      "Standard: ISO 19115/19139, Version: 2003/cor1:2006\n",
      "Standard: UK GEMINI, Version: 2.1\n",
      "Standard: ISO 19115-2 Geographic Information - Metadata Part 2 Extensions for Imagery and Gridded Data, Version: ISO 19115-2:2009(E)\n",
      "Standard: ISO 19115 (UK GEMINI), Version: 1.0 (2.2)\n",
      "Standard: MEDIN Discovery metadata standard, Version: 2.3.4\n",
      "Standard: ISO19119, Version: 2005/PDAM 1\n",
      "Standard: MEDIN Discovery metadata standard, Version: 2.3.7\n",
      "Standard: ISO 19139 Geographic Information - Metadata - Implementation Specification, Version: 2007\n",
      "Standard: North American Profile of ISO 19115:2003 - Geographic information - Metadata, Version: CAN/CGSB-171.100-2009\n",
      "Standard: ISO 19115, Version: Nederlandse metadata profiel op ISO 19115 voor geografie 1.2\n",
      "Standard: MEDIN Discovery metadata standard, Version: 2.3.8\n",
      "Standard: NERC profile of ISO:19115:2003, Version: 1.0\n",
      "Standard: ISO 19115:2003 - Geographic information - Metadata, Version: ISO 19115:2003\n",
      "Standard: MEDIN Discovery Metadata Standard, Version: Version 2.3\n",
      "Standard: ISO 19115-2 Geographic information -- Metadata -- Part 2: Extensions for imagery and gridded data, Version: ISO 19115-2:2009-02-15\n",
      "Standard: ISO 19115:2003 (GDI-BW), Version: 1.2\n",
      "Standard: ISO 19139/19119 Metadata for Web Services, Version: 2005\n",
      "Standard: ISO 19115 Geographic information Metadata; WISE Metadata profile, Version: 2003/Cor.1:2006\n",
      "Standard: ISO 19115/SeaDataNet profile, Version: 1.0\n",
      "Standard: ISO 19115 Geographic Information - Metadata, Version: ISO 19115\n",
      "Standard: ISO 19115-2, Version: ISO 19115-2:2009(E)\n",
      "Standard: ISO 19115-2 Geographic information - Metadata - Part 2: Extensions for imagery and gridded data, Version: ISO 19115-2:2009-02-15\n",
      "Standard: North American Profile of ISO19115:2003 - Geographic information - Metadata, Version: CAN/CGSB-171.100-2009\n",
      "Standard: ISO 19115 Geographic Information - Metadata, Version: 2009-02-15\n",
      "Standard: ISO 19119, Version: 2005\n",
      "Standard: ISO 19115-2 Geographic information - Metadata - Part 2: Extensions for Imagery and Gridded Data, Version: ISO 19115-2:2009\n",
      "Standard: ISO-NAP-USGIN, Version: 1.1\n",
      "Standard: ISO 19115, Version: 2003\n",
      "Standard: NAP - Metadata, Version: 1.2\n",
      "Standard: ISO-NAP-USGIN, Version: 1.1.4\n",
      "Standard: ISO 19115:2003/19139, Version: 1.0\n",
      "Standard: ISO 19115, Version: ISO 19139 / DKRZ ISO Simple Profile V1.0\n",
      "Standard: ANZLIC Metadata Profile: An Australian/New Zealand Profile of AS/NZS ISO 19115:2005, Geographic information - Metadata, Version: 1.1\n",
      "Standard: ISO 19115-2 Geographic information - Metadata - Part 2: Extensions for Imagery and Gridded Data, Version: ISO 19115-2:2009(E)\n",
      "Standard: GEMINI, Version: 2.1\n",
      "Standard: ISO 19115-2 Geographic Information - Metadata - Part 2: Extensions for Imagery and Gridded Data, Version: 2007\n",
      "Standard: ISO 19139/19115 Metadata for Datasets, Version: 2003\n",
      "Standard: ISO19115, Version: 2003/Cor.1:2006\n",
      "Standard: ISO 19115-2 Geographic information - Metadata - Part 2: Extensions for Imagery and Gridded Data between June 8, 2011 and July 28, 2011, Version: ISO 19115-2:2009(E)\n",
      "Standard: ISO 19115-2 Geographic Information - Metadata - Part 2: Extensions for Imagery and Gridded Data, Version: ISO 19115-2:2009(E)\n",
      "Standard: ISO 19115-2 Geographic information Metadata Part 2: Extensions for imagery and gridded data, Version: ISO 19115-2:2009-02-15\n",
      "Standard: MEDIN Discovery Metadata Standard, Version: 2.3.2\n",
      "Standard: ISO 19115-2 Geographic Information - North American Profile Metadata - Data with Biological Extensions, Version: ISO 19115-2:2009(E)\n",
      "Standard: DM - Regole tecniche RNDT, Version: 10 novembre 2011\n"
     ]
    }
   ],
   "source": [
    "for v in versions:\n",
    "    print v"
   ]
  },
  {
   "cell_type": "code",
   "execution_count": null,
   "metadata": {
    "collapsed": true
   },
   "outputs": [],
   "source": []
  }
 ],
 "metadata": {
  "kernelspec": {
   "display_name": "Python 2",
   "language": "python",
   "name": "python2"
  },
  "language_info": {
   "codemirror_mode": {
    "name": "ipython",
    "version": 2
   },
   "file_extension": ".py",
   "mimetype": "text/x-python",
   "name": "python",
   "nbconvert_exporter": "python",
   "pygments_lexer": "ipython2",
   "version": "2.7.10"
  }
 },
 "nbformat": 4,
 "nbformat_minor": 0
}
